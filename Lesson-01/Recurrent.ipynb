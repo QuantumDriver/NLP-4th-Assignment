{
 "cells": [
  {
   "cell_type": "markdown",
   "metadata": {},
   "source": [
    "### 从一个简单的语法结构开始"
   ]
  },
  {
   "cell_type": "code",
   "execution_count": 1,
   "metadata": {},
   "outputs": [],
   "source": [
    "simple_grammar = \"\"\"\n",
    "sentence => noun_phrase verb_phrase\n",
    "noun_phrase => Article Adj* noun\n",
    "Adj* => null | Adj Adj*\n",
    "verb_phrase => verb noun_phrase\n",
    "Article =>  一个 | 这个\n",
    "noun =>   女人 |  篮球 | 桌子 | 小猫\n",
    "verb => 看着   |  坐在 |  听着 | 看见\n",
    "Adj =>  蓝色的 | 可爱的 | 小小的\n",
    "\"\"\""
   ]
  },
  {
   "cell_type": "markdown",
   "metadata": {},
   "source": [
    "### 如果我们想表达某种句式结构，可以用下面这种方法"
   ]
  },
  {
   "cell_type": "code",
   "execution_count": 3,
   "metadata": {},
   "outputs": [],
   "source": [
    "import random\n",
    "\n",
    "def adj():\n",
    "    #按|这条线把字符串分割,返回成列表,random.choice随机从该列表选择一项\n",
    "    #后面那个split把文字前后空格去掉,返回列表，切片为0取出字符串\n",
    "    return random.choice('蓝色的 | 可爱的 | 小小的'.split('|')).split()[0]\n",
    "\n",
    "def adj_star():\n",
    "    #lambda代表函数，choice调用里面的函数之一，函数要想输出值须在后面加括号()\n",
    "    return random.choice([lambda : '', lambda : adj() + adj_star()])()"
   ]
  },
  {
   "cell_type": "code",
   "execution_count": 12,
   "metadata": {},
   "outputs": [
    {
     "data": {
      "text/plain": [
       "'小小的小小的蓝色的小小的'"
      ]
     },
     "execution_count": 12,
     "metadata": {},
     "output_type": "execute_result"
    }
   ],
   "source": [
    "adj_star()"
   ]
  },
  {
   "cell_type": "markdown",
   "metadata": {},
   "source": [
    "### 但问题是，如果我们改变了语法，所有的句子又得重写，这就很麻烦？\n",
    "### 有没有简单一点的方法呢？"
   ]
  },
  {
   "cell_type": "markdown",
   "metadata": {},
   "source": [
    "思路：我们可以把一个语法模型用字典的形式封装好，根据字典的值键对生成词汇，再把词汇拼接成句子"
   ]
  },
  {
   "cell_type": "code",
   "execution_count": 58,
   "metadata": {},
   "outputs": [],
   "source": [
    "#把语法模式改成字典\n",
    "def create_grammar(grammar_str, split = '=>', line_split='\\n'):\n",
    "    #为一个语法模型创建空字典\n",
    "    grammar = {}\n",
    "    #对一个已经定义好的语法进行操作，例如host,human\n",
    "    #先将每一行分开成列表\n",
    "    for line in grammar_str.split(line_split):\n",
    "        #如果某一行是空值，则继续前进到下一行\n",
    "        if not line.strip(): continue\n",
    "        #按‘=>’这个符号把每一行里面的表达式和内容划分开\n",
    "        exp, stmt = line.split(split)\n",
    "        #先把内容根据空格和竖线划分开，把表达式和内容传入字典中\n",
    "        grammar[exp.strip()] = [s.split() for s in stmt.split('|')]\n",
    "    return grammar"
   ]
  },
  {
   "cell_type": "code",
   "execution_count": 47,
   "metadata": {},
   "outputs": [
    {
     "data": {
      "text/plain": [
       "{'Adj*': [['null'], ['Adj', 'Adj*']], 'Adj': [['蓝色的'], ['好看的'], ['小小的']]}"
      ]
     },
     "execution_count": 47,
     "metadata": {},
     "output_type": "execute_result"
    }
   ],
   "source": [
    "adj_grammar = \"\"\"\n",
    "Adj* => null | Adj Adj*\n",
    "Adj =>  蓝色的 | 好看的 | 小小的\n",
    "\"\"\"\n",
    "create_grammar(adj_grammar)"
   ]
  },
  {
   "cell_type": "code",
   "execution_count": 51,
   "metadata": {},
   "outputs": [],
   "source": [
    "#取出字典的值，形成句子\n",
    "choice = random.choice\n",
    "def generate(gram, target):\n",
    "    #设置递归终止条件，如果目标不在对应的key这列中则直接返回value\n",
    "    if target not in gram:\n",
    "        return target\n",
    "    #注意choice返回的是列表中套着的列表！这个套着的列表可以对每个值递归下去,直到变成字符\n",
    "    expanded = [generate(gram,t) for t in choice(gram[target])]\n",
    "    #把expanded列表中的字符串连接起来，后面是排除Null值\n",
    "    #/n相当于一个换行的条件，如果出现则换行('\\n')\n",
    "    #这个换行是专门针对后面写的programming语句设置的条件\n",
    "    return ''.join([e if e != '/n' else '\\n' for e in expanded if e != 'null' ])\n",
    "\n",
    "# 上面那个列表生成式的正常写法\n",
    "# e for e in expanded:\n",
    "#     if e != 'null':\n",
    "#         if e != '/n':\n",
    "#             e\n",
    "#         else '\\n'"
   ]
  },
  {
   "cell_type": "code",
   "execution_count": 52,
   "metadata": {},
   "outputs": [
    {
     "data": {
      "text/plain": [
       "{'sentence': [['noun_phrase', 'verb_phrase']],\n",
       " 'noun_phrase': [['Article', 'Adj*', 'noun']],\n",
       " 'Adj*': [['null'], ['Adj', 'Adj*']],\n",
       " 'verb_phrase': [['verb', 'noun_phrase']],\n",
       " 'Article': [['一个'], ['这个']],\n",
       " 'noun': [['女人'], ['篮球'], ['桌子'], ['小猫']],\n",
       " 'verb': [['看着'], ['坐在'], ['听着'], ['看见']],\n",
       " 'Adj': [['蓝色的'], ['可爱的'], ['小小的']]}"
      ]
     },
     "execution_count": 52,
     "metadata": {},
     "output_type": "execute_result"
    }
   ],
   "source": [
    "example_grammar = create_grammar(simple_grammar)\n",
    "example_grammar"
   ]
  },
  {
   "cell_type": "code",
   "execution_count": 53,
   "metadata": {},
   "outputs": [
    {
     "data": {
      "text/plain": [
       "'这个小猫听着一个可爱的女人'"
      ]
     },
     "execution_count": 53,
     "metadata": {},
     "output_type": "execute_result"
    }
   ],
   "source": [
    "generate(gram=example_grammar,target='sentence')"
   ]
  },
  {
   "cell_type": "code",
   "execution_count": 54,
   "metadata": {},
   "outputs": [],
   "source": [
    "#在西部世界里，一个”人类“的语言可以定义为：\n",
    "\n",
    "human = \"\"\"\n",
    "human = 自己 寻找 活动\n",
    "自己 = 我 | 俺 | 我们 \n",
    "寻找 = 找找 | 想找点 \n",
    "活动 = 乐子 | 玩的\n",
    "\"\"\"\n",
    "\n",
    "#一个“接待员”的语言可以定义为\n",
    "\n",
    "host = \"\"\"\n",
    "host = 寒暄 报数 询问 业务相关 结尾 \n",
    "报数 = 我是 数字 号 ,\n",
    "数字 = 单个数字 | 数字 单个数字 \n",
    "单个数字 = 1 | 2 | 3 | 4 | 5 | 6 | 7 | 8 | 9 \n",
    "寒暄 = 称谓 打招呼 | 打招呼\n",
    "称谓 = 人称 ,\n",
    "人称 = 先生 | 女士 | 小朋友\n",
    "打招呼 = 你好 | 您好 \n",
    "询问 = 请问你要 | 您需要\n",
    "业务相关 = 玩玩 具体业务\n",
    "玩玩 = null\n",
    "具体业务 = 喝酒 | 打牌 | 打猎 | 赌博\n",
    "结尾 = 吗？\n",
    "\"\"\""
   ]
  },
  {
   "cell_type": "code",
   "execution_count": 63,
   "metadata": {},
   "outputs": [
    {
     "name": "stdout",
     "output_type": "stream",
     "text": [
      "你好我是9号,请问你要赌博吗？\n",
      "你好我是9号,您需要打牌吗？\n",
      "你好我是6号,您需要赌博吗？\n",
      "您好我是1号,您需要打牌吗？\n",
      "小朋友,您好我是7号,请问你要打猎吗？\n",
      "先生,你好我是3号,您需要打猎吗？\n",
      "女士,您好我是1号,请问你要打猎吗？\n",
      "女士,你好我是9863号,您需要赌博吗？\n",
      "您好我是8号,您需要打牌吗？\n",
      "女士,您好我是39669号,您需要赌博吗？\n",
      "我找找玩的\n",
      "俺想找点玩的\n",
      "俺想找点乐子\n",
      "我想找点玩的\n",
      "俺找找玩的\n",
      "我想找点乐子\n",
      "我想找点玩的\n",
      "俺找找乐子\n",
      "我想找点玩的\n",
      "俺想找点玩的\n"
     ]
    }
   ],
   "source": [
    "for i in range(10):\n",
    "    print(generate(gram=create_grammar(host, split = '='),target='host'))\n",
    "for i in range(10):\n",
    "    print(generate(gram=create_grammar(human, split = '='),target='human'))"
   ]
  },
  {
   "cell_type": "markdown",
   "metadata": {},
   "source": [
    "### 当我们可以自由地根据语法结构生成句子以后，又发现了另一个问题\n",
    "### 有的句子看上去很奇怪，从概率的角度来说，就是出现的次数很少\n",
    "### 这里我们引入 Language model\n",
    "\n",
    "$$ language\\_model(String) = Probability(String) \\in (0, 1) $$\n",
    "$$ Pro(w_1 w_2 w_3 w_4) = Pr(w_1 | w_2 w_3 w_ 4) * P(w2 | w_3 w_4) * Pr(w_3 | w_4) * Pr(w_4)$$ \n",
    "$$ Pro(w_1 w_2 w_3 w_4) \\sim Pr(w_1 | w_2 ) * P(w_2 | w_3 ) * Pr(w_3 | w_4) * Pr(w_4)$$ \n",
    "##### How to get $ Pro(w1 | w2 w3 w4) $ ?"
   ]
  },
  {
   "cell_type": "code",
   "execution_count": 69,
   "metadata": {},
   "outputs": [
    {
     "data": {
      "text/html": [
       "<div>\n",
       "<style scoped>\n",
       "    .dataframe tbody tr th:only-of-type {\n",
       "        vertical-align: middle;\n",
       "    }\n",
       "\n",
       "    .dataframe tbody tr th {\n",
       "        vertical-align: top;\n",
       "    }\n",
       "\n",
       "    .dataframe thead th {\n",
       "        text-align: right;\n",
       "    }\n",
       "</style>\n",
       "<table border=\"1\" class=\"dataframe\">\n",
       "  <thead>\n",
       "    <tr style=\"text-align: right;\">\n",
       "      <th></th>\n",
       "      <th>c</th>\n",
       "    </tr>\n",
       "  </thead>\n",
       "  <tbody>\n",
       "    <tr>\n",
       "      <th>0</th>\n",
       "      <td>此外自本周6月12日起除小米手机6等15款机型外其余机型已暂停更新发布含开发版体验版内测稳定...</td>\n",
       "    </tr>\n",
       "    <tr>\n",
       "      <th>1</th>\n",
       "      <td>骁龙835作为唯一通过Windows10桌面平台认证的ARM处理器高通强调不会因为只考虑性能...</td>\n",
       "    </tr>\n",
       "    <tr>\n",
       "      <th>2</th>\n",
       "      <td>此前的一加3T搭载的是3400mAh电池DashCharge快充规格为5V4A至于电池缩水可...</td>\n",
       "    </tr>\n",
       "    <tr>\n",
       "      <th>3</th>\n",
       "      <td>这是6月18日在葡萄牙中部大佩德罗冈地区拍摄的被森林大火烧毁的汽车新华社记者张立云摄</td>\n",
       "    </tr>\n",
       "    <tr>\n",
       "      <th>4</th>\n",
       "      <td>原标题44岁女子跑深圳约会网友被拒暴雨中裸身奔走深圳交警微博称昨日清晨交警发现有一女子赤裸上...</td>\n",
       "    </tr>\n",
       "  </tbody>\n",
       "</table>\n",
       "</div>"
      ],
      "text/plain": [
       "                                                   c\n",
       "0  此外自本周6月12日起除小米手机6等15款机型外其余机型已暂停更新发布含开发版体验版内测稳定...\n",
       "1  骁龙835作为唯一通过Windows10桌面平台认证的ARM处理器高通强调不会因为只考虑性能...\n",
       "2  此前的一加3T搭载的是3400mAh电池DashCharge快充规格为5V4A至于电池缩水可...\n",
       "3         这是6月18日在葡萄牙中部大佩德罗冈地区拍摄的被森林大火烧毁的汽车新华社记者张立云摄\n",
       "4  原标题44岁女子跑深圳约会网友被拒暴雨中裸身奔走深圳交警微博称昨日清晨交警发现有一女子赤裸上..."
      ]
     },
     "execution_count": 69,
     "metadata": {},
     "output_type": "execute_result"
    }
   ],
   "source": [
    "import pandas as pd\n",
    "filename = 'article_9k.txt'\n",
    "content = pd.read_csv(filename,names='c')\n",
    "content.head()"
   ]
  },
  {
   "cell_type": "code",
   "execution_count": 71,
   "metadata": {},
   "outputs": [
    {
     "data": {
      "text/plain": [
       "89609"
      ]
     },
     "execution_count": 71,
     "metadata": {},
     "output_type": "execute_result"
    }
   ],
   "source": [
    "#把每一条内容封装成列表\n",
    "articles = content['c'].tolist()\n",
    "len(articles)"
   ]
  },
  {
   "cell_type": "code",
   "execution_count": 74,
   "metadata": {},
   "outputs": [],
   "source": [
    "import re\n",
    "\n",
    "def token(string):\n",
    "    # we will learn the regular expression next course.\n",
    "    # 把字符全部取出来，不要标点\n",
    "    return re.findall('\\w+',string)"
   ]
  },
  {
   "cell_type": "code",
   "execution_count": 78,
   "metadata": {},
   "outputs": [
    {
     "data": {
      "text/plain": [
       "'此外自本周6月12日起除小米手机6等15款机型外其余机型已暂停更新发布含开发版体验版内测稳定版暂不受影响以确保工程师可以集中全部精力进行系统优化工作有人猜测这也是将精力主要用到MIUI9的研发之中MIUI8去年5月发布距今已有一年有余也是时候更新换代了当然关于MIUI9的确切信息我们还是等待官方消息'"
      ]
     },
     "execution_count": 78,
     "metadata": {},
     "output_type": "execute_result"
    }
   ],
   "source": [
    "#可以取出一条内容进行查看\n",
    "''.join(token(articles[0]))"
   ]
  },
  {
   "cell_type": "code",
   "execution_count": 80,
   "metadata": {},
   "outputs": [
    {
     "data": {
      "text/plain": [
       "'此外自本周6月12日起除小米手机6等15款机型外其余机型已暂停更新发布含开发版体验版内测稳定版暂不受影响以确保工程师可以集中全部精力进行系统优化工作有人猜测这也是将精力主要用到MIUI9的研发之中MIUI8去年5月发布距今已有一年有余也是时候更新换代了当然关于MIUI9的确切信息我们还是等待官方消息'"
      ]
     },
     "execution_count": 80,
     "metadata": {},
     "output_type": "execute_result"
    }
   ],
   "source": [
    "#把列表中每一条内容都取出，封装成列表\n",
    "articles_clean = [''.join(token(str(a))) for a in articles]\n",
    "articles_clean[0]"
   ]
  },
  {
   "cell_type": "code",
   "execution_count": 81,
   "metadata": {},
   "outputs": [
    {
     "data": {
      "text/plain": [
       "89609"
      ]
     },
     "execution_count": 81,
     "metadata": {},
     "output_type": "execute_result"
    }
   ],
   "source": [
    "len(articles_clean)"
   ]
  },
  {
   "cell_type": "code",
   "execution_count": 84,
   "metadata": {},
   "outputs": [],
   "source": [
    "#把清理好的数据放入文件中\n",
    "#注意解码之后的文件属于byte形式，要将其str化\n",
    "with open('article.txt','w') as f:\n",
    "    for a in articles_clean:\n",
    "        f.write(str(a.encode('utf-8')) + '\\n')"
   ]
  },
  {
   "cell_type": "code",
   "execution_count": 85,
   "metadata": {},
   "outputs": [
    {
     "name": "stdout",
     "output_type": "stream",
     "text": [
      "article.txt\n",
      "article_9k - å‰¯æœ¬.txt\n",
      "article_9k.txt\n",
      "Assignment-01.ipynb\n",
      "assignment-01-optional-pattern-match.ipynb\n",
      "Computer Machinery and Intelligence.pdf\n",
      "Lesson-01.ipynb\n",
      "Lesson-01.pdf\n",
      "Lesson-01-Analysis.ipynb\n",
      "Recurrent.ipynb\n",
      "è®ºæ–‡é˜…è¯»ç¬”è®°æ¨¡æ�¿.docx\n"
     ]
    }
   ],
   "source": [
    "!ls"
   ]
  },
  {
   "cell_type": "markdown",
   "metadata": {},
   "source": [
    "### 在把文本内容处理好之后，我们可以通过分词，求每个词在文章中出现概率"
   ]
  },
  {
   "cell_type": "code",
   "execution_count": 86,
   "metadata": {},
   "outputs": [],
   "source": [
    "#导入jieba分词，可以把句子分词\n",
    "import jieba\n",
    "\n",
    "def cut(string):\n",
    "    return list(jieba.cut(string))"
   ]
  },
  {
   "cell_type": "code",
   "execution_count": 89,
   "metadata": {},
   "outputs": [
    {
     "name": "stdout",
     "output_type": "stream",
     "text": [
      "0\n",
      "100\n",
      "200\n",
      "300\n",
      "400\n",
      "500\n",
      "600\n",
      "700\n",
      "800\n",
      "900\n",
      "1000\n"
     ]
    }
   ],
   "source": [
    "#因为总的内容数据量太大，这里只对1000个内容进行分词\n",
    "token_ = []\n",
    "for i ,line in enumerate(articles_clean):\n",
    "    if i % 100 == 0: print(i)\n",
    "    if i > 1000:break\n",
    "    token_ += cut(line) "
   ]
  },
  {
   "cell_type": "code",
   "execution_count": 91,
   "metadata": {},
   "outputs": [
    {
     "data": {
      "text/plain": [
       "['此外', '自', '本周', '6', '月', '12', '日起', '除', '小米', '手机']"
      ]
     },
     "execution_count": 91,
     "metadata": {},
     "output_type": "execute_result"
    }
   ],
   "source": [
    "token_[:10]"
   ]
  },
  {
   "cell_type": "code",
   "execution_count": 93,
   "metadata": {},
   "outputs": [
    {
     "data": {
      "text/plain": [
       "[('的', 23751),\n",
       " ('在', 6161),\n",
       " ('了', 5477),\n",
       " ('是', 3993),\n",
       " ('和', 3471),\n",
       " ('也', 2085),\n",
       " ('有', 2002),\n",
       " ('月', 1999),\n",
       " ('将', 1746),\n",
       " ('他', 1619)]"
      ]
     },
     "execution_count": 93,
     "metadata": {},
     "output_type": "execute_result"
    }
   ],
   "source": [
    "#导入计数器，对各个分词内容的频数进行观察\n",
    "from collections import Counter\n",
    "\n",
    "words_count = Counter(token_)\n",
    "words_count.most_common(10)"
   ]
  },
  {
   "cell_type": "code",
   "execution_count": 97,
   "metadata": {},
   "outputs": [],
   "source": [
    "import matplotlib.pyplot as plt\n",
    "import numpy as np\n",
    "%matplotlib inline"
   ]
  },
  {
   "cell_type": "code",
   "execution_count": 108,
   "metadata": {},
   "outputs": [
    {
     "data": {
      "text/plain": [
       "[<matplotlib.lines.Line2D at 0x21fd9130438>]"
      ]
     },
     "execution_count": 108,
     "metadata": {},
     "output_type": "execute_result"
    },
    {
     "data": {
      "image/png": "[encoded data removed]",
      "text/plain": [
       "<Figure size 720x216 with 2 Axes>"
      ]
     },
     "metadata": {
      "needs_background": "light"
     },
     "output_type": "display_data"
    }
   ],
   "source": [
    "frequencies = [f for w,f in words_count.most_common(100)]\n",
    "x = [i for i in range(100)]\n",
    "\n",
    "plt.figure(figsize=(10,3))\n",
    "plt.subplot(121)\n",
    "plt.plot(x, frequencies)\n",
    "plt.subplot(122)\n",
    "plt.plot(x, np.log(frequencies))"
   ]
  },
  {
   "cell_type": "code",
   "execution_count": 117,
   "metadata": {},
   "outputs": [],
   "source": [
    "#求单个词的概率\n",
    "def prob_1(word):\n",
    "    return words_count[word]/len(token_)\n",
    "\n",
    "#两个词连在一起的模式,注意左闭右开\n",
    "token_2_GRAM = [''.join(token_[i:i+2]) for i in range(len(token_[:-2]))]\n",
    "#对两个词连在一起的情况进行统计\n",
    "words_count_2 = Counter(token_2_GRAM)\n",
    "\n",
    "#求两个词连在一起的概率\n",
    "def prob_2(word1,word2):\n",
    "    if word1 + word2 in words_count_2:\n",
    "        return words_count_2[word1+word2]/len(token_2_GRAM)\n",
    "    else:\n",
    "        return 1/len(token_2_GRAM)"
   ]
  },
  {
   "cell_type": "code",
   "execution_count": 119,
   "metadata": {},
   "outputs": [
    {
     "name": "stdout",
     "output_type": "stream",
     "text": [
      "prob_1:  0.002031735942430365\n",
      "prob_2:  0.0002338209521733998\n"
     ]
    }
   ],
   "source": [
    "print('prob_1: ',prob_1('我们'))\n",
    "print('prob_2: ',prob_2('我们', '的'))"
   ]
  },
  {
   "cell_type": "markdown",
   "metadata": {},
   "source": [
    "### 这样基于每个词的概率，我们就可以得出一个句子的概率"
   ]
  },
  {
   "cell_type": "code",
   "execution_count": 123,
   "metadata": {},
   "outputs": [],
   "source": [
    "def get_prob(sentence):\n",
    "    #首先把句子分词\n",
    "    words = cut(sentence)\n",
    "    #句子概率初始化\n",
    "    sentence_prob = 1\n",
    "    for i,word in enumerate(words[:-1]):\n",
    "        next_ = words[i+1]\n",
    "        #两个词连在一起的概率\n",
    "        prob = prob_2(word,next_)\n",
    "        #一个句子里每两个词连在一起的概率全部相乘，就是这个句子的概率\n",
    "        sentence_prob *= prob\n",
    "    return sentence_prob"
   ]
  },
  {
   "cell_type": "code",
   "execution_count": 131,
   "metadata": {},
   "outputs": [
    {
     "data": {
      "text/plain": [
       "2.2701063317805805e-06"
      ]
     },
     "execution_count": 131,
     "metadata": {},
     "output_type": "execute_result"
    }
   ],
   "source": [
    "get_prob('今天天气不错')"
   ]
  },
  {
   "cell_type": "code",
   "execution_count": 132,
   "metadata": {},
   "outputs": [
    {
     "data": {
      "text/plain": [
       "5.1533827575902836e-12"
      ]
     },
     "execution_count": 132,
     "metadata": {},
     "output_type": "execute_result"
    }
   ],
   "source": [
    "get_prob('昨晚睡得不好')"
   ]
  },
  {
   "cell_type": "code",
   "execution_count": 135,
   "metadata": {},
   "outputs": [
    {
     "data": {
      "text/plain": [
       "2.655735384622883e-23"
      ]
     },
     "execution_count": 135,
     "metadata": {},
     "output_type": "execute_result"
    }
   ],
   "source": [
    "get_prob('我超级想喝一杯奶茶')"
   ]
  },
  {
   "cell_type": "code",
   "execution_count": 137,
   "metadata": {
    "scrolled": true
   },
   "outputs": [
    {
     "name": "stdout",
     "output_type": "stream",
     "text": [
      "sentence: 这个可爱的桌子看见这个女人 \n",
      " with Prob: 4.105806281951389e-34\n",
      "sentence: 这个小猫看见一个小小的女人 \n",
      " with Prob: 6.028801712166142e-29\n",
      "sentence: 这个桌子坐在这个蓝色的蓝色的蓝色的小小的小猫 \n",
      " with Prob: 8.251030647483681e-63\n",
      "sentence: 这个小小的小小的小猫看见这个可爱的蓝色的小小的可爱的女人 \n",
      " with Prob: 1.53074588655929e-72\n",
      "sentence: 一个可爱的篮球看见这个女人 \n",
      " with Prob: 8.211612563902777e-34\n",
      "sentence: 这个可爱的小小的小小的小小的可爱的小小的蓝色的可爱的篮球坐在这个小小的小猫 \n",
      " with Prob: 6.097884023702148e-95\n",
      "sentence: 一个小猫看着一个小小的蓝色的小小的女人 \n",
      " with Prob: 7.052930433138054e-46\n",
      "sentence: 一个小猫看见一个篮球 \n",
      " with Prob: 2.655735384622883e-23\n",
      "sentence: 这个小猫看着一个可爱的蓝色的篮球 \n",
      " with Prob: 4.231758259882832e-45\n",
      "sentence: 这个女人看着一个蓝色的桌子 \n",
      " with Prob: 1.3686020939837966e-34\n"
     ]
    }
   ],
   "source": [
    "for sen in [generate(gram=example_grammar,target='sentence') for i in range(10)]:\n",
    "    print('sentence: {} \\n with Prob: {}'.format(sen,get_prob(sen)))"
   ]
  },
  {
   "cell_type": "code",
   "execution_count": 138,
   "metadata": {},
   "outputs": [
    {
     "name": "stdout",
     "output_type": "stream",
     "text": [
      "明天晚上请你吃大餐，我们一起吃苹果 is more possible\n",
      "---- 今天晚上请你吃大餐，我们一起吃日料 with probility 7.269290016923483e-57\n",
      "---- 明天晚上请你吃大餐，我们一起吃苹果 with probility 7.269290016923483e-57\n",
      "真是一只好看的小猫 is more possible\n",
      "---- 真事一只好看的小猫 with probility 1.8086405136498427e-28\n",
      "---- 真是一只好看的小猫 with probility 7.967206153868651e-23\n",
      "今晚我去吃火锅 is more possible\n",
      "---- 今晚我去吃火锅 with probility 1.4038472193713484e-16\n",
      "---- 今晚火锅去吃我 with probility 5.311470769245767e-23\n",
      "养乐多绿来一杯 is more possible\n",
      "---- 洋葱奶昔来一杯 with probility 1.1698726828094571e-17\n",
      "---- 养乐多绿来一杯 with probility 5.1533827575902836e-12\n"
     ]
    }
   ],
   "source": [
    "need_compared = [\n",
    "    \"今天晚上请你吃大餐，我们一起吃日料 明天晚上请你吃大餐，我们一起吃苹果\",\n",
    "    \"真事一只好看的小猫 真是一只好看的小猫\",\n",
    "    \"今晚我去吃火锅 今晚火锅去吃我\",\n",
    "    \"洋葱奶昔来一杯 养乐多绿来一杯\"\n",
    "]\n",
    "\n",
    "for s in need_compared:\n",
    "    s1,s2 = s.split()\n",
    "    p1,p2 = get_prob(s1),get_prob(s2)\n",
    "    better = s1 if p1>p2 else s2\n",
    "    \n",
    "    print('{} is more possible'.format(better))\n",
    "    print('-'*4 + ' {} with probility {}'.format(s1, p1))\n",
    "    print('-'*4 + ' {} with probility {}'.format(s2, p2))"
   ]
  }
 ],
 "metadata": {
  "kernelspec": {
   "display_name": "Python 3",
   "language": "python",
   "name": "python3"
  },
  "language_info": {
   "codemirror_mode": {
    "name": "ipython",
    "version": 3
   },
   "file_extension": ".py",
   "mimetype": "text/x-python",
   "name": "python",
   "nbconvert_exporter": "python",
   "pygments_lexer": "ipython3",
   "version": "3.7.1"
  }
 },
 "nbformat": 4,
 "nbformat_minor": 2
}
