{
 "cells": [
  {
   "cell_type": "markdown",
   "metadata": {},
   "source": [
    "#### 0. Can you come up out 3 sceneraies which use AI methods?\n",
    "Ans: {人脸识别，语音助手，自动驾驶}\n",
    "#### 1. How do we use Github; Why do we use Jupyter and Pycharm;\n",
    "Ans: {Github可以用来托管项目代码，也可以收藏并fork别人的优质项目；Jupyter是一个浏览器类型的IDE，其交互能力与实验能力极强，所以我们用它做演示；Pycharm通常用于大型工程，拥有显示变量，断点运行，debug等优质功能}\n",
    "#### 2. What's the Probability Model?\n",
    "Ans: 我的理解是：一个用于描述事件集合中，各个事件的出现概率的数学模型，就是概率模型。\n",
    "#### 3. Can you came up with some sceneraies at which we could use Probability Model?\n",
    "Ans: 淘宝的阿里小蜜，海底捞的智能小美，苹果系统的Siri\n",
    "#### 4. Why do we use probability and what's the difficult points for programming based on parsing and pattern match?\n",
    "Ans: 使用概率模型是因为语法模型生成的句子容易出现不符合常理的句子，即不像人话的句子，这类句子在概率上来说小概率事件，所以我们可以用概率模型去排除这类不符合常理的句子，从而生成相对合理的句子。解析和模式匹配的难点在于，当遇到大规模数据时，处理的数据量太大，要耗费大量的时间和电脑内存。\n",
    "#### 5. What's the Language Model;\n",
    "Ans: 语言模型就是一个特殊的概率模型，它可以利用分词和条件概率去计算由分词构成的句子出现的概率，也就是判断一句话是否是人话的概率。\n",
    "#### 6. Can you came up with some sceneraies at which we could use Language Model?\n",
    "Ans: 机器翻译，自动问答，中文分词等\n",
    "#### 7. What's the 1-gram language model;\n",
    "Ans: 1-gram 模型就是把句子拆分成一个一个的分词，然后计算这些分词同时出现的概率的模型。\n",
    "#### 8. What's the disadvantages and advantages of 1-gram language model;\n",
    "Ans: 1-gram的缺点就是忽略了词跟词之间的联系，很多时候两个词之间并不是互相独立的。\n",
    "#### 9. What't the 2-gram models;\n",
    "Ans: 2-gram 模型就是把句子拆成两个两个的词，这里的两个是一种平滑序列，比如说12345可以拆成 12 23 34 45，然后计算它们同时出现的概率，这就是2-gram模型。\n",
    "\n"
   ]
  }
 ],
 "metadata": {
  "kernelspec": {
   "display_name": "Python 3",
   "language": "python",
   "name": "python3"
  },
  "language_info": {
   "codemirror_mode": {
    "name": "ipython",
    "version": 3
   },
   "file_extension": ".py",
   "mimetype": "text/x-python",
   "name": "python",
   "nbconvert_exporter": "python",
   "pygments_lexer": "ipython3",
   "version": "3.7.1"
  }
 },
 "nbformat": 4,
 "nbformat_minor": 2
}
