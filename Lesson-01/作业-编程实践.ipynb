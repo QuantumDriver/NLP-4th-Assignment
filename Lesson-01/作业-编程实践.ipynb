{
 "cells": [
  {
   "cell_type": "code",
   "execution_count": 247,
   "metadata": {},
   "outputs": [],
   "source": [
    "urge_debt = \"\"\"\n",
    "sentence = 介绍 问责 威胁 \n",
    "介绍 = 招呼 头衔 \n",
    "招呼 = 先生你好 | 女士你好 | 你好\n",
    "头衔 = 引入 公司 \n",
    "引入 = 我这边是 | 这里是 | 我来自\n",
    "公司 = 长颈鹿金融公司。 | 大猩猩贷款集团。 | 非洲豹风控分部。 | 小青龙借贷中心。 | 皮皮猪贷款平台。\n",
    "问责 = 证据 欠款  \n",
    "证据 = 资料显示 | 证据表明 | 我们查到\n",
    "欠款 = 说明 金额 天数 \n",
    "说明 = 你欠了我们 | 你的欠款是 | 你需要还给我们\n",
    "金额 = 十万， | 一百万， | 两千万， | 两毛钱，\n",
    "天数 = 已经十天了。 | 都过去一年了。 | 逾期时间两年。\n",
    "威胁 = 威逼 | 利诱\n",
    "威逼 = 诘问 手段 暴力\n",
    "诘问 = 你怎么回事？ | 还能不能还钱了？ | 有钱花没钱还吗？\n",
    "手段 = 信不信扣你征信分？ |  等会给你妈打电话！  |  我知道你住在哪！\n",
    "暴力 =  就问你怕不怕！ | 赶紧给我还钱！\n",
    "利诱 = 时间 奖励 温柔\n",
    "时间 = 现在还钱 | 即刻还款 | 马上结清款项\n",
    "奖励 = 诱导 项目 \n",
    "诱导 = 有机会获得 | 可以抽取 | 可以领取\n",
    "项目 = 精神病院一日游哦。 | 终身残障协会会员哦。 | 一套人工智障课程哈。\n",
    "温柔 = 你看怎么样? | 考虑一下呗~ | 这一波怎么说?\n",
    "\"\"\""
   ]
  },
  {
   "cell_type": "code",
   "execution_count": 94,
   "metadata": {},
   "outputs": [],
   "source": [
    "refuse_money = \"\"\"\n",
    "sentence = 扯皮 | 硬刚\n",
    "扯皮 = 语气 道歉 理由 自夸 动作\n",
    "语气 = 哎呀！ | 哦哦哦！ | 噢哟！\n",
    "道歉 = 不好意思兄弟， |  实在对不住， | 真是对不起，\n",
    "理由 = 这段时间忙不小心给忘了。 | 前段时间去南极出差给耽搁了。 | 我在马里亚纳这里没WIFI。\n",
    "自夸 = 鄙人家财万贯 | 我乃名门之后， | 不过我这个人最讲诚信了，\n",
    "动作 = 我马上就还你！ |  稍等片刻给你打钱。  |  等会就去处理这笔款项。\n",
    "硬刚 = 不屑 蛮横 说谎 耍赖\n",
    "不屑 = 呸！ |  滚！ | 一边去！\n",
    "蛮横 = 骗子！ |  脑残吧你！  | 哪里来的傻逼！\n",
    "说谎 = 在下从不欠钱。 |  你打错了。  |  不懂你在说什么。\n",
    "耍赖 = 我挂了。 |  我报警了。  |  我还有事。\n",
    "\"\"\""
   ]
  },
  {
   "cell_type": "code",
   "execution_count": 227,
   "metadata": {},
   "outputs": [],
   "source": [
    "import random \n",
    "\n",
    "def create_grammar(grammar_str, split = '=', line_split = '\\n'):\n",
    "    grammar = {}\n",
    "    for line in grammar_str.split(line_split):\n",
    "        if not line.strip(): continue\n",
    "        exp, stmt = line.split(split)\n",
    "        grammar[exp.strip()] = [s.split() for s in stmt.split(\"|\")]\n",
    "    return grammar\n",
    "\n",
    "choice = random.choice\n",
    "\n",
    "def generate_n(gram,target,n=1):\n",
    "    if n ==1:\n",
    "        if target not in gram:\n",
    "            return target\n",
    "        expanded = [generate(gram,t) for t in choice(gram[target])]\n",
    "        return ''.join([e for e in expanded])\n",
    "    else:\n",
    "        for i in range(n):\n",
    "            if target not in gram:\n",
    "                return target\n",
    "            expanded = [generate(gram,t) for t in choice(gram[target])]\n",
    "            print(''.join([e for e in expanded]))"
   ]
  },
  {
   "cell_type": "code",
   "execution_count": 229,
   "metadata": {},
   "outputs": [
    {
     "name": "stdout",
     "output_type": "stream",
     "text": [
      "女士你好我来自大猩猩贷款集团。我们查到你需要还给我们一百万，逾期时间两年。你怎么回事？信不信扣你征信分？就问你怕不怕！\n",
      "你好这里是皮皮猪贷款平台。我们查到你欠了我们十万，逾期时间两年。即刻还款可以领取一套人工智障课程哈。这一波怎么说\n",
      "女士你好我这边是小青龙借贷中心。证据表明你欠了我们两毛钱，已经十天了。现在还钱可以抽取一套人工智障课程哈。考虑一下呗\n"
     ]
    }
   ],
   "source": [
    "generate_n(gram = urge, target = 'sentence',n=3)"
   ]
  },
  {
   "cell_type": "code",
   "execution_count": 249,
   "metadata": {},
   "outputs": [
    {
     "name": "stdout",
     "output_type": "stream",
     "text": [
      "你好这里是长颈鹿金融公司。证据表明你的欠款是两毛钱，已经十天了。现在还钱有机会获得精神病院一日游哦。考虑一下呗~\n",
      "呸！脑残吧你！你打错了。我还有事。\n",
      "-*-*-*-*-*-*-*-*-*-*-*-*-*-*-*-*-*-*-*-*-*-*-*-*-*-*-*-*-*-*-*-*-*-*-*-*-*-*-*-*-*-*-*-*-*-*-*-*-*-*-*-*-*-*-*-*-*-*-*-*\n",
      "先生你好我来自大猩猩贷款集团。资料显示你欠了我们两毛钱，都过去一年了。马上结清款项可以领取精神病院一日游哦。这一波怎么说?\n",
      "哎呀！不好意思兄弟，前段时间去南极出差给耽搁了。不过我这个人最讲诚信了，等会就去处理这笔款项。\n",
      "-*-*-*-*-*-*-*-*-*-*-*-*-*-*-*-*-*-*-*-*-*-*-*-*-*-*-*-*-*-*-*-*-*-*-*-*-*-*-*-*-*-*-*-*-*-*-*-*-*-*-*-*-*-*-*-*-*-*-*-*\n",
      "先生你好这里是非洲豹风控分部。证据表明你欠了我们十万，逾期时间两年。还能不能还钱了？我知道你住在哪！就问你怕不怕！\n",
      "哎呀！不好意思兄弟，前段时间去南极出差给耽搁了。鄙人家财万贯我马上就还你！\n",
      "-*-*-*-*-*-*-*-*-*-*-*-*-*-*-*-*-*-*-*-*-*-*-*-*-*-*-*-*-*-*-*-*-*-*-*-*-*-*-*-*-*-*-*-*-*-*-*-*-*-*-*-*-*-*-*-*-*-*-*-*\n",
      "你好这里是小青龙借贷中心。我们查到你需要还给我们一百万，都过去一年了。还能不能还钱了？我知道你住在哪！赶紧给我还钱！\n",
      "呸！脑残吧你！在下从不欠钱。我挂了。\n",
      "-*-*-*-*-*-*-*-*-*-*-*-*-*-*-*-*-*-*-*-*-*-*-*-*-*-*-*-*-*-*-*-*-*-*-*-*-*-*-*-*-*-*-*-*-*-*-*-*-*-*-*-*-*-*-*-*-*-*-*-*\n",
      "女士你好我这边是大猩猩贷款集团。资料显示你的欠款是一百万，都过去一年了。即刻还款可以领取一套人工智障课程哈。考虑一下呗~\n",
      "噢哟！不好意思兄弟，这段时间忙不小心给忘了。鄙人家财万贯等会就去处理这笔款项。\n",
      "-*-*-*-*-*-*-*-*-*-*-*-*-*-*-*-*-*-*-*-*-*-*-*-*-*-*-*-*-*-*-*-*-*-*-*-*-*-*-*-*-*-*-*-*-*-*-*-*-*-*-*-*-*-*-*-*-*-*-*-*\n",
      "先生你好我这边是小青龙借贷中心。证据表明你欠了我们两千万，都过去一年了。现在还钱可以领取终身残障协会会员哦。你看怎么样?\n",
      "噢哟！真是对不起，前段时间去南极出差给耽搁了。鄙人家财万贯我马上就还你！\n",
      "-*-*-*-*-*-*-*-*-*-*-*-*-*-*-*-*-*-*-*-*-*-*-*-*-*-*-*-*-*-*-*-*-*-*-*-*-*-*-*-*-*-*-*-*-*-*-*-*-*-*-*-*-*-*-*-*-*-*-*-*\n",
      "女士你好我这边是皮皮猪贷款平台。我们查到你需要还给我们两千万，都过去一年了。现在还钱有机会获得一套人工智障课程哈。这一波怎么说?\n",
      "呸！哪里来的傻逼！不懂你在说什么。我挂了。\n",
      "-*-*-*-*-*-*-*-*-*-*-*-*-*-*-*-*-*-*-*-*-*-*-*-*-*-*-*-*-*-*-*-*-*-*-*-*-*-*-*-*-*-*-*-*-*-*-*-*-*-*-*-*-*-*-*-*-*-*-*-*\n",
      "先生你好这里是非洲豹风控分部。证据表明你的欠款是两千万，逾期时间两年。有钱花没钱还吗？我知道你住在哪！赶紧给我还钱！\n",
      "一边去！脑残吧你！不懂你在说什么。我还有事。\n",
      "-*-*-*-*-*-*-*-*-*-*-*-*-*-*-*-*-*-*-*-*-*-*-*-*-*-*-*-*-*-*-*-*-*-*-*-*-*-*-*-*-*-*-*-*-*-*-*-*-*-*-*-*-*-*-*-*-*-*-*-*\n",
      "你好我这边是大猩猩贷款集团。证据表明你需要还给我们两毛钱，已经十天了。即刻还款有机会获得精神病院一日游哦。这一波怎么说?\n",
      "哦哦哦！实在对不住，这段时间忙不小心给忘了。不过我这个人最讲诚信了，等会就去处理这笔款项。\n",
      "-*-*-*-*-*-*-*-*-*-*-*-*-*-*-*-*-*-*-*-*-*-*-*-*-*-*-*-*-*-*-*-*-*-*-*-*-*-*-*-*-*-*-*-*-*-*-*-*-*-*-*-*-*-*-*-*-*-*-*-*\n",
      "先生你好我来自非洲豹风控分部。资料显示你欠了我们十万，逾期时间两年。即刻还款有机会获得一套人工智障课程哈。考虑一下呗~\n",
      "一边去！哪里来的傻逼！在下从不欠钱。我报警了。\n",
      "-*-*-*-*-*-*-*-*-*-*-*-*-*-*-*-*-*-*-*-*-*-*-*-*-*-*-*-*-*-*-*-*-*-*-*-*-*-*-*-*-*-*-*-*-*-*-*-*-*-*-*-*-*-*-*-*-*-*-*-*\n"
     ]
    }
   ],
   "source": [
    "urge = create_grammar(urge_debt)\n",
    "refuse = create_grammar(refuse_money)\n",
    "for i in range(10):\n",
    "    print(generate_n(gram = urge, target = 'sentence',n=1))\n",
    "    print(generate_n(gram = refuse, target = 'sentence',n=1))\n",
    "    print('-*-*'*30)"
   ]
  },
  {
   "cell_type": "code",
   "execution_count": 105,
   "metadata": {},
   "outputs": [],
   "source": [
    "import pandas as pd\n",
    "filename1 = 'movie_comments.csv'\n",
    "filename2 = 'train.txt'"
   ]
  },
  {
   "cell_type": "code",
   "execution_count": 140,
   "metadata": {},
   "outputs": [
    {
     "name": "stderr",
     "output_type": "stream",
     "text": [
      "C:\\ProgramData\\Anaconda3\\lib\\site-packages\\IPython\\core\\interactiveshell.py:3020: DtypeWarning: Columns (0,4) have mixed types. Specify dtype option on import or set low_memory=False.\n",
      "  interactivity=interactivity, compiler=compiler, result=result)\n"
     ]
    },
    {
     "data": {
      "text/html": [
       "<div>\n",
       "<style scoped>\n",
       "    .dataframe tbody tr th:only-of-type {\n",
       "        vertical-align: middle;\n",
       "    }\n",
       "\n",
       "    .dataframe tbody tr th {\n",
       "        vertical-align: top;\n",
       "    }\n",
       "\n",
       "    .dataframe thead th {\n",
       "        text-align: right;\n",
       "    }\n",
       "</style>\n",
       "<table border=\"1\" class=\"dataframe\">\n",
       "  <thead>\n",
       "    <tr style=\"text-align: right;\">\n",
       "      <th></th>\n",
       "      <th>id</th>\n",
       "      <th>link</th>\n",
       "      <th>name</th>\n",
       "      <th>comment</th>\n",
       "      <th>star</th>\n",
       "    </tr>\n",
       "  </thead>\n",
       "  <tbody>\n",
       "    <tr>\n",
       "      <th>0</th>\n",
       "      <td>1</td>\n",
       "      <td>https://movie.douban.com/subject/26363254/</td>\n",
       "      <td>战狼2</td>\n",
       "      <td>吴京意淫到了脑残的地步，看了恶心想吐</td>\n",
       "      <td>1</td>\n",
       "    </tr>\n",
       "    <tr>\n",
       "      <th>1</th>\n",
       "      <td>2</td>\n",
       "      <td>https://movie.douban.com/subject/26363254/</td>\n",
       "      <td>战狼2</td>\n",
       "      <td>首映礼看的。太恐怖了这个电影，不讲道理的，完全就是吴京在实现他这个小粉红的英雄梦。各种装备轮...</td>\n",
       "      <td>2</td>\n",
       "    </tr>\n",
       "    <tr>\n",
       "      <th>2</th>\n",
       "      <td>3</td>\n",
       "      <td>https://movie.douban.com/subject/26363254/</td>\n",
       "      <td>战狼2</td>\n",
       "      <td>吴京的炒作水平不输冯小刚，但小刚至少不会用主旋律来炒作…吴京让人看了不舒服，为了主旋律而主旋...</td>\n",
       "      <td>2</td>\n",
       "    </tr>\n",
       "    <tr>\n",
       "      <th>3</th>\n",
       "      <td>4</td>\n",
       "      <td>https://movie.douban.com/subject/26363254/</td>\n",
       "      <td>战狼2</td>\n",
       "      <td>凭良心说，好看到不像《战狼1》的续集，完虐《湄公河行动》。</td>\n",
       "      <td>4</td>\n",
       "    </tr>\n",
       "    <tr>\n",
       "      <th>4</th>\n",
       "      <td>5</td>\n",
       "      <td>https://movie.douban.com/subject/26363254/</td>\n",
       "      <td>战狼2</td>\n",
       "      <td>中二得很</td>\n",
       "      <td>1</td>\n",
       "    </tr>\n",
       "  </tbody>\n",
       "</table>\n",
       "</div>"
      ],
      "text/plain": [
       "  id                                        link name  \\\n",
       "0  1  https://movie.douban.com/subject/26363254/  战狼2   \n",
       "1  2  https://movie.douban.com/subject/26363254/  战狼2   \n",
       "2  3  https://movie.douban.com/subject/26363254/  战狼2   \n",
       "3  4  https://movie.douban.com/subject/26363254/  战狼2   \n",
       "4  5  https://movie.douban.com/subject/26363254/  战狼2   \n",
       "\n",
       "                                             comment star  \n",
       "0                                 吴京意淫到了脑残的地步，看了恶心想吐    1  \n",
       "1  首映礼看的。太恐怖了这个电影，不讲道理的，完全就是吴京在实现他这个小粉红的英雄梦。各种装备轮...    2  \n",
       "2  吴京的炒作水平不输冯小刚，但小刚至少不会用主旋律来炒作…吴京让人看了不舒服，为了主旋律而主旋...    2  \n",
       "3                      凭良心说，好看到不像《战狼1》的续集，完虐《湄公河行动》。    4  \n",
       "4                                               中二得很    1  "
      ]
     },
     "execution_count": 140,
     "metadata": {},
     "output_type": "execute_result"
    }
   ],
   "source": [
    "content1 = pd.read_csv(filename1,encoding = 'utf-8',error_bad_lines=False)\n",
    "content1.head()"
   ]
  },
  {
   "cell_type": "code",
   "execution_count": 107,
   "metadata": {},
   "outputs": [
    {
     "data": {
      "text/html": [
       "<div>\n",
       "<style scoped>\n",
       "    .dataframe tbody tr th:only-of-type {\n",
       "        vertical-align: middle;\n",
       "    }\n",
       "\n",
       "    .dataframe tbody tr th {\n",
       "        vertical-align: top;\n",
       "    }\n",
       "\n",
       "    .dataframe thead th {\n",
       "        text-align: right;\n",
       "    }\n",
       "</style>\n",
       "<table border=\"1\" class=\"dataframe\">\n",
       "  <thead>\n",
       "    <tr style=\"text-align: right;\">\n",
       "      <th></th>\n",
       "      <th>c</th>\n",
       "    </tr>\n",
       "  </thead>\n",
       "  <tbody>\n",
       "    <tr>\n",
       "      <th>0</th>\n",
       "      <td>0 ++$++ disability-insurance ++$++ 法律要求残疾保险吗？ ...</td>\n",
       "    </tr>\n",
       "    <tr>\n",
       "      <th>1</th>\n",
       "      <td>1 ++$++ life-insurance ++$++ 债权人可以在死后人寿保险吗？ ++...</td>\n",
       "    </tr>\n",
       "    <tr>\n",
       "      <th>2</th>\n",
       "      <td>2 ++$++ renters-insurance ++$++ 旅行者保险有租赁保险吗？ +...</td>\n",
       "    </tr>\n",
       "    <tr>\n",
       "      <th>3</th>\n",
       "      <td>3 ++$++ auto-insurance ++$++ 我可以开一辆没有保险的新车吗？ +...</td>\n",
       "    </tr>\n",
       "    <tr>\n",
       "      <th>4</th>\n",
       "      <td>4 ++$++ life-insurance ++$++ 人寿保险的现金转出价值是否应纳税？...</td>\n",
       "    </tr>\n",
       "  </tbody>\n",
       "</table>\n",
       "</div>"
      ],
      "text/plain": [
       "                                                   c\n",
       "0  0 ++$++ disability-insurance ++$++ 法律要求残疾保险吗？ ...\n",
       "1  1 ++$++ life-insurance ++$++ 债权人可以在死后人寿保险吗？ ++...\n",
       "2  2 ++$++ renters-insurance ++$++ 旅行者保险有租赁保险吗？ +...\n",
       "3  3 ++$++ auto-insurance ++$++ 我可以开一辆没有保险的新车吗？ +...\n",
       "4  4 ++$++ life-insurance ++$++ 人寿保险的现金转出价值是否应纳税？..."
      ]
     },
     "execution_count": 107,
     "metadata": {},
     "output_type": "execute_result"
    }
   ],
   "source": [
    "content2 = pd.read_csv(filename2,names ='c',error_bad_lines=False)\n",
    "content2.head()"
   ]
  },
  {
   "cell_type": "code",
   "execution_count": 141,
   "metadata": {},
   "outputs": [],
   "source": [
    "articles1 = content1['comment'].tolist()"
   ]
  },
  {
   "cell_type": "code",
   "execution_count": 110,
   "metadata": {},
   "outputs": [
    {
     "data": {
      "text/plain": [
       "261497"
      ]
     },
     "execution_count": 110,
     "metadata": {},
     "output_type": "execute_result"
    }
   ],
   "source": [
    "len(articles1)"
   ]
  },
  {
   "cell_type": "code",
   "execution_count": 111,
   "metadata": {},
   "outputs": [
    {
     "data": {
      "text/plain": [
       "12889"
      ]
     },
     "execution_count": 111,
     "metadata": {},
     "output_type": "execute_result"
    }
   ],
   "source": [
    "articles2 = content2['c'].tolist()\n",
    "len(articles2)"
   ]
  },
  {
   "cell_type": "code",
   "execution_count": 123,
   "metadata": {},
   "outputs": [],
   "source": [
    "import re\n",
    "\n",
    "def token(string):\n",
    "    return re.findall('\\w+',string)\n",
    "def chinese(string):\n",
    "    return re.sub(\"[A-Za-z0-9\\!\\%\\[\\]\\,\\。]\", \"\", string)"
   ]
  },
  {
   "cell_type": "code",
   "execution_count": 125,
   "metadata": {},
   "outputs": [
    {
     "data": {
      "text/plain": [
       "'吴京意淫到了脑残的地步看了恶心想吐'"
      ]
     },
     "execution_count": 125,
     "metadata": {},
     "output_type": "execute_result"
    }
   ],
   "source": [
    "''.join(token(articles1[0]))"
   ]
  },
  {
   "cell_type": "code",
   "execution_count": 124,
   "metadata": {},
   "outputs": [
    {
     "data": {
      "text/plain": [
       "'法律要求残疾保险吗'"
      ]
     },
     "execution_count": 124,
     "metadata": {},
     "output_type": "execute_result"
    }
   ],
   "source": [
    "chinese(''.join(token(articles2[0])))"
   ]
  },
  {
   "cell_type": "code",
   "execution_count": 142,
   "metadata": {},
   "outputs": [
    {
     "data": {
      "text/plain": [
       "'吴京意淫到了脑残的地步看了恶心想吐'"
      ]
     },
     "execution_count": 142,
     "metadata": {},
     "output_type": "execute_result"
    }
   ],
   "source": [
    "articles1_clean = [''.join(token(str(a))) for a in articles1]\n",
    "articles1_clean[0]"
   ]
  },
  {
   "cell_type": "code",
   "execution_count": 127,
   "metadata": {},
   "outputs": [
    {
     "data": {
      "text/plain": [
       "'法律要求残疾保险吗'"
      ]
     },
     "execution_count": 127,
     "metadata": {},
     "output_type": "execute_result"
    }
   ],
   "source": [
    "articles2_clean = [chinese(''.join(token(str(a)))) for a in articles2]\n",
    "articles2_clean[0]"
   ]
  },
  {
   "cell_type": "code",
   "execution_count": 128,
   "metadata": {},
   "outputs": [
    {
     "name": "stdout",
     "output_type": "stream",
     "text": [
      "261497 12889\n"
     ]
    }
   ],
   "source": [
    "print(len(articles1_clean),len(articles2_clean))"
   ]
  },
  {
   "cell_type": "code",
   "execution_count": 149,
   "metadata": {},
   "outputs": [],
   "source": [
    "with open('movie.txt','w',encoding = 'utf-8') as f:\n",
    "    for a in articles1_clean:\n",
    "        f.write(str(a) + '\\n')    \n",
    "\n",
    "with open('insurance.txt','w',encoding = 'utf-8') as fi:\n",
    "    for a in articles2_clean:\n",
    "        fi.write(str(a) + '\\n') \n",
    "#.encode('gb18030')\n",
    "#.encode('utf-8')"
   ]
  },
  {
   "cell_type": "code",
   "execution_count": 145,
   "metadata": {},
   "outputs": [],
   "source": [
    "import jieba\n",
    "\n",
    "def cut(string):\n",
    "    return list(jieba.cut(string))"
   ]
  },
  {
   "cell_type": "code",
   "execution_count": 172,
   "metadata": {},
   "outputs": [],
   "source": [
    "token1_ = []\n",
    "token2_ = []\n",
    "\n",
    "for i, line in enumerate((open('movie.txt',encoding = 'utf-8'))):\n",
    "    token1_ += cut(line.rstrip('\\n'))\n",
    "\n",
    "for i, line in enumerate((open('insurance.txt',encoding = 'utf-8'))):\n",
    "    token2_ += cut(line.rstrip('\\n'))"
   ]
  },
  {
   "cell_type": "code",
   "execution_count": 173,
   "metadata": {},
   "outputs": [
    {
     "data": {
      "text/plain": [
       "['吴京', '意淫', '到', '了', '脑残', '的', '地步', '看', '了', '恶心']"
      ]
     },
     "execution_count": 173,
     "metadata": {},
     "output_type": "execute_result"
    }
   ],
   "source": [
    "token1_[:10]"
   ]
  },
  {
   "cell_type": "code",
   "execution_count": 174,
   "metadata": {},
   "outputs": [
    {
     "data": {
      "text/plain": [
       "['法律', '要求', '残疾', '保险', '吗', '债权人', '可以', '在', '死', '后']"
      ]
     },
     "execution_count": 174,
     "metadata": {},
     "output_type": "execute_result"
    }
   ],
   "source": [
    "token2_[:10]"
   ]
  },
  {
   "cell_type": "code",
   "execution_count": 175,
   "metadata": {},
   "outputs": [],
   "source": [
    "from collections import Counter\n",
    "import matplotlib.pyplot as plt\n",
    "import numpy as np\n",
    "%matplotlib inline"
   ]
  },
  {
   "cell_type": "code",
   "execution_count": 177,
   "metadata": {},
   "outputs": [
    {
     "name": "stdout",
     "output_type": "stream",
     "text": [
      "[('的', 328262), ('了', 102420), ('是', 73106), ('我', 50338), ('都', 36255)]\n",
      "[('保险', 5013), ('的', 3219), ('人寿保险', 2961), ('什么', 2677), ('吗', 2479)]\n"
     ]
    }
   ],
   "source": [
    "words_count_1 = Counter(token1_)\n",
    "words_count_2 = Counter(token2_)\n",
    "print(words_count_1.most_common(5))\n",
    "print(words_count_2.most_common(5))"
   ]
  },
  {
   "cell_type": "code",
   "execution_count": 189,
   "metadata": {},
   "outputs": [
    {
     "data": {
      "text/plain": [
       "[<matplotlib.lines.Line2D at 0x168b382ce10>]"
      ]
     },
     "execution_count": 189,
     "metadata": {},
     "output_type": "execute_result"
    },
    {
     "data": {
      "image/png": "[encoded data removed]",
      "text/plain": [
       "<Figure size 720x720 with 4 Axes>"
      ]
     },
     "metadata": {},
     "output_type": "display_data"
    }
   ],
   "source": [
    "freq1 = [f for w,f in words_count_1.most_common(100)]\n",
    "freq2 = [f for w,f in words_count_2.most_common(100)]\n",
    "x = [i for i in range(100)]\n",
    "\n",
    "plt.figure(figsize = (10,10))\n",
    "plt.style.use('ggplot')\n",
    "\n",
    "plt.subplot(221)\n",
    "plt.plot(x,freq1)\n",
    "plt.subplot(222)\n",
    "plt.plot(x,np.log(freq1))\n",
    "plt.subplot(223)\n",
    "plt.plot(x,freq2)\n",
    "plt.subplot(224)\n",
    "plt.plot(x,np.log(freq2))"
   ]
  },
  {
   "cell_type": "code",
   "execution_count": 196,
   "metadata": {},
   "outputs": [],
   "source": [
    "def prob_1(category,word):\n",
    "    if category == 1:\n",
    "        return words_count_1[word]/len(token1_)\n",
    "    else:\n",
    "        return words_count_2[word]/len(token2_)\n",
    "\n",
    "token1_2gram = [''.join(token1_[i:i+2]) for i in range(len(token1_[:-2]))]\n",
    "token2_2gram = [''.join(token2_[i:i+2]) for i in range(len(token2_[:-2]))]\n",
    "\n",
    "words_count_1_2gram = Counter(token1_2gram)\n",
    "words_count_2_2gram = Counter(token2_2gram)\n",
    "\n",
    "def prob_2(category,word1,word2):\n",
    "    if category == 1:\n",
    "        if word1 + word2 in words_count_1_2gram:\n",
    "            return words_count_1_2gram[word1 + word2]/len(token1_2gram)\n",
    "        else:\n",
    "            return 1/len(token1_2gram)\n",
    "    else:\n",
    "        if word1 + word2 in words_count_2_2gram:\n",
    "            return words_count_2_2gram[word1 + word2]/len(token2_2gram)\n",
    "        else:\n",
    "            return 1/len(token2_2gram)"
   ]
  },
  {
   "cell_type": "code",
   "execution_count": null,
   "metadata": {},
   "outputs": [],
   "source": []
  },
  {
   "cell_type": "code",
   "execution_count": 207,
   "metadata": {},
   "outputs": [
    {
     "name": "stdout",
     "output_type": "stream",
     "text": [
      "0.011210354378414155 \n",
      " 0.027602449364107395 \n",
      " 0.00013807506874245458 \n",
      " 0.00017495928831944875\n"
     ]
    }
   ],
   "source": [
    "print(prob_1(1,'我'),'\\n',\n",
    "prob_1(2,'我'),'\\n',\n",
    "prob_2(1,'我们','的'),'\\n',\n",
    "prob_2(2,'我们','的'))"
   ]
  },
  {
   "cell_type": "code",
   "execution_count": 209,
   "metadata": {},
   "outputs": [],
   "source": [
    "def get_prob(n,sentence):\n",
    "    words = cut(sentence)\n",
    "    sentence_prob = 1\n",
    "    for i,word in enumerate(words[:-1]):\n",
    "        next_ = words[i+1]\n",
    "        prob = prob_2(n,word,next_)\n",
    "        sentence_prob *= prob\n",
    "    return sentence_prob"
   ]
  },
  {
   "cell_type": "code",
   "execution_count": 211,
   "metadata": {},
   "outputs": [
    {
     "name": "stdout",
     "output_type": "stream",
     "text": [
      "2.2270172377815255e-07 \n",
      " 1.345840679380375e-05 \n",
      " 1.9838423109504223e-13 \n",
      " 1.8112871342750291e-10 \n",
      "\n"
     ]
    }
   ],
   "source": [
    "print(get_prob(1,'今天天气不错'),'\\n',\n",
    "      get_prob(2,'今天天气不错'),'\\n',\n",
    "      get_prob(1,'晚上去吃火锅'),'\\n',\n",
    "      get_prob(2,'晚上去吃火锅'),'\\n')"
   ]
  },
  {
   "cell_type": "code",
   "execution_count": 255,
   "metadata": {},
   "outputs": [
    {
     "name": "stdout",
     "output_type": "stream",
     "text": [
      "sentence: 你好这里是小青龙借贷中心。我们查到你需要还给我们一百万，都过去一年了。有钱花没钱还吗？等会给你妈打电话！赶紧给我还钱！ \n",
      " Prob: 2.8491429810125716e-243\n",
      "sentence: 先生你好这里是大猩猩贷款集团。资料显示你欠了我们十万，都过去一年了。有钱花没钱还吗？信不信扣你征信分？赶紧给我还钱！ \n",
      " Prob: 2.8665802141883803e-242\n",
      "sentence: 先生你好我这边是非洲豹风控分部。我们查到你欠了我们十万，逾期时间两年。即刻还款可以抽取精神病院一日游哦。这一波怎么说? \n",
      " Prob: 1.5520082917631876e-205\n",
      "sentence: 先生你好我这边是小青龙借贷中心。我们查到你欠了我们十万，都过去一年了。你怎么回事？等会给你妈打电话！赶紧给我还钱！ \n",
      " Prob: 9.869010765198616e-230\n",
      "sentence: 先生你好我这边是小青龙借贷中心。证据表明你欠了我们一百万，逾期时间两年。即刻还款可以抽取一套人工智障课程哈。这一波怎么说? \n",
      " Prob: 2.2456189716875216e-223\n",
      "-*--*--*--*--*--*--*--*--*--*--*--*--*--*--*--*--*--*--*--*--*--*--*--*--*--*--*--*--*--*--*--*--*--*--*--*--*--*--*--*-\n",
      "sentence: 你好我来自小青龙借贷中心。资料显示你需要还给我们十万，已经十天了。你怎么回事？信不信扣你征信分？就问你怕不怕！ \n",
      " Prob: 4.877016805486866e-160\n",
      "sentence: 先生你好这里是非洲豹风控分部。证据表明你欠了我们一百万，已经十天了。即刻还款有机会获得一套人工智障课程哈。这一波怎么说? \n",
      " Prob: 1.4585972468546548e-165\n",
      "sentence: 你好我这边是皮皮猪贷款平台。证据表明你需要还给我们两毛钱，逾期时间两年。马上结清款项有机会获得精神病院一日游哦。考虑一下呗~ \n",
      " Prob: 6.56368761084595e-165\n",
      "sentence: 你好我这边是皮皮猪贷款平台。证据表明你的欠款是十万，逾期时间两年。即刻还款有机会获得精神病院一日游哦。这一波怎么说? \n",
      " Prob: 4.172558822472097e-159\n",
      "sentence: 你好我来自大猩猩贷款集团。证据表明你需要还给我们一百万，已经十天了。马上结清款项有机会获得一套人工智障课程哈。你看怎么样? \n",
      " Prob: 6.563687610845943e-165\n"
     ]
    }
   ],
   "source": [
    "for sen in [generate_n(gram=urge,target='sentence',n=1) for i in range(5)]:\n",
    "    print('sentence: {} \\n Prob: {}'.format(sen,get_prob(1,sen)))\n",
    "print(\"-*-\"*40)\n",
    "for sen in [generate_n(gram=urge,target='sentence',n=1) for i in range(5)]:\n",
    "    print('sentence: {} \\n Prob: {}'.format(sen,get_prob(2,sen)))"
   ]
  },
  {
   "cell_type": "code",
   "execution_count": 256,
   "metadata": {},
   "outputs": [
    {
     "name": "stdout",
     "output_type": "stream",
     "text": [
      "sentence: 滚！骗子！在下从不欠钱。我报警了。 \n",
      " Prob: 4.762477333596799e-79\n",
      "sentence: 哦哦哦！不好意思兄弟，这段时间忙不小心给忘了。鄙人家财万贯稍等片刻给你打钱。 \n",
      " Prob: 3.5304448305249703e-130\n",
      "sentence: 哦哦哦！实在对不住，前段时间去南极出差给耽搁了。鄙人家财万贯稍等片刻给你打钱。 \n",
      " Prob: 1.8926179731665036e-129\n",
      "sentence: 哎呀！实在对不住，前段时间去南极出差给耽搁了。我乃名门之后，我马上就还你！ \n",
      " Prob: 1.7778422294313814e-148\n",
      "sentence: 噢哟！不好意思兄弟，前段时间去南极出差给耽搁了。鄙人家财万贯稍等片刻给你打钱。 \n",
      " Prob: 8.429785701553872e-136\n",
      "-*--*--*--*--*--*--*--*--*--*--*--*--*--*--*--*--*--*--*--*--*--*--*--*--*--*--*--*--*--*--*--*--*--*--*--*--*--*--*--*-\n",
      "sentence: 哦哦哦！实在对不住，我在马里亚纳这里没WIFI。我乃名门之后，稍等片刻给你打钱。 \n",
      " Prob: 1.1978696833612529e-105\n",
      "sentence: 噢哟！实在对不住，前段时间去南极出差给耽搁了。不过我这个人最讲诚信了，我马上就还你！ \n",
      " Prob: 4.090931731923948e-137\n",
      "sentence: 哎呀！实在对不住，前段时间去南极出差给耽搁了。我乃名门之后，等会就去处理这笔款项。 \n",
      " Prob: 1.6781905790923038e-122\n",
      "sentence: 噢哟！不好意思兄弟，前段时间去南极出差给耽搁了。不过我这个人最讲诚信了，稍等片刻给你打钱。 \n",
      " Prob: 2.4545590391543683e-136\n",
      "sentence: 哦哦哦！不好意思兄弟，前段时间去南极出差给耽搁了。不过我这个人最讲诚信了，稍等片刻给你打钱。 \n",
      " Prob: 1.8238110028628707e-131\n"
     ]
    }
   ],
   "source": [
    "for sen in [generate_n(gram=refuse,target='sentence',n=1) for i in range(5)]:\n",
    "    print('sentence: {} \\n Prob: {}'.format(sen,get_prob(1,sen)))\n",
    "print(\"-*-\"*40)\n",
    "for sen in [generate_n(gram=refuse,target='sentence',n=1) for i in range(5)]:\n",
    "    print('sentence: {} \\n Prob: {}'.format(sen,get_prob(2,sen)))"
   ]
  },
  {
   "cell_type": "code",
   "execution_count": 274,
   "metadata": {},
   "outputs": [],
   "source": [
    "#x表示迭代次数，即生成多少句子\n",
    "#m表示基础模型数据，1代表movie，2代表insurance\n",
    "def generate_best(gram,target,x,m):\n",
    "    d = {}\n",
    "    for i in range(x):\n",
    "        sen = generate_n(gram,target,n=1) \n",
    "        d[sen] = get_prob(m,sen)\n",
    "    s = sorted(d.items(), key = lambda item : item[1], reverse = True)\n",
    "    print(d)\n",
    "    print('\\n The best one in following:')\n",
    "    return s[0]"
   ]
  },
  {
   "cell_type": "code",
   "execution_count": 273,
   "metadata": {},
   "outputs": [
    {
     "name": "stdout",
     "output_type": "stream",
     "text": [
      "{'先生你好这里是长颈鹿金融公司。证据表明你的欠款是两千万，已经十天了。现在还钱有机会获得一套人工智障课程哈。这一波怎么说?': 8.106306650538616e-215, '先生你好我这边是大猩猩贷款集团。我们查到你需要还给我们十万，逾期时间两年。你怎么回事？信不信扣你征信分？就问你怕不怕！': 6.714694112220789e-222, '先生你好这里是非洲豹风控分部。证据表明你欠了我们十万，逾期时间两年。还能不能还钱了？我知道你住在哪！赶紧给我还钱！': 1.3944075705924503e-230, '先生你好我这边是非洲豹风控分部。资料显示你需要还给我们一百万，已经十天了。你怎么回事？信不信扣你征信分？赶紧给我还钱！': 5.308767191877101e-224, '女士你好我这边是大猩猩贷款集团。证据表明你需要还给我们两毛钱，逾期时间两年。现在还钱可以抽取终身残障协会会员哦。考虑一下呗~': 1.5049252347301048e-220}\n",
      "\n",
      " The best one in following:\n"
     ]
    },
    {
     "data": {
      "text/plain": [
       "('先生你好这里是长颈鹿金融公司。证据表明你的欠款是两千万，已经十天了。现在还钱有机会获得一套人工智障课程哈。这一波怎么说?',\n",
       " 8.106306650538616e-215)"
      ]
     },
     "execution_count": 273,
     "metadata": {},
     "output_type": "execute_result"
    }
   ],
   "source": [
    "generate_best(urge,\"sentence\",5,1)"
   ]
  },
  {
   "cell_type": "code",
   "execution_count": 275,
   "metadata": {
    "scrolled": true
   },
   "outputs": [
    {
     "name": "stdout",
     "output_type": "stream",
     "text": [
      "{'噢哟！真是对不起，我在马里亚纳这里没WIFI。不过我这个人最讲诚信了，等会就去处理这笔款项。': 1.5966652790034658e-140, '哎呀！真是对不起，前段时间去南极出差给耽搁了。我乃名门之后，我马上就还你！': 9.265182462437147e-113, '滚！脑残吧你！你打错了。我还有事。': 4.752448999300604e-64, '噢哟！真是对不起，前段时间去南极出差给耽搁了。不过我这个人最讲诚信了，等会就去处理这笔款项。': 7.40985201323131e-147, '呸！骗子！你打错了。我还有事。': 2.623796586068492e-54}\n",
      "\n",
      " The best one in following:\n"
     ]
    },
    {
     "data": {
      "text/plain": [
       "('呸！骗子！你打错了。我还有事。', 2.623796586068492e-54)"
      ]
     },
     "execution_count": 275,
     "metadata": {},
     "output_type": "execute_result"
    }
   ],
   "source": [
    "generate_best(refuse,\"sentence\",5,2)"
   ]
  },
  {
   "cell_type": "markdown",
   "metadata": {},
   "source": [
    "### 这个模型感觉生成的概率值太低了，主要原因还是在于基础数据库的分词量不够，稍微俏皮一点的词没有办法识别只能给最低的概率，这样一来，俏皮的话显然会得到很低概率，而严肃正经的会得到相对较高概率。\n",
    "\n",
    "### 另外一方面，2-gram模型本身也是有瑕疵的，不一定所有的分词都是两个两个结合在一起，中文的表达十分丰富，2-gram难以涵盖。总的来说，还需要扩大数据，改进模型。"
   ]
  }
 ],
 "metadata": {
  "kernelspec": {
   "display_name": "Python 3",
   "language": "python",
   "name": "python3"
  },
  "language_info": {
   "codemirror_mode": {
    "name": "ipython",
    "version": 3
   },
   "file_extension": ".py",
   "mimetype": "text/x-python",
   "name": "python",
   "nbconvert_exporter": "python",
   "pygments_lexer": "ipython3",
   "version": "3.7.1"
  }
 },
 "nbformat": 4,
 "nbformat_minor": 2
}
