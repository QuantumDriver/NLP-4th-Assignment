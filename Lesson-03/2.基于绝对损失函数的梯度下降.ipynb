{
 "cells": [
  {
   "cell_type": "markdown",
   "metadata": {},
   "source": [
    "### 如果我们把平方损失函数改成绝对损失函数"
   ]
  },
  {
   "cell_type": "markdown",
   "metadata": {},
   "source": [
    "$$loss=\\frac{1}{n}\\sum{|y_i - \\hat y|}=\\frac{1}{n}\\sum\\sqrt{(y_i - \\hat y)^{2}} =\\frac{1}{n}\\sum\\sqrt{(y_i - (kx_i+b))^{2}}$$\n",
    "\t\t\t\t\n",
    "\t\t\t\t\t"
   ]
  },
  {
   "cell_type": "markdown",
   "metadata": {},
   "source": [
    "$$\n",
    "\\frac{\\partial l o s s}{\\partial k}=\\frac{1}{n} \\sum \\frac{\\left(y_{i}-\\left(k x_{i}+b\\right)\\right) * x_{i}}{\\sqrt{\\left(y_{i}-\\left(k x_{i}+b\\right)\\right)^{2}}}=\\frac{1}{n} \\sum \\frac{\\left(y_{i}-\\hat{y}\\right) * x_{i}}{\\left|y_{i}-\\hat{y}\\right|}\n",
    "$$"
   ]
  },
  {
   "cell_type": "markdown",
   "metadata": {},
   "source": [
    "$$\n",
    "\\frac{\\partial l o s s}{\\partial b}=\\frac{1}{n} \\sum \\frac{y_{i}-\\left(k x_{i}+b\\right)}{\\sqrt{\\left(y_{i}-\\left(k x_{i}+b\\right)\\right)^{2}}}=\\frac{1}{n} \\sum \\frac{y_{i}-\\hat{y}}{\\left|y_{i}-\\hat{y}\\right|}\n",
    "$$"
   ]
  },
  {
   "cell_type": "code",
   "execution_count": 1,
   "metadata": {},
   "outputs": [],
   "source": [
    "import random\n",
    "import numpy as np\n",
    "import matplotlib.pyplot as plt\n",
    "from sklearn.datasets import load_boston\n",
    "%matplotlib inline\n",
    "\n",
    "data = load_boston()\n",
    "X,y = data['data'],data['target']\n",
    "X_rm = X[:,5]\n",
    "\n",
    "def price(x,k,b):\n",
    "    return x*k + b"
   ]
  },
  {
   "cell_type": "code",
   "execution_count": 4,
   "metadata": {},
   "outputs": [
    {
     "data": {
      "text/plain": [
       "<matplotlib.collections.PathCollection at 0x1aeaa6a2748>"
      ]
     },
     "execution_count": 4,
     "metadata": {},
     "output_type": "execute_result"
    },
    {
     "data": {
      "image/png": "[encoded data removed]",
      "text/plain": [
       "<Figure size 432x288 with 1 Axes>"
      ]
     },
     "metadata": {
      "needs_background": "light"
     },
     "output_type": "display_data"
    }
   ],
   "source": [
    "k = random.randint(-100,100)\n",
    "b = random.randint(-100,100)\n",
    "price_by_random = [price(r,k,b) for r in X_rm]\n",
    "\n",
    "plt.scatter(X_rm,y)\n",
    "plt.scatter(X_rm,price_by_random)"
   ]
  },
  {
   "cell_type": "code",
   "execution_count": 6,
   "metadata": {},
   "outputs": [],
   "source": [
    "def loss(y,y_hat):\n",
    "    return sum(abs(y_i - y_hat_i) for y_i,y_hat_i in zip(list(y),list(y_hat))) / len(y)\n",
    "\n",
    "def partial_k(x,y,y_hat):\n",
    "    n = len(y)\n",
    "    gradient = 0\n",
    "    for x_i,y_i,y_hat_i in zip(list(x),list(y),list(y_hat)):\n",
    "        gradient += (y_i - y_hat_i) * x_i / abs(y_i - y_hat_i)\n",
    "    return gradient\n",
    "\n",
    "def partial_b(x,y,y_hat):\n",
    "    n = len(y)\n",
    "    gradient = 0\n",
    "    for y_i,y_hat_i in zip(list(y),list(y_hat)):\n",
    "        gradient += (y_i - y_hat_i)/ abs(y_i - y_hat_i)\n",
    "    return gradient"
   ]
  },
  {
   "cell_type": "code",
   "execution_count": 23,
   "metadata": {},
   "outputs": [
    {
     "name": "stdout",
     "output_type": "stream",
     "text": [
      "Round: 0, k: -48.626156049039835, b: -50.9735079912295, loss: 379.1039267458695\n",
      "Round: 100, k: -16.82590604903993, b: -45.91350799122922, loss: 174.19098206948658\n",
      "Round: 200, k: 10.23100775096011, b: -41.60410799122902, loss: 4.440363091915803\n",
      "Round: 300, k: 10.22786095096018, b: -41.58430799122907, loss: 4.440283605908694\n",
      "Round: 400, k: 10.22471415096025, b: -41.564507991229114, loss: 4.440204119901574\n",
      "Round: 500, k: 10.221486550960309, b: -41.54490799122916, loss: 4.440125392950582\n",
      "Round: 600, k: 10.217635750960321, b: -41.5263079912292, loss: 4.440078875740019\n",
      "Round: 700, k: 10.216472950960314, b: -41.508107991229245, loss: 4.440000195372016\n",
      "Round: 800, k: 10.213233350960332, b: -41.490707991229286, loss: 4.43993283685236\n",
      "Round: 900, k: 10.210189750960382, b: -41.473907991229325, loss: 4.4398784336547275\n",
      "Round: 1000, k: 10.207803750960437, b: -41.457107991229364, loss: 4.439821437745639\n",
      "Round: 1100, k: 10.205417750960493, b: -41.4403079912294, loss: 4.439764441836542\n",
      "Round: 1200, k: 10.203031750960548, b: -41.42350799122944, loss: 4.439707445927455\n",
      "Round: 1300, k: 10.200645750960604, b: -41.40670799122948, loss: 4.439650450018368\n",
      "Round: 1400, k: 10.19825975096066, b: -41.38990799122952, loss: 4.43959345410927\n",
      "Round: 1500, k: 10.195873750960715, b: -41.37310799122956, loss: 4.439536458200182\n",
      "Round: 1600, k: 10.19348775096077, b: -41.3563079912296, loss: 4.439479462291095\n",
      "Round: 1700, k: 10.191101750960826, b: -41.33950799122964, loss: 4.439422466382003\n",
      "Round: 1800, k: 10.188715750960881, b: -41.32270799122968, loss: 4.439365470472911\n",
      "Round: 1900, k: 10.186329750960937, b: -41.30590799122972, loss: 4.439308474563819\n"
     ]
    }
   ],
   "source": [
    "trying_times = 2000\n",
    "k = random.random() * 200 - 100\n",
    "b = random.random() * 200 - 100\n",
    "min_loss = float('inf')\n",
    "alpha = 0.0001\n",
    "\n",
    "for i in range(trying_times):\n",
    "    price_by_random = [price(x,k,b) for x in X_rm]\n",
    "    current_loss = loss(y,price_by_random)\n",
    "    if current_loss < min_loss:\n",
    "        min_loss = current_loss\n",
    "    if i % 100 ==0:\n",
    "        print('Round: {}, k: {}, b: {}, loss: {}'.format(i,k,b,current_loss))\n",
    "            \n",
    "    gradient_k = partial_k(X_rm,y,price_by_random)\n",
    "    gradient_b = partial_b(X_rm,y,price_by_random)\n",
    "    k = k + gradient_k*alpha\n",
    "    b = b + gradient_b*alpha"
   ]
  }
 ],
 "metadata": {
  "kernelspec": {
   "display_name": "Python 3",
   "language": "python",
   "name": "python3"
  },
  "language_info": {
   "codemirror_mode": {
    "name": "ipython",
    "version": 3
   },
   "file_extension": ".py",
   "mimetype": "text/x-python",
   "name": "python",
   "nbconvert_exporter": "python",
   "pygments_lexer": "ipython3",
   "version": "3.7.1"
  }
 },
 "nbformat": 4,
 "nbformat_minor": 2
}
