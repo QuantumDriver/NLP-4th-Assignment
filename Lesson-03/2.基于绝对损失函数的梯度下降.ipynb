{
 "cells": [
  {
   "cell_type": "markdown",
   "metadata": {},
   "source": [
    "### 如果我们把平方损失函数改成绝对损失函数"
   ]
  },
  {
   "cell_type": "markdown",
   "metadata": {},
   "source": [
    "$$loss=\\frac{1}{n}\\sum{|y_i - \\hat y|}=\\frac{1}{n}\\sum\\sqrt{(y_i - \\hat y)^{2}} =\\frac{1}{n}\\sum\\sqrt{(y_i - (kx_i+b))^{2}}$$\n",
    "\t\t\t\t\n",
    "\t\t\t\t\t"
   ]
  },
  {
   "cell_type": "markdown",
   "metadata": {},
   "source": [
    "$$\n",
    "\\frac{\\partial l o s s}{\\partial k}=\\frac{1}{n} \\sum \\frac{\\left(y_{i}-\\left(k x_{i}+b\\right)\\right) * (-x_{i})}{\\sqrt{\\left(y_{i}-\\left(k x_{i}+b\\right)\\right)^{2}}}=\\frac{1}{n} \\sum \\frac{\\left(y_{i}-\\hat{y}\\right) * (-x_{i})}{\\left|y_{i}-\\hat{y}\\right|}\n",
    "$$"
   ]
  },
  {
   "cell_type": "markdown",
   "metadata": {},
   "source": [
    "$$\n",
    "\\frac{\\partial l o s s}{\\partial b}=\\frac{1}{n} \\sum \\frac{y_{i}-\\left(k x_{i}+b\\right)*(-1)}{\\sqrt{\\left(y_{i}-\\left(k x_{i}+b\\right)\\right)^{2}}}=\\frac{1}{n} \\sum \\frac{y_{i}-\\hat{y}*(-1)}{\\left|y_{i}-\\hat{y}\\right|}\n",
    "$$"
   ]
  },
  {
   "cell_type": "code",
   "execution_count": 1,
   "metadata": {},
   "outputs": [],
   "source": [
    "import random\n",
    "import numpy as np\n",
    "import matplotlib.pyplot as plt\n",
    "from sklearn.datasets import load_boston\n",
    "%matplotlib inline\n",
    "\n",
    "data = load_boston()\n",
    "X,y = data['data'],data['target']\n",
    "X_rm = X[:,5]\n",
    "\n",
    "def price(x,k,b):\n",
    "    return x*k + b"
   ]
  },
  {
   "cell_type": "code",
   "execution_count": 2,
   "metadata": {},
   "outputs": [
    {
     "data": {
      "text/plain": [
       "<matplotlib.collections.PathCollection at 0x20d079e72e8>"
      ]
     },
     "execution_count": 2,
     "metadata": {},
     "output_type": "execute_result"
    },
    {
     "data": {
      "image/png": "[encoded data removed]",
      "text/plain": [
       "<Figure size 432x288 with 1 Axes>"
      ]
     },
     "metadata": {
      "needs_background": "light"
     },
     "output_type": "display_data"
    }
   ],
   "source": [
    "k = random.randint(-100,100)\n",
    "b = random.randint(-100,100)\n",
    "price_by_random = [price(r,k,b) for r in X_rm]\n",
    "\n",
    "plt.scatter(X_rm,y)\n",
    "plt.scatter(X_rm,price_by_random)"
   ]
  },
  {
   "cell_type": "code",
   "execution_count": 9,
   "metadata": {},
   "outputs": [],
   "source": [
    "def loss(y,y_hat):\n",
    "    return sum(abs(y_i - y_hat_i) for y_i,y_hat_i in zip(list(y),list(y_hat))) / len(y)\n",
    "\n",
    "def partial_k(x,y,y_hat):\n",
    "    n = len(y)\n",
    "    gradient = 0\n",
    "    for x_i,y_i,y_hat_i in zip(list(x),list(y),list(y_hat)):\n",
    "        gradient += (y_i - y_hat_i) * (-x_i) / abs(y_i - y_hat_i)\n",
    "    return gradient\n",
    "\n",
    "def partial_b(x,y,y_hat):\n",
    "    n = len(y)\n",
    "    gradient = 0\n",
    "    for y_i,y_hat_i in zip(list(y),list(y_hat)):\n",
    "        gradient += (y_i - y_hat_i)*(-1)/ abs(y_i - y_hat_i)\n",
    "    return gradient"
   ]
  },
  {
   "cell_type": "code",
   "execution_count": 19,
   "metadata": {},
   "outputs": [
    {
     "name": "stdout",
     "output_type": "stream",
     "text": [
      "Round: 0, k: 71.88997363841423, b: 41.27630700898513, loss: 470.54570111866553\n",
      "Round: 2000, k: -0.4355669615858132, b: 24.305707008984406, loss: 6.697940846830145\n",
      "Round: 4000, k: 0.47741643841419523, b: 18.658907008983356, loss: 6.374416003718528\n",
      "Round: 6000, k: 1.3437116384141705, b: 13.272507008982931, loss: 6.080255717917694\n",
      "Round: 8000, k: 2.1923124384141652, b: 8.0689070089838, loss: 5.8055011735062765\n",
      "Round: 10000, k: 2.9777956384142104, b: 3.2563070089839674, loss: 5.570315783359447\n",
      "Round: 12000, k: 3.7237910384141863, b: -1.2988929910160953, loss: 5.35974940833108\n",
      "Round: 14000, k: 4.396481838414008, b: -5.437092991015998, loss: 5.185842811613969\n",
      "Round: 16000, k: 5.013007638413956, b: -9.194092991015646, loss: 5.042413733800504\n",
      "Round: 18000, k: 5.570993438413978, b: -12.626492991014977, loss: 4.922851463618611\n",
      "Round: 20000, k: 6.071632038414027, b: -15.700292991014981, loss: 4.8269829020741755\n",
      "Round: 22000, k: 6.5196302384142, b: -18.510692991015535, loss: 4.746751021444716\n",
      "Round: 24000, k: 6.945567238414354, b: -21.131692991016532, loss: 4.677065671348984\n",
      "Round: 26000, k: 7.363502638414648, b: -23.578692991017935, loss: 4.616042863561333\n",
      "Round: 28000, k: 7.702634238414384, b: -25.702892991020057, loss: 4.5702356815117975\n",
      "Round: 30000, k: 7.9994812384146465, b: -27.59629299102269, loss: 4.533852718801132\n",
      "Round: 32000, k: 8.248302238414503, b: -29.203492991024934, loss: 4.507656830438403\n",
      "Round: 34000, k: 8.473709638414858, b: -30.62529299102537, loss: 4.4871652693755415\n",
      "Round: 36000, k: 8.664346438414944, b: -31.863692991023797, loss: 4.471587008019597\n",
      "Round: 38000, k: 8.84715243841381, b: -32.97229299102121, loss: 4.459106662339076\n",
      "Round: 40000, k: 8.987406238413788, b: -33.820892991019235, loss: 4.45171788314076\n",
      "Round: 42000, k: 9.087555638415052, b: -34.45829299101775, loss: 4.447603610853988\n",
      "Round: 44000, k: 9.19071543841641, b: -35.08609299101629, loss: 4.443599172553222\n",
      "Round: 46000, k: 9.281270638417457, b: -35.65209299101497, loss: 4.4402706881912355\n",
      "Round: 48000, k: 9.335013638417674, b: -36.001292991014154, loss: 4.439026964205162\n"
     ]
    }
   ],
   "source": [
    "trying_times = 50000\n",
    "k = random.random() * 200 - 100\n",
    "b = random.random() * 200 - 100\n",
    "min_loss = float('inf')\n",
    "alpha = 0.0001\n",
    "\n",
    "for i in range(trying_times):\n",
    "    price_by_random = [price(x,k,b) for x in X_rm]\n",
    "    current_loss = loss(y,price_by_random)\n",
    "    if current_loss < min_loss:\n",
    "        min_loss = current_loss\n",
    "    if i % 2000 ==0:\n",
    "        print('Round: {}, k: {}, b: {}, loss: {}'.format(i,k,b,current_loss))\n",
    "            \n",
    "    gradient_k = partial_k(X_rm,y,price_by_random)\n",
    "    gradient_b = partial_b(X_rm,y,price_by_random)\n",
    "    k = k - gradient_k*alpha\n",
    "    b = b - gradient_b*alpha"
   ]
  }
 ],
 "metadata": {
  "kernelspec": {
   "display_name": "Python 3",
   "language": "python",
   "name": "python3"
  },
  "language_info": {
   "codemirror_mode": {
    "name": "ipython",
    "version": 3
   },
   "file_extension": ".py",
   "mimetype": "text/x-python",
   "name": "python",
   "nbconvert_exporter": "python",
   "pygments_lexer": "ipython3",
   "version": "3.7.1"
  }
 },
 "nbformat": 4,
 "nbformat_minor": 2
}
