{
 "cells": [
  {
   "cell_type": "markdown",
   "metadata": {},
   "source": [
    "### 编辑距离 Edit Distance\n",
    "- 编辑距离在leetcode72上出现过\n",
    "- 编辑距离可以衡量两个词之间的‘距离’\n",
    "- 基于‘增、删、改’三种基本操作去计算编辑距离\n",
    "- [参考资料1](https://www.youtube.com/watch?v=Mowr0huRJFA)\n",
    "- [参考资料2](https://blog.csdn.net/fuxuemingzhu/article/details/84935585)"
   ]
  },
  {
   "cell_type": "markdown",
   "metadata": {},
   "source": [
    "### 一个形象的例子\n",
    "![1563287604(1).jpg](https://i.loli.net/2019/07/16/5d2de05af41af80123.jpg)"
   ]
  },
  {
   "cell_type": "markdown",
   "metadata": {},
   "source": [
    "#### 由上图可以看到字符串‘apple’和‘oppa’之间的编辑距离是如何计算的\n",
    "- 首先将两个词形成矩阵，为了方便计算，第一个字符串前面要加一个空字符串\n",
    "- 每一行与每一列都有对应的值，这个值就是编辑距离，具体计算方式参见参考资料\n",
    "- 当每个词与空字符串已经形成了第一行的值和第二行的值之后，就能用动态规划的方式求解所有对应值得编辑距离\n",
    "- 当行与列对应的字符串相等时，例如‘p’=‘p’时，编辑距离为左上角的值+1，即1+1=2\n",
    "- 当行与列对应的字符串不相等时，例如‘p’不等于‘a’，编辑距离取周围三个框内的最小值+1，即1+1=2\n",
    "- 对所有框重复以上操作，最终的编辑距离就是矩阵的最后一个元素"
   ]
  },
  {
   "cell_type": "code",
   "execution_count": 22,
   "metadata": {},
   "outputs": [],
   "source": [
    "def editdistance(w1,w2):\n",
    "    len1,len2 = len(w1),len(w2)\n",
    "    dp = [[0] * (len2 + 1) for _ in range(len1 + 1)]\n",
    "    for i in range(len1 + 1):\n",
    "        dp[i][0] = i\n",
    "    for j in range(len2 + 1):\n",
    "        dp[0][j] = j\n",
    "    for i in range(1,len1 + 1):\n",
    "        for j in range(1, len2 + 1):\n",
    "            if w1[i-1] == w2[j-1]:\n",
    "                dp[i][j] = dp[i-1][j-1]\n",
    "            else:\n",
    "                dp[i][j] = min(dp[i-1][j-1], dp[i][j-1], dp[i-1][j]) + 1\n",
    "                \n",
    "    return dp[len1][len2],dp"
   ]
  },
  {
   "cell_type": "markdown",
   "metadata": {},
   "source": [
    "![1563289116(1).png](https://i.loli.net/2019/07/16/5d2de68e4e6b920824.png)"
   ]
  },
  {
   "cell_type": "code",
   "execution_count": 23,
   "metadata": {},
   "outputs": [
    {
     "data": {
      "text/plain": [
       "(3,\n",
       " [[0, 1, 2, 3, 4, 5],\n",
       "  [1, 1, 2, 3, 4, 5],\n",
       "  [2, 2, 1, 2, 3, 4],\n",
       "  [3, 3, 2, 1, 2, 3],\n",
       "  [4, 3, 3, 2, 2, 3]])"
      ]
     },
     "execution_count": 23,
     "metadata": {},
     "output_type": "execute_result"
    }
   ],
   "source": [
    "w1,w2 = 'oppa','apple'\n",
    "editdistance(w1,w2)"
   ]
  },
  {
   "cell_type": "code",
   "execution_count": null,
   "metadata": {},
   "outputs": [],
   "source": []
  },
  {
   "cell_type": "code",
   "execution_count": null,
   "metadata": {},
   "outputs": [],
   "source": []
  },
  {
   "cell_type": "code",
   "execution_count": null,
   "metadata": {},
   "outputs": [],
   "source": []
  }
 ],
 "metadata": {
  "kernelspec": {
   "display_name": "Python 3",
   "language": "python",
   "name": "python3"
  },
  "language_info": {
   "codemirror_mode": {
    "name": "ipython",
    "version": 3
   },
   "file_extension": ".py",
   "mimetype": "text/x-python",
   "name": "python",
   "nbconvert_exporter": "python",
   "pygments_lexer": "ipython3",
   "version": "3.7.1"
  }
 },
 "nbformat": 4,
 "nbformat_minor": 2
}
