{
 "cells": [
  {
   "cell_type": "markdown",
   "metadata": {},
   "source": [
    "## Lesson-01"
   ]
  },
  {
   "cell_type": "code",
   "execution_count": 58,
   "metadata": {},
   "outputs": [],
   "source": [
    "simple_grammar = \"\"\"\n",
    "sentence => noun_phrase verb_phrase\n",
    "noun_phrase => Article Adj* noun\n",
    "Adj* => null | Adj Adj*\n",
    "verb_phrase => verb noun_phrase\n",
    "Article =>  一个 | 这个\n",
    "noun =>   女人 |  篮球 | 桌子 | 小猫\n",
    "verb => 看着   |  坐在 |  听着 | 看见\n",
    "Adj =>  蓝色的 | 好看的 | 小小的\n",
    "\"\"\""
   ]
  },
  {
   "cell_type": "code",
   "execution_count": null,
   "metadata": {},
   "outputs": [],
   "source": [
    "another_grammar = \"\"\"\n",
    "# \n",
    "\"\"\""
   ]
  },
  {
   "cell_type": "code",
   "execution_count": 2,
   "metadata": {},
   "outputs": [],
   "source": [
    "import random"
   ]
  },
  {
   "cell_type": "code",
   "execution_count": 29,
   "metadata": {},
   "outputs": [],
   "source": [
    "#按|这条线把字符串分割成列表，random.choice随机从该列表选择一项\n",
    "#后面那个split把文字前后空格去掉，切片为0取出字符串\n",
    "def adj():  return random.choice('蓝色的 | 好看的 | 小小的'.split('|')).split()[0]"
   ]
  },
  {
   "cell_type": "code",
   "execution_count": 26,
   "metadata": {},
   "outputs": [
    {
     "data": {
      "text/plain": [
       "['lll']"
      ]
     },
     "execution_count": 26,
     "metadata": {},
     "output_type": "execute_result"
    }
   ],
   "source": [
    "c=' lll'\n",
    "c.split()"
   ]
  },
  {
   "cell_type": "code",
   "execution_count": 25,
   "metadata": {},
   "outputs": [
    {
     "data": {
      "text/plain": [
       "' 好看的 '"
      ]
     },
     "execution_count": 25,
     "metadata": {},
     "output_type": "execute_result"
    }
   ],
   "source": [
    "random.choice(['蓝色的 ', ' 好看的 ', ' 小小的'])"
   ]
  },
  {
   "cell_type": "code",
   "execution_count": 8,
   "metadata": {},
   "outputs": [
    {
     "data": {
      "text/plain": [
       "['蓝色的 ', ' 好看的 ', ' 小小的']"
      ]
     },
     "execution_count": 8,
     "metadata": {},
     "output_type": "execute_result"
    }
   ],
   "source": [
    "'蓝色的 | 好看的 | 小小的'.split('|')"
   ]
  },
  {
   "cell_type": "code",
   "execution_count": 40,
   "metadata": {},
   "outputs": [],
   "source": [
    "#lambda代表函数，choice调用里面的函数之一，函数要想输出值须在后面加括号()\n",
    "def adj_star():\n",
    "    return random.choice([lambda : '', lambda : adj() + adj_star()])()"
   ]
  },
  {
   "cell_type": "code",
   "execution_count": 33,
   "metadata": {},
   "outputs": [
    {
     "data": {
      "text/plain": [
       "'好看的好看的小小的'"
      ]
     },
     "execution_count": 33,
     "metadata": {},
     "output_type": "execute_result"
    }
   ],
   "source": [
    "adj_star()"
   ]
  },
  {
   "cell_type": "code",
   "execution_count": 39,
   "metadata": {},
   "outputs": [
    {
     "data": {
      "text/plain": [
       "''"
      ]
     },
     "execution_count": 39,
     "metadata": {},
     "output_type": "execute_result"
    }
   ],
   "source": [
    "c = lambda : ''\n",
    "c()"
   ]
  },
  {
   "cell_type": "markdown",
   "metadata": {},
   "source": [
    "## But the question is ? "
   ]
  },
  {
   "cell_type": "markdown",
   "metadata": {},
   "source": [
    "如果我们更换了语法，会发现所有写过的程序，都要重新写。:( "
   ]
  },
  {
   "cell_type": "code",
   "execution_count": 53,
   "metadata": {},
   "outputs": [],
   "source": [
    "adj_grammar = \"\"\"\n",
    "Adj* => null | Adj Adj*\n",
    "Adj =>  蓝色的 | 好看的 | 小小的\n",
    "\"\"\""
   ]
  },
  {
   "cell_type": "code",
   "execution_count": 48,
   "metadata": {},
   "outputs": [],
   "source": [
    "def create_grammar(grammar_str, split='=>', line_split='\\n'):\n",
    "    #为一个语法树创建空字典\n",
    "    grammar = {}\n",
    "    #对一个已经定义好的语法进行操作，例如host,human\n",
    "    #先将每一行分开\n",
    "    for line in grammar_str.split(line_split):\n",
    "        #如果某一行是空值，则继续\n",
    "        if not line.strip(): continue\n",
    "        #按‘=>’这个符号把表达式和内容划分开\n",
    "        exp, stmt = line.split(split)\n",
    "        #把表达式和内容传入字典中\n",
    "        grammar[exp.strip()] = [s.split() for s in stmt.split('|')]\n",
    "    return grammar"
   ]
  },
  {
   "cell_type": "code",
   "execution_count": 46,
   "metadata": {},
   "outputs": [
    {
     "name": "stdout",
     "output_type": "stream",
     "text": [
      "a\n"
     ]
    }
   ],
   "source": [
    "x = []\n",
    "if not x: print('a')"
   ]
  },
  {
   "cell_type": "code",
   "execution_count": 55,
   "metadata": {},
   "outputs": [
    {
     "data": {
      "text/plain": [
       "[['null'], ['Adj', 'Adj*']]"
      ]
     },
     "execution_count": 55,
     "metadata": {},
     "output_type": "execute_result"
    }
   ],
   "source": [
    "create_grammar(adj_grammar)['Adj*']"
   ]
  },
  {
   "cell_type": "code",
   "execution_count": 240,
   "metadata": {},
   "outputs": [],
   "source": [
    "choice = random.choice\n",
    "\n",
    "def generate(gram, target):\n",
    "    #设置递归终止条件，如果目标不在对应的key这列中则直接返回value\n",
    "    if target not in gram: return target # means target is a terminal expression\n",
    "    #注意choice返回的是列表中套着的列表！这个套着的列表可以对每个值递归下去\n",
    "    expaned = [generate(gram, t) for t in choice(gram[target])]\n",
    "    #把expanded列表中的字符串连接起来，后面是排除Null值\n",
    "    #/n相当于一个换行的条件，如果出现则换行('\\n')\n",
    "    #这个换行是专门针对后面写的programming语句设置的条件\n",
    "    return ''.join([e if e != '/n' else '\\n' for e in expaned if e != 'null'])"
   ]
  },
  {
   "cell_type": "code",
   "execution_count": 96,
   "metadata": {},
   "outputs": [
    {
     "data": {
      "text/plain": [
       "['\\n', 3]"
      ]
     },
     "execution_count": 96,
     "metadata": {},
     "output_type": "execute_result"
    }
   ],
   "source": [
    "c = [1,2,3]\n",
    "b =[e if e != 1 else '\\n' for e in c if e != 2]\n",
    "b"
   ]
  },
  {
   "cell_type": "code",
   "execution_count": 78,
   "metadata": {},
   "outputs": [],
   "source": [
    "example_grammar = create_grammar(simple_grammar)"
   ]
  },
  {
   "cell_type": "code",
   "execution_count": 60,
   "metadata": {},
   "outputs": [
    {
     "data": {
      "text/plain": [
       "{'sentence': [['noun_phrase', 'verb_phrase']],\n",
       " 'noun_phrase': [['Article', 'Adj*', 'noun']],\n",
       " 'Adj*': [['null'], ['Adj', 'Adj*']],\n",
       " 'verb_phrase': [['verb', 'noun_phrase']],\n",
       " 'Article': [['一个'], ['这个']],\n",
       " 'noun': [['女人'], ['篮球'], ['桌子'], ['小猫']],\n",
       " 'verb': [['看着'], ['坐在'], ['听着'], ['看见']],\n",
       " 'Adj': [['蓝色的'], ['好看的'], ['小小的']]}"
      ]
     },
     "execution_count": 60,
     "metadata": {},
     "output_type": "execute_result"
    }
   ],
   "source": [
    "example_grammar"
   ]
  },
  {
   "cell_type": "code",
   "execution_count": 90,
   "metadata": {},
   "outputs": [
    {
     "name": "stdout",
     "output_type": "stream",
     "text": [
      "['这个']\n",
      "['null']\n",
      "['篮球']\n",
      "['这个', '', '篮球']\n",
      "['看着']\n",
      "['一个']\n",
      "['小小的']\n",
      "['null']\n",
      "['小小的', '']\n",
      "['女人']\n",
      "['一个', '小小的', '女人']\n",
      "['看着', '一个小小的女人']\n",
      "['这个篮球', '看着一个小小的女人']\n"
     ]
    },
    {
     "data": {
      "text/plain": [
       "'这个篮球看着一个小小的女人'"
      ]
     },
     "execution_count": 90,
     "metadata": {},
     "output_type": "execute_result"
    }
   ],
   "source": [
    "generate(gram=example_grammar, target='sentence')"
   ]
  },
  {
   "cell_type": "code",
   "execution_count": 81,
   "metadata": {},
   "outputs": [],
   "source": [
    "#在西部世界里，一个”人类“的语言可以定义为：\n",
    "\n",
    "human = \"\"\"\n",
    "human = 自己 寻找 活动\n",
    "自己 = 我 | 俺 | 我们 \n",
    "寻找 = 找找 | 想找点 \n",
    "活动 = 乐子 | 玩的\n",
    "\"\"\"\n",
    "\n",
    "\n",
    "#一个“接待员”的语言可以定义为\n",
    "\n",
    "host = \"\"\"\n",
    "host = 寒暄 报数 询问 业务相关 结尾 \n",
    "报数 = 我是 数字 号 ,\n",
    "数字 = 单个数字 | 数字 单个数字 \n",
    "单个数字 = 1 | 2 | 3 | 4 | 5 | 6 | 7 | 8 | 9 \n",
    "寒暄 = 称谓 打招呼 | 打招呼\n",
    "称谓 = 人称 ,\n",
    "人称 = 先生 | 女士 | 小朋友\n",
    "打招呼 = 你好 | 您好 \n",
    "询问 = 请问你要 | 您需要\n",
    "业务相关 = 玩玩 具体业务\n",
    "玩玩 = null\n",
    "具体业务 = 喝酒 | 打牌 | 打猎 | 赌博\n",
    "结尾 = 吗？\n",
    "\"\"\""
   ]
  },
  {
   "cell_type": "code",
   "execution_count": 84,
   "metadata": {},
   "outputs": [
    {
     "name": "stdout",
     "output_type": "stream",
     "text": [
      "你好我是8号,请问你要打牌吗？\n",
      "你好我是7号,您需要赌博吗？\n",
      "您好我是3号,您需要赌博吗？\n",
      "先生,你好我是8号,请问你要打猎吗？\n",
      "您好我是22344号,请问你要赌博吗？\n",
      "先生,您好我是3号,您需要打牌吗？\n",
      "您好我是9号,您需要赌博吗？\n",
      "女士,你好我是5号,您需要打牌吗？\n",
      "女士,你好我是81116号,请问你要打牌吗？\n",
      "先生,您好我是316号,您需要打猎吗？\n",
      "先生,您好我是8号,请问你要打牌吗？\n",
      "先生,您好我是81号,请问你要赌博吗？\n",
      "先生,你好我是9号,您需要赌博吗？\n",
      "你好我是4号,您需要喝酒吗？\n",
      "小朋友,您好我是3号,请问你要打牌吗？\n",
      "先生,你好我是1号,您需要喝酒吗？\n",
      "小朋友,您好我是6号,您需要喝酒吗？\n",
      "你好我是633号,您需要打猎吗？\n",
      "女士,您好我是9号,请问你要喝酒吗？\n",
      "您好我是6号,请问你要打猎吗？\n"
     ]
    }
   ],
   "source": [
    "for i in range(20):\n",
    "    print(generate(gram=create_grammar(host, split='='), target='host'))"
   ]
  },
  {
   "cell_type": "markdown",
   "metadata": {},
   "source": [
    "希望能够生成最合理的一句话？ "
   ]
  },
  {
   "cell_type": "markdown",
   "metadata": {},
   "source": [
    "## Data Driven"
   ]
  },
  {
   "cell_type": "markdown",
   "metadata": {},
   "source": [
    "我们的目标是，希望能做一个程序，然后，当输入的数据变化的时候，我们的程序不用重写。Generalization."
   ]
  },
  {
   "cell_type": "markdown",
   "metadata": {},
   "source": [
    "AI? 如何能自动化解决问题，我们找到一个方法之后，输入变了，我们的这个方法，不用变。"
   ]
  },
  {
   "cell_type": "code",
   "execution_count": 45,
   "metadata": {},
   "outputs": [],
   "source": [
    "programming = \"\"\"\n",
    "stmt => if_exp | while_exp | assignment \n",
    "assignment => var = var\n",
    "if_exp => if ( var ) { /n .... stmt }\n",
    "while_exp=> while ( var ) { /n .... stmt }\n",
    "var => chars number\n",
    "chars => char | char char\n",
    "char => student | name | info  | database | course\n",
    "number => 1 | 2 | 3\n",
    "\"\"\""
   ]
  },
  {
   "cell_type": "code",
   "execution_count": 48,
   "metadata": {},
   "outputs": [
    {
     "name": "stdout",
     "output_type": "stream",
     "text": [
      "while(infoinfo3){\n",
      "....while(namecourse1){\n",
      "....databasecourse3=student3}}\n"
     ]
    }
   ],
   "source": [
    "print(generate(gram=create_grammar(programming, split='=>'), target='stmt'))"
   ]
  },
  {
   "cell_type": "markdown",
   "metadata": {},
   "source": [
    "# Language Model"
   ]
  },
  {
   "cell_type": "markdown",
   "metadata": {},
   "source": [
    "$$ language\\_model(String) = Probability(String) \\in (0, 1) $$"
   ]
  },
  {
   "cell_type": "markdown",
   "metadata": {},
   "source": [
    "$$ Pro(w_1 w_2 w_3 w_4) = Pr(w_1 | w_2 w_3 w_ 4) * P(w2 | w_3 w_4) * Pr(w_3 | w_4) * Pr(w_4)$$ "
   ]
  },
  {
   "cell_type": "markdown",
   "metadata": {},
   "source": [
    "$$ Pro(w_1 w_2 w_3 w_4) \\sim Pr(w_1 | w_2 ) * P(w_2 | w_3 ) * Pr(w_3 | w_4) * Pr(w_4)$$ "
   ]
  },
  {
   "cell_type": "markdown",
   "metadata": {},
   "source": [
    "how to get $ Pr(w1 | w2 w3 w4) $ ?"
   ]
  },
  {
   "cell_type": "markdown",
   "metadata": {},
   "source": [
    "$ Pr(w_1) $"
   ]
  },
  {
   "cell_type": "code",
   "execution_count": 272,
   "metadata": {},
   "outputs": [],
   "source": [
    "import random"
   ]
  },
  {
   "cell_type": "code",
   "execution_count": 97,
   "metadata": {},
   "outputs": [
    {
     "data": {
      "text/plain": [
       "52"
      ]
     },
     "execution_count": 97,
     "metadata": {},
     "output_type": "execute_result"
    }
   ],
   "source": [
    "random.choice(range(100))"
   ]
  },
  {
   "cell_type": "code",
   "execution_count": 98,
   "metadata": {},
   "outputs": [],
   "source": [
    "filename = 'article_9k.txt'"
   ]
  },
  {
   "cell_type": "code",
   "execution_count": 99,
   "metadata": {},
   "outputs": [],
   "source": [
    "import pandas as pd"
   ]
  },
  {
   "cell_type": "code",
   "execution_count": 117,
   "metadata": {},
   "outputs": [],
   "source": [
    "content = pd.read_csv(filename,names='c')"
   ]
  },
  {
   "cell_type": "code",
   "execution_count": 118,
   "metadata": {},
   "outputs": [
    {
     "data": {
      "text/html": [
       "<div>\n",
       "<style scoped>\n",
       "    .dataframe tbody tr th:only-of-type {\n",
       "        vertical-align: middle;\n",
       "    }\n",
       "\n",
       "    .dataframe tbody tr th {\n",
       "        vertical-align: top;\n",
       "    }\n",
       "\n",
       "    .dataframe thead th {\n",
       "        text-align: right;\n",
       "    }\n",
       "</style>\n",
       "<table border=\"1\" class=\"dataframe\">\n",
       "  <thead>\n",
       "    <tr style=\"text-align: right;\">\n",
       "      <th></th>\n",
       "      <th>c</th>\n",
       "    </tr>\n",
       "  </thead>\n",
       "  <tbody>\n",
       "    <tr>\n",
       "      <th>0</th>\n",
       "      <td>此外自本周6月12日起除小米手机6等15款机型外其余机型已暂停更新发布含开发版体验版内测稳定...</td>\n",
       "    </tr>\n",
       "    <tr>\n",
       "      <th>1</th>\n",
       "      <td>骁龙835作为唯一通过Windows10桌面平台认证的ARM处理器高通强调不会因为只考虑性能...</td>\n",
       "    </tr>\n",
       "    <tr>\n",
       "      <th>2</th>\n",
       "      <td>此前的一加3T搭载的是3400mAh电池DashCharge快充规格为5V4A至于电池缩水可...</td>\n",
       "    </tr>\n",
       "    <tr>\n",
       "      <th>3</th>\n",
       "      <td>这是6月18日在葡萄牙中部大佩德罗冈地区拍摄的被森林大火烧毁的汽车新华社记者张立云摄</td>\n",
       "    </tr>\n",
       "    <tr>\n",
       "      <th>4</th>\n",
       "      <td>原标题44岁女子跑深圳约会网友被拒暴雨中裸身奔走深圳交警微博称昨日清晨交警发现有一女子赤裸上...</td>\n",
       "    </tr>\n",
       "  </tbody>\n",
       "</table>\n",
       "</div>"
      ],
      "text/plain": [
       "                                                   c\n",
       "0  此外自本周6月12日起除小米手机6等15款机型外其余机型已暂停更新发布含开发版体验版内测稳定...\n",
       "1  骁龙835作为唯一通过Windows10桌面平台认证的ARM处理器高通强调不会因为只考虑性能...\n",
       "2  此前的一加3T搭载的是3400mAh电池DashCharge快充规格为5V4A至于电池缩水可...\n",
       "3         这是6月18日在葡萄牙中部大佩德罗冈地区拍摄的被森林大火烧毁的汽车新华社记者张立云摄\n",
       "4  原标题44岁女子跑深圳约会网友被拒暴雨中裸身奔走深圳交警微博称昨日清晨交警发现有一女子赤裸上..."
      ]
     },
     "execution_count": 118,
     "metadata": {},
     "output_type": "execute_result"
    }
   ],
   "source": [
    "content.head()"
   ]
  },
  {
   "cell_type": "code",
   "execution_count": 121,
   "metadata": {},
   "outputs": [],
   "source": [
    "#convert a series to list\n",
    "articles = content['c'].tolist()"
   ]
  },
  {
   "cell_type": "code",
   "execution_count": 122,
   "metadata": {},
   "outputs": [
    {
     "data": {
      "text/plain": [
       "89609"
      ]
     },
     "execution_count": 122,
     "metadata": {},
     "output_type": "execute_result"
    }
   ],
   "source": [
    "len(articles)"
   ]
  },
  {
   "cell_type": "markdown",
   "metadata": {},
   "source": [
    "invalid"
   ]
  },
  {
   "cell_type": "code",
   "execution_count": 123,
   "metadata": {},
   "outputs": [],
   "source": [
    "import re"
   ]
  },
  {
   "cell_type": "code",
   "execution_count": 124,
   "metadata": {},
   "outputs": [],
   "source": [
    "def token(string):\n",
    "    # we will learn the regular expression next course.\n",
    "    # 把字符全部取出来，不要标点\n",
    "    return re.findall('\\w+', string)"
   ]
  },
  {
   "cell_type": "code",
   "execution_count": 125,
   "metadata": {},
   "outputs": [],
   "source": [
    "from collections import Counter"
   ]
  },
  {
   "cell_type": "code",
   "execution_count": 30,
   "metadata": {},
   "outputs": [],
   "source": [
    "with_jieba_cut = Counter(jieba.cut(articles[110]))"
   ]
  },
  {
   "cell_type": "code",
   "execution_count": 32,
   "metadata": {
    "scrolled": false
   },
   "outputs": [
    {
     "data": {
      "text/plain": [
       "[('，', 88),\n",
       " ('的', 73),\n",
       " ('。', 39),\n",
       " ('\\r\\n', 27),\n",
       " ('了', 20),\n",
       " ('们', 18),\n",
       " ('工作队', 16),\n",
       " ('村民', 15),\n",
       " ('收割', 14),\n",
       " ('、', 12)]"
      ]
     },
     "execution_count": 32,
     "metadata": {},
     "output_type": "execute_result"
    }
   ],
   "source": [
    "with_jieba_cut.most_common()[:10]"
   ]
  },
  {
   "cell_type": "code",
   "execution_count": 126,
   "metadata": {},
   "outputs": [
    {
     "data": {
      "text/plain": [
       "'在外国名著麦田里的守望者中作者想要守护麦田里如自己内心一般纯真的孩子们而驻村干部们也在这个炎热的夏天里撸袖子上阵真正做起了村民们的麦田守望者三夏时节不等人你看到了吗不停翻涌起伏仿若铺陈至天边的金黄麦浪中那若隐若现的人影是自治区新闻出版广电局驻和田市肖尔巴格乡合尼村工作队的队员与工作队组织的青年志愿者在这个炎热的夏季他们深入田间地头帮助村民们收割小麦扛起收麦机麦田中的每个人都显得兴致勃勃一天下来就近22亩小麦收割完毕志愿者麦麦提亚森擦去满脸的汗水高兴地告诉驻村队员我们青年志愿者应该多做贡献为村里的脱贫致富出把力工作队带着我们为村里的老人服务看到那些像我爷爷奶奶一样的老人赞许感谢的目光我体会到了帮助他人的快乐自治区新闻出版广电局驻村工作队孙敏艾力依布拉音麦收时节我们在一起6月中旬的和田墨玉麦田金黄静待收割6月14日15日两天自治区高级人民法院驻和田地区墨玉县吐外特乡罕勒克艾日克村工作队与48名村民志愿者一道帮助村里29户有需要的村民进行小麦收割工作田间地头罕勒克艾日克村志愿队的红旗迎风飘扬格外醒目10余台割麦机一起轰鸣男人们在用机器收割小麦的同时几名妇女也加入到志愿队构成了一道美丽的麦收风景休息空闲工作队员和村民们坐在树荫下田埂上互相问好聊天语言交流有困难就用手势动作比划着聊天有趣地交流方式不时引来阵阵欢笑大家在一同享受丰收和喜悦也一同增进着彼此的情感和友谊自治区高级人民法院驻村工作队周春梅艾地艾木阿不拉细看稻菽千重浪6月15日自治区煤田灭火工程局的干部职工们再一次跋涉1000多公里来到了叶城县萨依巴格乡阿亚格欧尔达贝格村见到了自己的亲戚现场处处都透出掩盖不住的喜悦一声声亲切的谢谢一个个结实的拥抱都透露出浓浓的亲情没坐一会儿在嘘寒问暖中大家了解到在麦收的关键时刻部分村民家中却存在收割难的问题小麦成熟期短收获的时间集中天气的变化对小麦最终产量的影响极大如果不能及时收割会有不小损失的于是大家几乎立刻就决定要帮助亲戚们收割麦子在茂密的麦地里干部们每人手持一把镰刀一字排开挽起衣袖卷起裤腿挥舞着镰刀进行着无声的竞赛骄阳似火汗如雨下但这都挡不住大家的热情随着此起彼伏的镰刀割倒麦子的刷刷声响不一会一束束沉甸甸的麦穗就被整齐地堆放了起来当看到自己亲手收割的金黄色麦穗被一簇簇地打成捆运送到晒场每个人的脸上都露出了灿烂的笑容自治区煤田灭火工程局驻村工作队马浩南这是一个收获多多的季节6月13日清晨6时许和田地区民丰县若雅乡特开墩村的麦田里已经传来马达轰鸣声原来是自治区质监局驻村工作队趁着天气尚且凉爽开始了麦田的收割工作忙碌间隙志愿者队伍搬来清凉的水村民们拎来鲜甜的西瓜抹一把汗水吃一牙西瓜甜蜜的汁水似乎流进了每一个人的心里说起割麦子对于生活在这片土地上的村民来说是再平常不过的事但是对于工作队队员们来说却是陌生的自治区质监局驻民丰县若克雅乡博斯坦村工作队队员们一开始觉得十几个人一起收割二亩地应该会挺快的结果却一点不简单镰刀拿到自己手里割起来考验才真正的开始大家弓着腰弯着腿亦步亦趋手上挥舞着镰刀时刻注意不要让镰刀割到自己脚下还要留心不要把套种的玉米苗踩伤不一会儿就已经汗流浃背了抬头看看身边的村民早就远远地割到前面去了只有今年已经56岁的工作队队长李树刚有割麦经验多少给队员们挽回了些面子赶不上村民们割麦子的速度更不要说搞定收割机这台大家伙了现代化的机械收割能成倍提升小麦的收割速度李树刚说不过能有这样的体验拉近和村民的距离也是很难得的体验自治区质监局驻村工作队王辉马君刚我们是麦田的守护者为了应对麦收新疆银监局驻和田县塔瓦库勒乡也先巴扎村工作队一早就从经济支援和人力支援两方面做好了准备一方面工作队帮村里购入了5台小麦收割机另一边还组织村干部青年团员等组成了6支近百人的收割先锋突击队帮助村民们抢收麦子看着及时归仓的麦子村民们喜得合不拢嘴纷纷摘下自家杏树上的杏子送给工作队金黄的麦穗温暖了村民们的心香甜的杏子温暖了工作队员的心麦子加杏子拉近了村民和队员们的心新疆银监局驻村工作队王继发免责声明本文仅代表作者个人观点与环球网无关其原创性以及文中陈述文字和内容未经本站证实对本文以及其中全部或者部分内容文字的真实性完整性及时性本站不作任何保证或承诺请读者仅作参考并请自行核实相关内容'"
      ]
     },
     "execution_count": 126,
     "metadata": {},
     "output_type": "execute_result"
    }
   ],
   "source": [
    "''.join(token(articles[110]))"
   ]
  },
  {
   "cell_type": "code",
   "execution_count": 134,
   "metadata": {},
   "outputs": [],
   "source": [
    "articles_clean = [''.join(token(str(a)))for a in articles]"
   ]
  },
  {
   "cell_type": "code",
   "execution_count": 136,
   "metadata": {},
   "outputs": [
    {
     "data": {
      "text/plain": [
       "'骁龙835作为唯一通过Windows10桌面平台认证的ARM处理器高通强调不会因为只考虑性能而去屏蔽掉小核心相反他们正联手微软找到一种适合桌面平台的兼顾性能和功耗的完美方案报道称微软已经拿到了一些新的源码以便Windows10更好地理解biglittle架构资料显示骁龙835作为一款集成了CPUGPU基带蓝牙WiFi的SoC比传统的Wintel方案可以节省至少30的PCB空间按计划今年Q4华硕惠普联想将首发骁龙835Win10电脑预计均是二合一形态的产品当然高通骁龙只是个开始未来也许还能见到三星Exynos联发科华为麒麟小米澎湃等进入Windows10桌面平台'"
      ]
     },
     "execution_count": 136,
     "metadata": {},
     "output_type": "execute_result"
    }
   ],
   "source": [
    "articles_clean[1]"
   ]
  },
  {
   "cell_type": "code",
   "execution_count": 137,
   "metadata": {},
   "outputs": [
    {
     "data": {
      "text/plain": [
       "89609"
      ]
     },
     "execution_count": 137,
     "metadata": {},
     "output_type": "execute_result"
    }
   ],
   "source": [
    "len(articles_clean)"
   ]
  },
  {
   "cell_type": "code",
   "execution_count": 169,
   "metadata": {},
   "outputs": [
    {
     "ename": "UnicodeEncodeError",
     "evalue": "'charmap' codec can't encode characters in position 0-4: character maps to <undefined>",
     "output_type": "error",
     "traceback": [
      "\u001b[1;31m---------------------------------------------------------------------------\u001b[0m",
      "\u001b[1;31mUnicodeEncodeError\u001b[0m                        Traceback (most recent call last)",
      "\u001b[1;32m<ipython-input-169-80db017df2a6>\u001b[0m in \u001b[0;36m<module>\u001b[1;34m\u001b[0m\n\u001b[0;32m      1\u001b[0m \u001b[1;32mwith\u001b[0m \u001b[0mopen\u001b[0m\u001b[1;33m(\u001b[0m\u001b[1;34m'article_9k.txt'\u001b[0m\u001b[1;33m,\u001b[0m \u001b[1;34m'w'\u001b[0m\u001b[1;33m)\u001b[0m \u001b[1;32mas\u001b[0m \u001b[0mf\u001b[0m\u001b[1;33m:\u001b[0m\u001b[1;33m\u001b[0m\u001b[1;33m\u001b[0m\u001b[0m\n\u001b[0;32m      2\u001b[0m     \u001b[1;32mfor\u001b[0m \u001b[0ma\u001b[0m \u001b[1;32min\u001b[0m \u001b[0marticles_clean\u001b[0m\u001b[1;33m:\u001b[0m\u001b[1;33m\u001b[0m\u001b[1;33m\u001b[0m\u001b[0m\n\u001b[1;32m----> 3\u001b[1;33m         \u001b[0mf\u001b[0m\u001b[1;33m.\u001b[0m\u001b[0mwrite\u001b[0m\u001b[1;33m(\u001b[0m\u001b[0ma\u001b[0m \u001b[1;33m+\u001b[0m \u001b[1;34m'\\n'\u001b[0m\u001b[1;33m)\u001b[0m\u001b[1;33m\u001b[0m\u001b[1;33m\u001b[0m\u001b[0m\n\u001b[0m",
      "\u001b[1;32mC:\\ProgramData\\Anaconda3\\lib\\encodings\\cp1252.py\u001b[0m in \u001b[0;36mencode\u001b[1;34m(self, input, final)\u001b[0m\n\u001b[0;32m     17\u001b[0m \u001b[1;32mclass\u001b[0m \u001b[0mIncrementalEncoder\u001b[0m\u001b[1;33m(\u001b[0m\u001b[0mcodecs\u001b[0m\u001b[1;33m.\u001b[0m\u001b[0mIncrementalEncoder\u001b[0m\u001b[1;33m)\u001b[0m\u001b[1;33m:\u001b[0m\u001b[1;33m\u001b[0m\u001b[1;33m\u001b[0m\u001b[0m\n\u001b[0;32m     18\u001b[0m     \u001b[1;32mdef\u001b[0m \u001b[0mencode\u001b[0m\u001b[1;33m(\u001b[0m\u001b[0mself\u001b[0m\u001b[1;33m,\u001b[0m \u001b[0minput\u001b[0m\u001b[1;33m,\u001b[0m \u001b[0mfinal\u001b[0m\u001b[1;33m=\u001b[0m\u001b[1;32mFalse\u001b[0m\u001b[1;33m)\u001b[0m\u001b[1;33m:\u001b[0m\u001b[1;33m\u001b[0m\u001b[1;33m\u001b[0m\u001b[0m\n\u001b[1;32m---> 19\u001b[1;33m         \u001b[1;32mreturn\u001b[0m \u001b[0mcodecs\u001b[0m\u001b[1;33m.\u001b[0m\u001b[0mcharmap_encode\u001b[0m\u001b[1;33m(\u001b[0m\u001b[0minput\u001b[0m\u001b[1;33m,\u001b[0m\u001b[0mself\u001b[0m\u001b[1;33m.\u001b[0m\u001b[0merrors\u001b[0m\u001b[1;33m,\u001b[0m\u001b[0mencoding_table\u001b[0m\u001b[1;33m)\u001b[0m\u001b[1;33m[\u001b[0m\u001b[1;36m0\u001b[0m\u001b[1;33m]\u001b[0m\u001b[1;33m\u001b[0m\u001b[1;33m\u001b[0m\u001b[0m\n\u001b[0m\u001b[0;32m     20\u001b[0m \u001b[1;33m\u001b[0m\u001b[0m\n\u001b[0;32m     21\u001b[0m \u001b[1;32mclass\u001b[0m \u001b[0mIncrementalDecoder\u001b[0m\u001b[1;33m(\u001b[0m\u001b[0mcodecs\u001b[0m\u001b[1;33m.\u001b[0m\u001b[0mIncrementalDecoder\u001b[0m\u001b[1;33m)\u001b[0m\u001b[1;33m:\u001b[0m\u001b[1;33m\u001b[0m\u001b[1;33m\u001b[0m\u001b[0m\n",
      "\u001b[1;31mUnicodeEncodeError\u001b[0m: 'charmap' codec can't encode characters in position 0-4: character maps to <undefined>"
     ]
    }
   ],
   "source": [
    "with open('article_9k.txt', 'w') as f:\n",
    "    for a in articles_clean:\n",
    "        f.write(a + '\\n')"
   ]
  },
  {
   "cell_type": "code",
   "execution_count": 168,
   "metadata": {},
   "outputs": [
    {
     "name": "stdout",
     "output_type": "stream",
     "text": [
      "article_9k.txt\n",
      "Assignment-01.ipynb\n",
      "assignment-01-optional-pattern-match.ipynb\n",
      "Computer Machinery and Intelligence.pdf\n",
      "Lesson-01.ipynb\n",
      "lesson01-for-2019-summer.pdf\n"
     ]
    }
   ],
   "source": [
    "!ls"
   ]
  },
  {
   "cell_type": "code",
   "execution_count": 147,
   "metadata": {},
   "outputs": [],
   "source": [
    "import jieba"
   ]
  },
  {
   "cell_type": "code",
   "execution_count": 173,
   "metadata": {},
   "outputs": [],
   "source": [
    "def cut(string): \n",
    "    return list(jieba.cut(string))"
   ]
  },
  {
   "cell_type": "code",
   "execution_count": 204,
   "metadata": {
    "collapsed": true
   },
   "outputs": [
    {
     "name": "stdout",
     "output_type": "stream",
     "text": [
      "0\n",
      "100\n",
      "200\n",
      "300\n",
      "400\n",
      "500\n",
      "600\n",
      "700\n",
      "800\n",
      "900\n",
      "1000\n"
     ]
    }
   ],
   "source": [
    "token_ = []\n",
    "for i, line in enumerate(articles_clean):\n",
    "    if i % 100 == 0: print(i)\n",
    "    \n",
    "    # replace 10000 with a big number when you do your homework. \n",
    "    \n",
    "    if i > 1000: break \n",
    "    token_ += cut(line)"
   ]
  },
  {
   "cell_type": "code",
   "execution_count": 205,
   "metadata": {
    "collapsed": true
   },
   "outputs": [
    {
     "data": {
      "text/plain": [
       "['此外',\n",
       " '自',\n",
       " '本周',\n",
       " '6',\n",
       " '月',\n",
       " '12',\n",
       " '日起',\n",
       " '除',\n",
       " '小米',\n",
       " '手机',\n",
       " '6',\n",
       " '等',\n",
       " '15',\n",
       " '款',\n",
       " '机型',\n",
       " '外',\n",
       " '其余',\n",
       " '机型',\n",
       " '已',\n",
       " '暂停',\n",
       " '更新',\n",
       " '发布',\n",
       " '含',\n",
       " '开发',\n",
       " '版',\n",
       " '体验版',\n",
       " '内测',\n",
       " '稳定版',\n",
       " '暂不受',\n",
       " '影响',\n",
       " '以',\n",
       " '确保',\n",
       " '工程师',\n",
       " '可以',\n",
       " '集中',\n",
       " '全部',\n",
       " '精力',\n",
       " '进行',\n",
       " '系统优化',\n",
       " '工作',\n",
       " '有人',\n",
       " '猜测',\n",
       " '这',\n",
       " '也',\n",
       " '是',\n",
       " '将',\n",
       " '精力',\n",
       " '主要',\n",
       " '用到',\n",
       " 'MIUI9',\n",
       " '的',\n",
       " '研发',\n",
       " '之中',\n",
       " 'MIUI8',\n",
       " '去年',\n",
       " '5',\n",
       " '月',\n",
       " '发布',\n",
       " '距今已有',\n",
       " '一年',\n",
       " '有余',\n",
       " '也',\n",
       " '是',\n",
       " '时候',\n",
       " '更新换代',\n",
       " '了',\n",
       " '当然',\n",
       " '关于',\n",
       " 'MIUI9',\n",
       " '的',\n",
       " '确切',\n",
       " '信息',\n",
       " '我们',\n",
       " '还是',\n",
       " '等待',\n",
       " '官方消息',\n",
       " '骁龙',\n",
       " '835',\n",
       " '作为',\n",
       " '唯一',\n",
       " '通过',\n",
       " 'Windows10',\n",
       " '桌面',\n",
       " '平台',\n",
       " '认证',\n",
       " '的',\n",
       " 'ARM',\n",
       " '处理器',\n",
       " '高通',\n",
       " '强调',\n",
       " '不会',\n",
       " '因为',\n",
       " '只',\n",
       " '考虑',\n",
       " '性能',\n",
       " '而',\n",
       " '去',\n",
       " '屏蔽掉',\n",
       " '小',\n",
       " '核心',\n",
       " '相反',\n",
       " '他们',\n",
       " '正',\n",
       " '联手',\n",
       " '微软',\n",
       " '找到',\n",
       " '一种',\n",
       " '适合',\n",
       " '桌面',\n",
       " '平台',\n",
       " '的',\n",
       " '兼顾',\n",
       " '性能',\n",
       " '和',\n",
       " '功耗',\n",
       " '的',\n",
       " '完美',\n",
       " '方案',\n",
       " '报道',\n",
       " '称',\n",
       " '微软',\n",
       " '已经',\n",
       " '拿到',\n",
       " '了',\n",
       " '一些',\n",
       " '新',\n",
       " '的',\n",
       " '源码',\n",
       " '以便',\n",
       " 'Windows10',\n",
       " '更好',\n",
       " '地',\n",
       " '理解',\n",
       " 'biglittle',\n",
       " '架构',\n",
       " '资料',\n",
       " '显示',\n",
       " '骁龙',\n",
       " '835',\n",
       " '作为',\n",
       " '一款',\n",
       " '集成',\n",
       " '了',\n",
       " 'CPUGPU',\n",
       " '基带',\n",
       " '蓝牙',\n",
       " 'WiFi',\n",
       " '的',\n",
       " 'SoC',\n",
       " '比',\n",
       " '传统',\n",
       " '的',\n",
       " 'Wintel',\n",
       " '方案',\n",
       " '可以',\n",
       " '节省',\n",
       " '至少',\n",
       " '30',\n",
       " '的',\n",
       " 'PCB',\n",
       " '空间',\n",
       " '按计划',\n",
       " '今年',\n",
       " 'Q4',\n",
       " '华硕',\n",
       " '惠普',\n",
       " '联想',\n",
       " '将',\n",
       " '首发',\n",
       " '骁龙',\n",
       " '835Win10',\n",
       " '电脑',\n",
       " '预计',\n",
       " '均',\n",
       " '是',\n",
       " '二合一',\n",
       " '形态',\n",
       " '的',\n",
       " '产品',\n",
       " '当然',\n",
       " '高通',\n",
       " '骁龙',\n",
       " '只是',\n",
       " '个',\n",
       " '开始',\n",
       " '未来',\n",
       " '也许',\n",
       " '还',\n",
       " '能',\n",
       " '见到',\n",
       " '三星',\n",
       " 'Exynos',\n",
       " '联发科',\n",
       " '华为',\n",
       " '麒麟',\n",
       " '小米',\n",
       " '澎湃',\n",
       " '等',\n",
       " '进入',\n",
       " 'Windows10',\n",
       " '桌面',\n",
       " '平台',\n",
       " '此前',\n",
       " '的',\n",
       " '一加',\n",
       " '3T',\n",
       " '搭载',\n",
       " '的',\n",
       " '是',\n",
       " '3400mAh',\n",
       " '电池',\n",
       " 'DashCharge',\n",
       " '快充',\n",
       " '规格',\n",
       " '为',\n",
       " '5V4A',\n",
       " '至于',\n",
       " '电池',\n",
       " '缩水',\n",
       " '可能',\n",
       " '与',\n",
       " '刘作',\n",
       " '虎',\n",
       " '所说',\n",
       " '一加',\n",
       " '手机',\n",
       " '5',\n",
       " '要',\n",
       " '做',\n",
       " '市面',\n",
       " '最',\n",
       " '轻薄',\n",
       " '大屏',\n",
       " '旗舰',\n",
       " '的',\n",
       " '设定',\n",
       " '有关',\n",
       " '按照',\n",
       " '目前',\n",
       " '掌握',\n",
       " '的',\n",
       " '资料',\n",
       " '一加',\n",
       " '手机',\n",
       " '5',\n",
       " '拥有',\n",
       " '55',\n",
       " '寸',\n",
       " '1080P',\n",
       " '三星',\n",
       " 'AMOLED',\n",
       " '显示屏',\n",
       " '6G8GBRAM64GB128GBROM',\n",
       " '双',\n",
       " '1600',\n",
       " '万',\n",
       " '摄像头',\n",
       " '备货',\n",
       " '量',\n",
       " '惊喜',\n",
       " '根据',\n",
       " '京东',\n",
       " '泄露',\n",
       " '的',\n",
       " '信息',\n",
       " '一加',\n",
       " '5',\n",
       " '起',\n",
       " '售价',\n",
       " '是',\n",
       " 'xx99',\n",
       " '元',\n",
       " '应该',\n",
       " '是',\n",
       " '在',\n",
       " '279928992999',\n",
       " '中',\n",
       " '的',\n",
       " '某个',\n",
       " '这是',\n",
       " '6',\n",
       " '月',\n",
       " '18',\n",
       " '日',\n",
       " '在',\n",
       " '葡萄牙',\n",
       " '中部',\n",
       " '大',\n",
       " '佩德罗',\n",
       " '冈',\n",
       " '地区',\n",
       " '拍摄',\n",
       " '的',\n",
       " '被',\n",
       " '森林',\n",
       " '大火',\n",
       " '烧毁',\n",
       " '的',\n",
       " '汽车',\n",
       " '新华社',\n",
       " '记者',\n",
       " '张立',\n",
       " '云摄',\n",
       " '原',\n",
       " '标题',\n",
       " '44',\n",
       " '岁',\n",
       " '女子',\n",
       " '跑',\n",
       " '深圳',\n",
       " '约会',\n",
       " '网友',\n",
       " '被',\n",
       " '拒',\n",
       " '暴雨',\n",
       " '中',\n",
       " '裸身',\n",
       " '奔走',\n",
       " '深圳',\n",
       " '交警',\n",
       " '微博称',\n",
       " '昨日',\n",
       " '清晨',\n",
       " '交警',\n",
       " '发现',\n",
       " '有',\n",
       " '一',\n",
       " '女子',\n",
       " '赤裸',\n",
       " '上身',\n",
       " '行走',\n",
       " '在',\n",
       " '南坪',\n",
       " '快速',\n",
       " '上',\n",
       " '期间',\n",
       " '还',\n",
       " '起',\n",
       " '了',\n",
       " '轻生',\n",
       " '年头',\n",
       " '一辅警',\n",
       " '发现',\n",
       " '后',\n",
       " '赶紧',\n",
       " '为',\n",
       " '其',\n",
       " '披上',\n",
       " '黄衣',\n",
       " '并',\n",
       " '一路',\n",
       " '劝说',\n",
       " '她',\n",
       " '那么',\n",
       " '事发',\n",
       " '时',\n",
       " '到底',\n",
       " '都',\n",
       " '发生',\n",
       " '了',\n",
       " '些',\n",
       " '什么',\n",
       " '呢',\n",
       " '南',\n",
       " '都',\n",
       " '记者',\n",
       " '带',\n",
       " '您',\n",
       " '一起',\n",
       " '还原',\n",
       " '现场',\n",
       " '南',\n",
       " '都',\n",
       " '记者',\n",
       " '在',\n",
       " '龙岗',\n",
       " '大队',\n",
       " '坂田',\n",
       " '中队',\n",
       " '见到',\n",
       " '了',\n",
       " '辅警',\n",
       " '刘青',\n",
       " '发现',\n",
       " '女生',\n",
       " '的',\n",
       " '辅警',\n",
       " '一位',\n",
       " '外表',\n",
       " '高大',\n",
       " '帅气',\n",
       " '说话',\n",
       " '略带',\n",
       " '些',\n",
       " '腼腆',\n",
       " '的',\n",
       " '90',\n",
       " '后',\n",
       " '青年',\n",
       " '刘青',\n",
       " '介绍',\n",
       " '6',\n",
       " '月',\n",
       " '16',\n",
       " '日',\n",
       " '早上',\n",
       " '7',\n",
       " '时',\n",
       " '36',\n",
       " '分',\n",
       " '他',\n",
       " '正在',\n",
       " '环城',\n",
       " '南路',\n",
       " '附近',\n",
       " '值勤',\n",
       " '接到',\n",
       " '中队',\n",
       " '关于',\n",
       " '一位',\n",
       " '女子',\n",
       " '裸身',\n",
       " '进入',\n",
       " '机动车',\n",
       " '可能',\n",
       " '有',\n",
       " '危险',\n",
       " '的',\n",
       " '警情',\n",
       " '随后',\n",
       " '骑着',\n",
       " '小',\n",
       " '铁骑',\n",
       " '开始',\n",
       " '沿路',\n",
       " '寻找',\n",
       " '大概',\n",
       " '花',\n",
       " '了',\n",
       " '十多分钟',\n",
       " '在',\n",
       " '南坪',\n",
       " '大道',\n",
       " '坂田',\n",
       " '出口',\n",
       " '往',\n",
       " '龙岗',\n",
       " '方向',\n",
       " '的',\n",
       " '逆行',\n",
       " '辅道',\n",
       " '上',\n",
       " '发现',\n",
       " '该',\n",
       " '女子',\n",
       " '女子',\n",
       " '身上',\n",
       " '一丝不挂',\n",
       " '地逆',\n",
       " '车流',\n",
       " '而',\n",
       " '行时',\n",
       " '走时',\n",
       " '停时',\n",
       " '坐时',\n",
       " '躺',\n",
       " '险象环生',\n",
       " '刘青停',\n",
       " '好',\n",
       " '小',\n",
       " '铁骑',\n",
       " '和',\n",
       " '另外',\n",
       " '一名',\n",
       " '巡防',\n",
       " '员',\n",
       " '追',\n",
       " '了',\n",
       " '上去',\n",
       " '发现',\n",
       " '女子',\n",
       " '的',\n",
       " '情绪',\n",
       " '很',\n",
       " '低落',\n",
       " '话',\n",
       " '不',\n",
       " '多',\n",
       " '刘青',\n",
       " '尝试',\n",
       " '和',\n",
       " '女子',\n",
       " '交流',\n",
       " '劝说',\n",
       " '女子',\n",
       " '离开',\n",
       " '可',\n",
       " '女子',\n",
       " '并',\n",
       " '不',\n",
       " '愿意',\n",
       " '接受',\n",
       " '继续',\n",
       " '缓慢',\n",
       " '地往',\n",
       " '南坪',\n",
       " '快速路',\n",
       " '的',\n",
       " '主干道',\n",
       " '上',\n",
       " '走',\n",
       " '去',\n",
       " '此时',\n",
       " '路边',\n",
       " '上',\n",
       " '已经',\n",
       " '聚集',\n",
       " '了',\n",
       " '很',\n",
       " '市民',\n",
       " '围观',\n",
       " '为了',\n",
       " '不',\n",
       " '刺激',\n",
       " '女子',\n",
       " '的',\n",
       " '情绪',\n",
       " '刘青',\n",
       " '和',\n",
       " '巡防',\n",
       " '员',\n",
       " '一边',\n",
       " '盯',\n",
       " '着',\n",
       " '女子',\n",
       " '一边',\n",
       " '驱赶',\n",
       " '着',\n",
       " '围观',\n",
       " '的',\n",
       " '群众',\n",
       " '现场',\n",
       " '还原',\n",
       " '从',\n",
       " '警方',\n",
       " '提供',\n",
       " '的',\n",
       " '一份',\n",
       " '视频',\n",
       " '了解',\n",
       " '到',\n",
       " '16',\n",
       " '日',\n",
       " '早上',\n",
       " '7',\n",
       " '时',\n",
       " '25',\n",
       " '分',\n",
       " '女子',\n",
       " '出现',\n",
       " '在',\n",
       " '坂雪岗',\n",
       " '大道',\n",
       " '与',\n",
       " '环城',\n",
       " '南路',\n",
       " '的',\n",
       " '监控',\n",
       " '视频',\n",
       " '中',\n",
       " '此时',\n",
       " '女子',\n",
       " '还',\n",
       " '穿着',\n",
       " '白色',\n",
       " '的',\n",
       " '内裤',\n",
       " '正',\n",
       " '沿着',\n",
       " '坂雪岗',\n",
       " '大道',\n",
       " '往',\n",
       " '南坪',\n",
       " '快速',\n",
       " '的',\n",
       " '方向',\n",
       " '缓慢',\n",
       " '地',\n",
       " '走',\n",
       " '着',\n",
       " '当时',\n",
       " '正值',\n",
       " '上班',\n",
       " '高峰期',\n",
       " '十字路口',\n",
       " '的',\n",
       " '车流',\n",
       " '已经',\n",
       " '排起',\n",
       " '了',\n",
       " '长队',\n",
       " '当',\n",
       " '女子',\n",
       " '出现',\n",
       " '时',\n",
       " '路上',\n",
       " '的',\n",
       " '市民',\n",
       " '纷纷',\n",
       " '驻足',\n",
       " '观望',\n",
       " '不少',\n",
       " '车辆',\n",
       " '也',\n",
       " '放慢',\n",
       " '了',\n",
       " '速度',\n",
       " '但',\n",
       " '女子',\n",
       " '并',\n",
       " '不',\n",
       " '为',\n",
       " '市民',\n",
       " '观望',\n",
       " '停下',\n",
       " '脚步',\n",
       " '依然',\n",
       " '缓慢',\n",
       " '走',\n",
       " '着',\n",
       " '当',\n",
       " '女子',\n",
       " '行进',\n",
       " '到',\n",
       " '十字路口',\n",
       " '中间',\n",
       " '时',\n",
       " '一辆',\n",
       " '大',\n",
       " '货车',\n",
       " '挡住',\n",
       " '了',\n",
       " '镜头',\n",
       " '但是',\n",
       " '当',\n",
       " '女子',\n",
       " '再次出现',\n",
       " '镜头',\n",
       " '时',\n",
       " '可以',\n",
       " '发现',\n",
       " '女子',\n",
       " '已经',\n",
       " '没',\n",
       " '穿',\n",
       " '内裤',\n",
       " '了',\n",
       " '全身',\n",
       " '裸露',\n",
       " '继续',\n",
       " '朝着',\n",
       " '南坪',\n",
       " '快速',\n",
       " '方向',\n",
       " '走',\n",
       " '去',\n",
       " '记者',\n",
       " '发现',\n",
       " '视频',\n",
       " '中',\n",
       " '女子',\n",
       " '周围',\n",
       " '并',\n",
       " '没有',\n",
       " '人',\n",
       " '尾随',\n",
       " '或者',\n",
       " '上前',\n",
       " '劝止',\n",
       " '的',\n",
       " '市民',\n",
       " '一',\n",
       " '大清早',\n",
       " '路上',\n",
       " '看到',\n",
       " '这样',\n",
       " '的',\n",
       " '情况',\n",
       " '恐怕',\n",
       " '大家',\n",
       " '都',\n",
       " '没',\n",
       " '办法',\n",
       " '淡定',\n",
       " '面对',\n",
       " '这一',\n",
       " '情况',\n",
       " '刘青',\n",
       " '表示',\n",
       " '一',\n",
       " '开始',\n",
       " '根本',\n",
       " '不敢',\n",
       " '看',\n",
       " '她',\n",
       " '心里',\n",
       " '挺',\n",
       " '别扭',\n",
       " '感觉',\n",
       " '很',\n",
       " '尴尬',\n",
       " '但',\n",
       " '当',\n",
       " '刘青',\n",
       " '跟随',\n",
       " '女子',\n",
       " '上',\n",
       " '了',\n",
       " '南坪',\n",
       " '快速路',\n",
       " '主干道',\n",
       " '时',\n",
       " '女子',\n",
       " '作出',\n",
       " '了',\n",
       " '让',\n",
       " '人',\n",
       " '意想不到',\n",
       " '的',\n",
       " '举动',\n",
       " '她',\n",
       " '突然',\n",
       " '靠近',\n",
       " '护栏',\n",
       " '要',\n",
       " '从',\n",
       " '上面',\n",
       " '跳下去',\n",
       " '刘青',\n",
       " '赶忙',\n",
       " '冲上去',\n",
       " '拉住',\n",
       " '了',\n",
       " '女子',\n",
       " '的',\n",
       " '手',\n",
       " '将',\n",
       " '其',\n",
       " '控制',\n",
       " '住',\n",
       " '并',\n",
       " '远离',\n",
       " '护栏',\n",
       " '碍于',\n",
       " '女子',\n",
       " '没有',\n",
       " '穿衣服',\n",
       " '刘青递',\n",
       " '上',\n",
       " '衣服',\n",
       " '女子',\n",
       " '没',\n",
       " '接受',\n",
       " '还',\n",
       " '把',\n",
       " '衣服',\n",
       " '扔',\n",
       " '到',\n",
       " '排水沟',\n",
       " '里',\n",
       " '继续',\n",
       " '往前走',\n",
       " '没',\n",
       " '办法',\n",
       " '刘青',\n",
       " '只能',\n",
       " '紧紧',\n",
       " '拉',\n",
       " '着',\n",
       " '她',\n",
       " '的',\n",
       " '一只',\n",
       " '手',\n",
       " '跟',\n",
       " '在',\n",
       " '后面',\n",
       " '刘青',\n",
       " '一路上',\n",
       " '耐心',\n",
       " '地',\n",
       " '开导',\n",
       " '安慰',\n",
       " '她',\n",
       " '但',\n",
       " '只',\n",
       " '听到',\n",
       " '她',\n",
       " '不断',\n",
       " '地',\n",
       " '重复',\n",
       " '着',\n",
       " '一句',\n",
       " '话',\n",
       " '要是',\n",
       " '你',\n",
       " '也',\n",
       " '遭遇',\n",
       " '我',\n",
       " '的',\n",
       " '事',\n",
       " '你',\n",
       " '也',\n",
       " '会',\n",
       " '这样',\n",
       " '的',\n",
       " '期间',\n",
       " '她',\n",
       " '还',\n",
       " '不时',\n",
       " '试图',\n",
       " '挣脱',\n",
       " '刘青',\n",
       " '的',\n",
       " '手要',\n",
       " '冲向',\n",
       " '护栏',\n",
       " '往下跳',\n",
       " '就',\n",
       " '这样',\n",
       " '我',\n",
       " '被',\n",
       " '牵',\n",
       " '着',\n",
       " '走',\n",
       " '了',\n",
       " '大概',\n",
       " '十多分钟',\n",
       " '天',\n",
       " '突然',\n",
       " '下起',\n",
       " '了',\n",
       " '大暴雨',\n",
       " '雨大',\n",
       " '的',\n",
       " '连',\n",
       " '眼睛',\n",
       " '都',\n",
       " '睁不开',\n",
       " '刘青',\n",
       " '继续',\n",
       " '说',\n",
       " '着',\n",
       " '瞬间',\n",
       " '他们',\n",
       " '就',\n",
       " '被',\n",
       " '雨',\n",
       " '透',\n",
       " '了',\n",
       " '但',\n",
       " '女子',\n",
       " '依然',\n",
       " '不',\n",
       " '愿意',\n",
       " '接受',\n",
       " '刘青',\n",
       " '的',\n",
       " '帮助',\n",
       " '就',\n",
       " '继续',\n",
       " '冒',\n",
       " '着',\n",
       " '大雨',\n",
       " '往前走',\n",
       " '大概',\n",
       " '走',\n",
       " '了',\n",
       " '有',\n",
       " '四十分钟',\n",
       " '吧',\n",
       " '女子',\n",
       " '突然',\n",
       " '停下',\n",
       " '来说',\n",
       " '我',\n",
       " '想',\n",
       " '回家',\n",
       " '了',\n",
       " '然后',\n",
       " '女子',\n",
       " '也',\n",
       " '接受',\n",
       " '了',\n",
       " '刘青',\n",
       " '递过来',\n",
       " '的',\n",
       " '小',\n",
       " '黄衣',\n",
       " '就',\n",
       " '出现',\n",
       " '了',\n",
       " '深圳',\n",
       " '微博上',\n",
       " '的',\n",
       " '照片',\n",
       " '女子',\n",
       " '披着',\n",
       " '小',\n",
       " '黄衣',\n",
       " '刘青',\n",
       " '小心翼翼',\n",
       " '地',\n",
       " '在',\n",
       " '旁边',\n",
       " '走',\n",
       " '着',\n",
       " '的',\n",
       " '场景',\n",
       " '从',\n",
       " '南平',\n",
       " '快速',\n",
       " '下来',\n",
       " '后',\n",
       " '刘青',\n",
       " '和',\n",
       " '巡防',\n",
       " '员',\n",
       " '将',\n",
       " '女子',\n",
       " '带到',\n",
       " '了',\n",
       " '附近',\n",
       " '的',\n",
       " '坂田',\n",
       " '派出所',\n",
       " '那',\n",
       " '姑娘',\n",
       " '到底',\n",
       " '是',\n",
       " '遭遇',\n",
       " '了',\n",
       " '什么样',\n",
       " '的',\n",
       " '事情',\n",
       " '才',\n",
       " '会',\n",
       " '说',\n",
       " '要是',\n",
       " '你',\n",
       " '也',\n",
       " '遭遇',\n",
       " '我',\n",
       " '的',\n",
       " '事',\n",
       " '你',\n",
       " '也',\n",
       " '会',\n",
       " '这样',\n",
       " '据',\n",
       " '警方',\n",
       " '透露',\n",
       " '该',\n",
       " '女子',\n",
       " '姓',\n",
       " '陈系',\n",
       " '湖北',\n",
       " '人',\n",
       " '今年',\n",
       " '44',\n",
       " '岁',\n",
       " '据',\n",
       " '家属',\n",
       " '反映',\n",
       " '其有',\n",
       " '精神病',\n",
       " '史',\n",
       " '三天',\n",
       " '前',\n",
       " '陈某',\n",
       " '从',\n",
       " '老家',\n",
       " '来',\n",
       " '深圳',\n",
       " '约会',\n",
       " '网友',\n",
       " '但',\n",
       " '约会',\n",
       " '受挫',\n",
       " '导致',\n",
       " '情绪',\n",
       " '异常',\n",
       " '女子',\n",
       " '遂',\n",
       " '产生',\n",
       " '轻生',\n",
       " '念头',\n",
       " '目前',\n",
       " '陈某',\n",
       " '已经',\n",
       " '被',\n",
       " ...]"
      ]
     },
     "execution_count": 205,
     "metadata": {},
     "output_type": "execute_result"
    }
   ],
   "source": [
    "token_"
   ]
  },
  {
   "cell_type": "code",
   "execution_count": 170,
   "metadata": {},
   "outputs": [],
   "source": [
    "for i, line in enumerate((open('article_9k.txt'))):\n",
    "    if i % 100 == 0: print(i)\n",
    "    \n",
    "    # replace 10000 with a big number when you do your homework. \n",
    "    \n",
    "    if i > 10000: break    \n",
    "    TOKEN += cut(line)"
   ]
  },
  {
   "cell_type": "code",
   "execution_count": 171,
   "metadata": {},
   "outputs": [
    {
     "data": {
      "text/plain": [
       "[]"
      ]
     },
     "execution_count": 171,
     "metadata": {},
     "output_type": "execute_result"
    }
   ],
   "source": [
    "TOKEN"
   ]
  },
  {
   "cell_type": "code",
   "execution_count": 15,
   "metadata": {},
   "outputs": [],
   "source": [
    "from functools import reduce"
   ]
  },
  {
   "cell_type": "code",
   "execution_count": 16,
   "metadata": {},
   "outputs": [],
   "source": [
    "from operator import add, mul"
   ]
  },
  {
   "cell_type": "code",
   "execution_count": 49,
   "metadata": {},
   "outputs": [
    {
     "data": {
      "text/plain": [
       "23"
      ]
     },
     "execution_count": 49,
     "metadata": {},
     "output_type": "execute_result"
    }
   ],
   "source": [
    "reduce(add, [1, 2, 3, 4, 5, 8])"
   ]
  },
  {
   "cell_type": "code",
   "execution_count": null,
   "metadata": {},
   "outputs": [],
   "source": [
    "[1, 2, 3] + [3, 43, 5]"
   ]
  },
  {
   "cell_type": "markdown",
   "metadata": {},
   "source": []
  },
  {
   "cell_type": "code",
   "execution_count": 206,
   "metadata": {},
   "outputs": [],
   "source": [
    "from collections import Counter"
   ]
  },
  {
   "cell_type": "code",
   "execution_count": 207,
   "metadata": {},
   "outputs": [],
   "source": [
    "words_count = Counter(token_)"
   ]
  },
  {
   "cell_type": "code",
   "execution_count": 159,
   "metadata": {},
   "outputs": [],
   "source": [
    "words_count = Counter(TOKEN)"
   ]
  },
  {
   "cell_type": "code",
   "execution_count": 208,
   "metadata": {
    "collapsed": true
   },
   "outputs": [
    {
     "data": {
      "text/plain": [
       "[('的', 23751),\n",
       " ('在', 6161),\n",
       " ('了', 5477),\n",
       " ('是', 3993),\n",
       " ('和', 3471),\n",
       " ('也', 2085),\n",
       " ('有', 2002),\n",
       " ('月', 1999),\n",
       " ('将', 1746),\n",
       " ('他', 1619),\n",
       " ('年', 1611),\n",
       " ('对', 1443),\n",
       " ('等', 1423),\n",
       " ('都', 1417),\n",
       " ('为', 1387),\n",
       " ('日', 1351),\n",
       " ('中', 1332),\n",
       " ('不', 1314),\n",
       " ('上', 1307),\n",
       " ('与', 1281),\n",
       " ('就', 1277),\n",
       " ('我', 1261),\n",
       " ('被', 1249),\n",
       " ('中国', 1236),\n",
       " ('6', 1230),\n",
       " ('到', 1172),\n",
       " ('人', 1094),\n",
       " ('这', 1069),\n",
       " ('但', 1051),\n",
       " ('一个', 984),\n",
       " ('后', 953),\n",
       " ('从', 951),\n",
       " ('还', 919),\n",
       " ('说', 911),\n",
       " ('并', 899),\n",
       " ('我们', 895),\n",
       " ('会', 843),\n",
       " ('而', 806),\n",
       " ('没有', 791),\n",
       " ('市场', 767),\n",
       " ('表示', 730),\n",
       " ('记者', 724),\n",
       " ('让', 717),\n",
       " ('进行', 685),\n",
       " ('要', 683),\n",
       " ('已经', 672),\n",
       " ('可以', 670),\n",
       " ('自己', 670),\n",
       " ('个', 657),\n",
       " ('他们', 645),\n",
       " ('时', 625),\n",
       " ('以', 622),\n",
       " ('发展', 620),\n",
       " ('下', 616),\n",
       " ('公司', 606),\n",
       " ('更', 567),\n",
       " ('5', 561),\n",
       " ('着', 557),\n",
       " ('你', 555),\n",
       " ('这个', 546),\n",
       " ('就是', 533),\n",
       " ('多', 521),\n",
       " ('能', 511),\n",
       " ('其', 507),\n",
       " ('目前', 505),\n",
       " ('可能', 504),\n",
       " ('企业', 485),\n",
       " ('3', 483),\n",
       " ('旅游', 483),\n",
       " ('通过', 481),\n",
       " ('她', 477),\n",
       " ('给', 472),\n",
       " ('时间', 471),\n",
       " ('北京', 470),\n",
       " ('1', 469),\n",
       " ('把', 467),\n",
       " ('工作', 464),\n",
       " ('新', 458),\n",
       " ('问题', 453),\n",
       " ('地', 452),\n",
       " ('很', 444),\n",
       " ('大', 440),\n",
       " ('来', 438),\n",
       " ('其中', 425),\n",
       " ('去', 423),\n",
       " ('里', 423),\n",
       " ('成为', 421),\n",
       " ('已', 414),\n",
       " ('4', 412),\n",
       " ('以及', 411),\n",
       " ('美国', 409),\n",
       " ('又', 399),\n",
       " ('20', 397),\n",
       " ('向', 394),\n",
       " ('10', 389),\n",
       " ('做', 387),\n",
       " ('投资', 381),\n",
       " ('2', 380),\n",
       " ('认为', 378),\n",
       " ('开始', 375)]"
      ]
     },
     "execution_count": 208,
     "metadata": {},
     "output_type": "execute_result"
    }
   ],
   "source": [
    "words_count.most_common(100)"
   ]
  },
  {
   "cell_type": "code",
   "execution_count": 209,
   "metadata": {},
   "outputs": [],
   "source": [
    "frequiences = [f for w, f in words_count.most_common(100)]"
   ]
  },
  {
   "cell_type": "code",
   "execution_count": 210,
   "metadata": {},
   "outputs": [],
   "source": [
    "x = [i for i in range(100)]"
   ]
  },
  {
   "cell_type": "code",
   "execution_count": 211,
   "metadata": {},
   "outputs": [],
   "source": [
    "%matplotlib inline"
   ]
  },
  {
   "cell_type": "code",
   "execution_count": 212,
   "metadata": {},
   "outputs": [],
   "source": [
    "import matplotlib.pyplot as plt"
   ]
  },
  {
   "cell_type": "code",
   "execution_count": 213,
   "metadata": {},
   "outputs": [
    {
     "data": {
      "text/plain": [
       "[<matplotlib.lines.Line2D at 0x181450cbcc0>]"
      ]
     },
     "execution_count": 213,
     "metadata": {},
     "output_type": "execute_result"
    },
    {
     "data": {
      "image/png": "[encoded data removed]",
      "text/plain": [
       "<Figure size 432x288 with 1 Axes>"
      ]
     },
     "metadata": {
      "needs_background": "light"
     },
     "output_type": "display_data"
    }
   ],
   "source": [
    "plt.plot(x, frequiences)"
   ]
  },
  {
   "cell_type": "code",
   "execution_count": 214,
   "metadata": {},
   "outputs": [],
   "source": [
    "import numpy as np"
   ]
  },
  {
   "cell_type": "code",
   "execution_count": 215,
   "metadata": {},
   "outputs": [
    {
     "data": {
      "text/plain": [
       "[<matplotlib.lines.Line2D at 0x1814141f5f8>]"
      ]
     },
     "execution_count": 215,
     "metadata": {},
     "output_type": "execute_result"
    },
    {
     "data": {
      "image/png": "[encoded data removed]",
      "text/plain": [
       "<Figure size 432x288 with 1 Axes>"
      ]
     },
     "metadata": {
      "needs_background": "light"
     },
     "output_type": "display_data"
    }
   ],
   "source": [
    "plt.plot(x, np.log(frequiences))"
   ]
  },
  {
   "cell_type": "code",
   "execution_count": 217,
   "metadata": {},
   "outputs": [],
   "source": [
    "def prob_1(word):\n",
    "    return words_count[word] / len(token_)"
   ]
  },
  {
   "cell_type": "code",
   "execution_count": 218,
   "metadata": {},
   "outputs": [
    {
     "data": {
      "text/plain": [
       "0.002031735942430365"
      ]
     },
     "execution_count": 218,
     "metadata": {},
     "output_type": "execute_result"
    }
   ],
   "source": [
    "prob_1('我们')"
   ]
  },
  {
   "cell_type": "code",
   "execution_count": 219,
   "metadata": {},
   "outputs": [
    {
     "data": {
      "text/plain": [
       "['此外', '自', '本周', '6', '月', '12', '日起', '除', '小米', '手机']"
      ]
     },
     "execution_count": 219,
     "metadata": {},
     "output_type": "execute_result"
    }
   ],
   "source": [
    "token_[:10]"
   ]
  },
  {
   "cell_type": "code",
   "execution_count": 220,
   "metadata": {},
   "outputs": [],
   "source": [
    "token_ = [str(t) for t in token_]"
   ]
  },
  {
   "cell_type": "code",
   "execution_count": 221,
   "metadata": {
    "collapsed": true
   },
   "outputs": [
    {
     "data": {
      "text/plain": [
       "['此外',\n",
       " '自',\n",
       " '本周',\n",
       " '6',\n",
       " '月',\n",
       " '12',\n",
       " '日起',\n",
       " '除',\n",
       " '小米',\n",
       " '手机',\n",
       " '6',\n",
       " '等',\n",
       " '15',\n",
       " '款',\n",
       " '机型',\n",
       " '外',\n",
       " '其余',\n",
       " '机型',\n",
       " '已',\n",
       " '暂停',\n",
       " '更新',\n",
       " '发布',\n",
       " '含',\n",
       " '开发',\n",
       " '版',\n",
       " '体验版',\n",
       " '内测',\n",
       " '稳定版',\n",
       " '暂不受',\n",
       " '影响',\n",
       " '以',\n",
       " '确保',\n",
       " '工程师',\n",
       " '可以',\n",
       " '集中',\n",
       " '全部',\n",
       " '精力',\n",
       " '进行',\n",
       " '系统优化',\n",
       " '工作',\n",
       " '有人',\n",
       " '猜测',\n",
       " '这',\n",
       " '也',\n",
       " '是',\n",
       " '将',\n",
       " '精力',\n",
       " '主要',\n",
       " '用到',\n",
       " 'MIUI9',\n",
       " '的',\n",
       " '研发',\n",
       " '之中',\n",
       " 'MIUI8',\n",
       " '去年',\n",
       " '5',\n",
       " '月',\n",
       " '发布',\n",
       " '距今已有',\n",
       " '一年',\n",
       " '有余',\n",
       " '也',\n",
       " '是',\n",
       " '时候',\n",
       " '更新换代',\n",
       " '了',\n",
       " '当然',\n",
       " '关于',\n",
       " 'MIUI9',\n",
       " '的',\n",
       " '确切',\n",
       " '信息',\n",
       " '我们',\n",
       " '还是',\n",
       " '等待',\n",
       " '官方消息',\n",
       " '骁龙',\n",
       " '835',\n",
       " '作为',\n",
       " '唯一',\n",
       " '通过',\n",
       " 'Windows10',\n",
       " '桌面',\n",
       " '平台',\n",
       " '认证',\n",
       " '的',\n",
       " 'ARM',\n",
       " '处理器',\n",
       " '高通',\n",
       " '强调',\n",
       " '不会',\n",
       " '因为',\n",
       " '只',\n",
       " '考虑',\n",
       " '性能',\n",
       " '而',\n",
       " '去',\n",
       " '屏蔽掉',\n",
       " '小',\n",
       " '核心',\n",
       " '相反',\n",
       " '他们',\n",
       " '正',\n",
       " '联手',\n",
       " '微软',\n",
       " '找到',\n",
       " '一种',\n",
       " '适合',\n",
       " '桌面',\n",
       " '平台',\n",
       " '的',\n",
       " '兼顾',\n",
       " '性能',\n",
       " '和',\n",
       " '功耗',\n",
       " '的',\n",
       " '完美',\n",
       " '方案',\n",
       " '报道',\n",
       " '称',\n",
       " '微软',\n",
       " '已经',\n",
       " '拿到',\n",
       " '了',\n",
       " '一些',\n",
       " '新',\n",
       " '的',\n",
       " '源码',\n",
       " '以便',\n",
       " 'Windows10',\n",
       " '更好',\n",
       " '地',\n",
       " '理解',\n",
       " 'biglittle',\n",
       " '架构',\n",
       " '资料',\n",
       " '显示',\n",
       " '骁龙',\n",
       " '835',\n",
       " '作为',\n",
       " '一款',\n",
       " '集成',\n",
       " '了',\n",
       " 'CPUGPU',\n",
       " '基带',\n",
       " '蓝牙',\n",
       " 'WiFi',\n",
       " '的',\n",
       " 'SoC',\n",
       " '比',\n",
       " '传统',\n",
       " '的',\n",
       " 'Wintel',\n",
       " '方案',\n",
       " '可以',\n",
       " '节省',\n",
       " '至少',\n",
       " '30',\n",
       " '的',\n",
       " 'PCB',\n",
       " '空间',\n",
       " '按计划',\n",
       " '今年',\n",
       " 'Q4',\n",
       " '华硕',\n",
       " '惠普',\n",
       " '联想',\n",
       " '将',\n",
       " '首发',\n",
       " '骁龙',\n",
       " '835Win10',\n",
       " '电脑',\n",
       " '预计',\n",
       " '均',\n",
       " '是',\n",
       " '二合一',\n",
       " '形态',\n",
       " '的',\n",
       " '产品',\n",
       " '当然',\n",
       " '高通',\n",
       " '骁龙',\n",
       " '只是',\n",
       " '个',\n",
       " '开始',\n",
       " '未来',\n",
       " '也许',\n",
       " '还',\n",
       " '能',\n",
       " '见到',\n",
       " '三星',\n",
       " 'Exynos',\n",
       " '联发科',\n",
       " '华为',\n",
       " '麒麟',\n",
       " '小米',\n",
       " '澎湃',\n",
       " '等',\n",
       " '进入',\n",
       " 'Windows10',\n",
       " '桌面',\n",
       " '平台',\n",
       " '此前',\n",
       " '的',\n",
       " '一加',\n",
       " '3T',\n",
       " '搭载',\n",
       " '的',\n",
       " '是',\n",
       " '3400mAh',\n",
       " '电池',\n",
       " 'DashCharge',\n",
       " '快充',\n",
       " '规格',\n",
       " '为',\n",
       " '5V4A',\n",
       " '至于',\n",
       " '电池',\n",
       " '缩水',\n",
       " '可能',\n",
       " '与',\n",
       " '刘作',\n",
       " '虎',\n",
       " '所说',\n",
       " '一加',\n",
       " '手机',\n",
       " '5',\n",
       " '要',\n",
       " '做',\n",
       " '市面',\n",
       " '最',\n",
       " '轻薄',\n",
       " '大屏',\n",
       " '旗舰',\n",
       " '的',\n",
       " '设定',\n",
       " '有关',\n",
       " '按照',\n",
       " '目前',\n",
       " '掌握',\n",
       " '的',\n",
       " '资料',\n",
       " '一加',\n",
       " '手机',\n",
       " '5',\n",
       " '拥有',\n",
       " '55',\n",
       " '寸',\n",
       " '1080P',\n",
       " '三星',\n",
       " 'AMOLED',\n",
       " '显示屏',\n",
       " '6G8GBRAM64GB128GBROM',\n",
       " '双',\n",
       " '1600',\n",
       " '万',\n",
       " '摄像头',\n",
       " '备货',\n",
       " '量',\n",
       " '惊喜',\n",
       " '根据',\n",
       " '京东',\n",
       " '泄露',\n",
       " '的',\n",
       " '信息',\n",
       " '一加',\n",
       " '5',\n",
       " '起',\n",
       " '售价',\n",
       " '是',\n",
       " 'xx99',\n",
       " '元',\n",
       " '应该',\n",
       " '是',\n",
       " '在',\n",
       " '279928992999',\n",
       " '中',\n",
       " '的',\n",
       " '某个',\n",
       " '这是',\n",
       " '6',\n",
       " '月',\n",
       " '18',\n",
       " '日',\n",
       " '在',\n",
       " '葡萄牙',\n",
       " '中部',\n",
       " '大',\n",
       " '佩德罗',\n",
       " '冈',\n",
       " '地区',\n",
       " '拍摄',\n",
       " '的',\n",
       " '被',\n",
       " '森林',\n",
       " '大火',\n",
       " '烧毁',\n",
       " '的',\n",
       " '汽车',\n",
       " '新华社',\n",
       " '记者',\n",
       " '张立',\n",
       " '云摄',\n",
       " '原',\n",
       " '标题',\n",
       " '44',\n",
       " '岁',\n",
       " '女子',\n",
       " '跑',\n",
       " '深圳',\n",
       " '约会',\n",
       " '网友',\n",
       " '被',\n",
       " '拒',\n",
       " '暴雨',\n",
       " '中',\n",
       " '裸身',\n",
       " '奔走',\n",
       " '深圳',\n",
       " '交警',\n",
       " '微博称',\n",
       " '昨日',\n",
       " '清晨',\n",
       " '交警',\n",
       " '发现',\n",
       " '有',\n",
       " '一',\n",
       " '女子',\n",
       " '赤裸',\n",
       " '上身',\n",
       " '行走',\n",
       " '在',\n",
       " '南坪',\n",
       " '快速',\n",
       " '上',\n",
       " '期间',\n",
       " '还',\n",
       " '起',\n",
       " '了',\n",
       " '轻生',\n",
       " '年头',\n",
       " '一辅警',\n",
       " '发现',\n",
       " '后',\n",
       " '赶紧',\n",
       " '为',\n",
       " '其',\n",
       " '披上',\n",
       " '黄衣',\n",
       " '并',\n",
       " '一路',\n",
       " '劝说',\n",
       " '她',\n",
       " '那么',\n",
       " '事发',\n",
       " '时',\n",
       " '到底',\n",
       " '都',\n",
       " '发生',\n",
       " '了',\n",
       " '些',\n",
       " '什么',\n",
       " '呢',\n",
       " '南',\n",
       " '都',\n",
       " '记者',\n",
       " '带',\n",
       " '您',\n",
       " '一起',\n",
       " '还原',\n",
       " '现场',\n",
       " '南',\n",
       " '都',\n",
       " '记者',\n",
       " '在',\n",
       " '龙岗',\n",
       " '大队',\n",
       " '坂田',\n",
       " '中队',\n",
       " '见到',\n",
       " '了',\n",
       " '辅警',\n",
       " '刘青',\n",
       " '发现',\n",
       " '女生',\n",
       " '的',\n",
       " '辅警',\n",
       " '一位',\n",
       " '外表',\n",
       " '高大',\n",
       " '帅气',\n",
       " '说话',\n",
       " '略带',\n",
       " '些',\n",
       " '腼腆',\n",
       " '的',\n",
       " '90',\n",
       " '后',\n",
       " '青年',\n",
       " '刘青',\n",
       " '介绍',\n",
       " '6',\n",
       " '月',\n",
       " '16',\n",
       " '日',\n",
       " '早上',\n",
       " '7',\n",
       " '时',\n",
       " '36',\n",
       " '分',\n",
       " '他',\n",
       " '正在',\n",
       " '环城',\n",
       " '南路',\n",
       " '附近',\n",
       " '值勤',\n",
       " '接到',\n",
       " '中队',\n",
       " '关于',\n",
       " '一位',\n",
       " '女子',\n",
       " '裸身',\n",
       " '进入',\n",
       " '机动车',\n",
       " '可能',\n",
       " '有',\n",
       " '危险',\n",
       " '的',\n",
       " '警情',\n",
       " '随后',\n",
       " '骑着',\n",
       " '小',\n",
       " '铁骑',\n",
       " '开始',\n",
       " '沿路',\n",
       " '寻找',\n",
       " '大概',\n",
       " '花',\n",
       " '了',\n",
       " '十多分钟',\n",
       " '在',\n",
       " '南坪',\n",
       " '大道',\n",
       " '坂田',\n",
       " '出口',\n",
       " '往',\n",
       " '龙岗',\n",
       " '方向',\n",
       " '的',\n",
       " '逆行',\n",
       " '辅道',\n",
       " '上',\n",
       " '发现',\n",
       " '该',\n",
       " '女子',\n",
       " '女子',\n",
       " '身上',\n",
       " '一丝不挂',\n",
       " '地逆',\n",
       " '车流',\n",
       " '而',\n",
       " '行时',\n",
       " '走时',\n",
       " '停时',\n",
       " '坐时',\n",
       " '躺',\n",
       " '险象环生',\n",
       " '刘青停',\n",
       " '好',\n",
       " '小',\n",
       " '铁骑',\n",
       " '和',\n",
       " '另外',\n",
       " '一名',\n",
       " '巡防',\n",
       " '员',\n",
       " '追',\n",
       " '了',\n",
       " '上去',\n",
       " '发现',\n",
       " '女子',\n",
       " '的',\n",
       " '情绪',\n",
       " '很',\n",
       " '低落',\n",
       " '话',\n",
       " '不',\n",
       " '多',\n",
       " '刘青',\n",
       " '尝试',\n",
       " '和',\n",
       " '女子',\n",
       " '交流',\n",
       " '劝说',\n",
       " '女子',\n",
       " '离开',\n",
       " '可',\n",
       " '女子',\n",
       " '并',\n",
       " '不',\n",
       " '愿意',\n",
       " '接受',\n",
       " '继续',\n",
       " '缓慢',\n",
       " '地往',\n",
       " '南坪',\n",
       " '快速路',\n",
       " '的',\n",
       " '主干道',\n",
       " '上',\n",
       " '走',\n",
       " '去',\n",
       " '此时',\n",
       " '路边',\n",
       " '上',\n",
       " '已经',\n",
       " '聚集',\n",
       " '了',\n",
       " '很',\n",
       " '市民',\n",
       " '围观',\n",
       " '为了',\n",
       " '不',\n",
       " '刺激',\n",
       " '女子',\n",
       " '的',\n",
       " '情绪',\n",
       " '刘青',\n",
       " '和',\n",
       " '巡防',\n",
       " '员',\n",
       " '一边',\n",
       " '盯',\n",
       " '着',\n",
       " '女子',\n",
       " '一边',\n",
       " '驱赶',\n",
       " '着',\n",
       " '围观',\n",
       " '的',\n",
       " '群众',\n",
       " '现场',\n",
       " '还原',\n",
       " '从',\n",
       " '警方',\n",
       " '提供',\n",
       " '的',\n",
       " '一份',\n",
       " '视频',\n",
       " '了解',\n",
       " '到',\n",
       " '16',\n",
       " '日',\n",
       " '早上',\n",
       " '7',\n",
       " '时',\n",
       " '25',\n",
       " '分',\n",
       " '女子',\n",
       " '出现',\n",
       " '在',\n",
       " '坂雪岗',\n",
       " '大道',\n",
       " '与',\n",
       " '环城',\n",
       " '南路',\n",
       " '的',\n",
       " '监控',\n",
       " '视频',\n",
       " '中',\n",
       " '此时',\n",
       " '女子',\n",
       " '还',\n",
       " '穿着',\n",
       " '白色',\n",
       " '的',\n",
       " '内裤',\n",
       " '正',\n",
       " '沿着',\n",
       " '坂雪岗',\n",
       " '大道',\n",
       " '往',\n",
       " '南坪',\n",
       " '快速',\n",
       " '的',\n",
       " '方向',\n",
       " '缓慢',\n",
       " '地',\n",
       " '走',\n",
       " '着',\n",
       " '当时',\n",
       " '正值',\n",
       " '上班',\n",
       " '高峰期',\n",
       " '十字路口',\n",
       " '的',\n",
       " '车流',\n",
       " '已经',\n",
       " '排起',\n",
       " '了',\n",
       " '长队',\n",
       " '当',\n",
       " '女子',\n",
       " '出现',\n",
       " '时',\n",
       " '路上',\n",
       " '的',\n",
       " '市民',\n",
       " '纷纷',\n",
       " '驻足',\n",
       " '观望',\n",
       " '不少',\n",
       " '车辆',\n",
       " '也',\n",
       " '放慢',\n",
       " '了',\n",
       " '速度',\n",
       " '但',\n",
       " '女子',\n",
       " '并',\n",
       " '不',\n",
       " '为',\n",
       " '市民',\n",
       " '观望',\n",
       " '停下',\n",
       " '脚步',\n",
       " '依然',\n",
       " '缓慢',\n",
       " '走',\n",
       " '着',\n",
       " '当',\n",
       " '女子',\n",
       " '行进',\n",
       " '到',\n",
       " '十字路口',\n",
       " '中间',\n",
       " '时',\n",
       " '一辆',\n",
       " '大',\n",
       " '货车',\n",
       " '挡住',\n",
       " '了',\n",
       " '镜头',\n",
       " '但是',\n",
       " '当',\n",
       " '女子',\n",
       " '再次出现',\n",
       " '镜头',\n",
       " '时',\n",
       " '可以',\n",
       " '发现',\n",
       " '女子',\n",
       " '已经',\n",
       " '没',\n",
       " '穿',\n",
       " '内裤',\n",
       " '了',\n",
       " '全身',\n",
       " '裸露',\n",
       " '继续',\n",
       " '朝着',\n",
       " '南坪',\n",
       " '快速',\n",
       " '方向',\n",
       " '走',\n",
       " '去',\n",
       " '记者',\n",
       " '发现',\n",
       " '视频',\n",
       " '中',\n",
       " '女子',\n",
       " '周围',\n",
       " '并',\n",
       " '没有',\n",
       " '人',\n",
       " '尾随',\n",
       " '或者',\n",
       " '上前',\n",
       " '劝止',\n",
       " '的',\n",
       " '市民',\n",
       " '一',\n",
       " '大清早',\n",
       " '路上',\n",
       " '看到',\n",
       " '这样',\n",
       " '的',\n",
       " '情况',\n",
       " '恐怕',\n",
       " '大家',\n",
       " '都',\n",
       " '没',\n",
       " '办法',\n",
       " '淡定',\n",
       " '面对',\n",
       " '这一',\n",
       " '情况',\n",
       " '刘青',\n",
       " '表示',\n",
       " '一',\n",
       " '开始',\n",
       " '根本',\n",
       " '不敢',\n",
       " '看',\n",
       " '她',\n",
       " '心里',\n",
       " '挺',\n",
       " '别扭',\n",
       " '感觉',\n",
       " '很',\n",
       " '尴尬',\n",
       " '但',\n",
       " '当',\n",
       " '刘青',\n",
       " '跟随',\n",
       " '女子',\n",
       " '上',\n",
       " '了',\n",
       " '南坪',\n",
       " '快速路',\n",
       " '主干道',\n",
       " '时',\n",
       " '女子',\n",
       " '作出',\n",
       " '了',\n",
       " '让',\n",
       " '人',\n",
       " '意想不到',\n",
       " '的',\n",
       " '举动',\n",
       " '她',\n",
       " '突然',\n",
       " '靠近',\n",
       " '护栏',\n",
       " '要',\n",
       " '从',\n",
       " '上面',\n",
       " '跳下去',\n",
       " '刘青',\n",
       " '赶忙',\n",
       " '冲上去',\n",
       " '拉住',\n",
       " '了',\n",
       " '女子',\n",
       " '的',\n",
       " '手',\n",
       " '将',\n",
       " '其',\n",
       " '控制',\n",
       " '住',\n",
       " '并',\n",
       " '远离',\n",
       " '护栏',\n",
       " '碍于',\n",
       " '女子',\n",
       " '没有',\n",
       " '穿衣服',\n",
       " '刘青递',\n",
       " '上',\n",
       " '衣服',\n",
       " '女子',\n",
       " '没',\n",
       " '接受',\n",
       " '还',\n",
       " '把',\n",
       " '衣服',\n",
       " '扔',\n",
       " '到',\n",
       " '排水沟',\n",
       " '里',\n",
       " '继续',\n",
       " '往前走',\n",
       " '没',\n",
       " '办法',\n",
       " '刘青',\n",
       " '只能',\n",
       " '紧紧',\n",
       " '拉',\n",
       " '着',\n",
       " '她',\n",
       " '的',\n",
       " '一只',\n",
       " '手',\n",
       " '跟',\n",
       " '在',\n",
       " '后面',\n",
       " '刘青',\n",
       " '一路上',\n",
       " '耐心',\n",
       " '地',\n",
       " '开导',\n",
       " '安慰',\n",
       " '她',\n",
       " '但',\n",
       " '只',\n",
       " '听到',\n",
       " '她',\n",
       " '不断',\n",
       " '地',\n",
       " '重复',\n",
       " '着',\n",
       " '一句',\n",
       " '话',\n",
       " '要是',\n",
       " '你',\n",
       " '也',\n",
       " '遭遇',\n",
       " '我',\n",
       " '的',\n",
       " '事',\n",
       " '你',\n",
       " '也',\n",
       " '会',\n",
       " '这样',\n",
       " '的',\n",
       " '期间',\n",
       " '她',\n",
       " '还',\n",
       " '不时',\n",
       " '试图',\n",
       " '挣脱',\n",
       " '刘青',\n",
       " '的',\n",
       " '手要',\n",
       " '冲向',\n",
       " '护栏',\n",
       " '往下跳',\n",
       " '就',\n",
       " '这样',\n",
       " '我',\n",
       " '被',\n",
       " '牵',\n",
       " '着',\n",
       " '走',\n",
       " '了',\n",
       " '大概',\n",
       " '十多分钟',\n",
       " '天',\n",
       " '突然',\n",
       " '下起',\n",
       " '了',\n",
       " '大暴雨',\n",
       " '雨大',\n",
       " '的',\n",
       " '连',\n",
       " '眼睛',\n",
       " '都',\n",
       " '睁不开',\n",
       " '刘青',\n",
       " '继续',\n",
       " '说',\n",
       " '着',\n",
       " '瞬间',\n",
       " '他们',\n",
       " '就',\n",
       " '被',\n",
       " '雨',\n",
       " '透',\n",
       " '了',\n",
       " '但',\n",
       " '女子',\n",
       " '依然',\n",
       " '不',\n",
       " '愿意',\n",
       " '接受',\n",
       " '刘青',\n",
       " '的',\n",
       " '帮助',\n",
       " '就',\n",
       " '继续',\n",
       " '冒',\n",
       " '着',\n",
       " '大雨',\n",
       " '往前走',\n",
       " '大概',\n",
       " '走',\n",
       " '了',\n",
       " '有',\n",
       " '四十分钟',\n",
       " '吧',\n",
       " '女子',\n",
       " '突然',\n",
       " '停下',\n",
       " '来说',\n",
       " '我',\n",
       " '想',\n",
       " '回家',\n",
       " '了',\n",
       " '然后',\n",
       " '女子',\n",
       " '也',\n",
       " '接受',\n",
       " '了',\n",
       " '刘青',\n",
       " '递过来',\n",
       " '的',\n",
       " '小',\n",
       " '黄衣',\n",
       " '就',\n",
       " '出现',\n",
       " '了',\n",
       " '深圳',\n",
       " '微博上',\n",
       " '的',\n",
       " '照片',\n",
       " '女子',\n",
       " '披着',\n",
       " '小',\n",
       " '黄衣',\n",
       " '刘青',\n",
       " '小心翼翼',\n",
       " '地',\n",
       " '在',\n",
       " '旁边',\n",
       " '走',\n",
       " '着',\n",
       " '的',\n",
       " '场景',\n",
       " '从',\n",
       " '南平',\n",
       " '快速',\n",
       " '下来',\n",
       " '后',\n",
       " '刘青',\n",
       " '和',\n",
       " '巡防',\n",
       " '员',\n",
       " '将',\n",
       " '女子',\n",
       " '带到',\n",
       " '了',\n",
       " '附近',\n",
       " '的',\n",
       " '坂田',\n",
       " '派出所',\n",
       " '那',\n",
       " '姑娘',\n",
       " '到底',\n",
       " '是',\n",
       " '遭遇',\n",
       " '了',\n",
       " '什么样',\n",
       " '的',\n",
       " '事情',\n",
       " '才',\n",
       " '会',\n",
       " '说',\n",
       " '要是',\n",
       " '你',\n",
       " '也',\n",
       " '遭遇',\n",
       " '我',\n",
       " '的',\n",
       " '事',\n",
       " '你',\n",
       " '也',\n",
       " '会',\n",
       " '这样',\n",
       " '据',\n",
       " '警方',\n",
       " '透露',\n",
       " '该',\n",
       " '女子',\n",
       " '姓',\n",
       " '陈系',\n",
       " '湖北',\n",
       " '人',\n",
       " '今年',\n",
       " '44',\n",
       " '岁',\n",
       " '据',\n",
       " '家属',\n",
       " '反映',\n",
       " '其有',\n",
       " '精神病',\n",
       " '史',\n",
       " '三天',\n",
       " '前',\n",
       " '陈某',\n",
       " '从',\n",
       " '老家',\n",
       " '来',\n",
       " '深圳',\n",
       " '约会',\n",
       " '网友',\n",
       " '但',\n",
       " '约会',\n",
       " '受挫',\n",
       " '导致',\n",
       " '情绪',\n",
       " '异常',\n",
       " '女子',\n",
       " '遂',\n",
       " '产生',\n",
       " '轻生',\n",
       " '念头',\n",
       " '目前',\n",
       " '陈某',\n",
       " '已经',\n",
       " '被',\n",
       " ...]"
      ]
     },
     "execution_count": 221,
     "metadata": {},
     "output_type": "execute_result"
    }
   ],
   "source": [
    "token_"
   ]
  },
  {
   "cell_type": "code",
   "execution_count": 222,
   "metadata": {},
   "outputs": [],
   "source": [
    "token_2_GRAM = [''.join(token_[i:i+2]) for i in range(len(token_[:-2]))]"
   ]
  },
  {
   "cell_type": "code",
   "execution_count": 223,
   "metadata": {},
   "outputs": [
    {
     "data": {
      "text/plain": [
       "['此外自', '自本周', '本周6', '6月', '月12', '12日起', '日起除', '除小米', '小米手机', '手机6']"
      ]
     },
     "execution_count": 223,
     "metadata": {},
     "output_type": "execute_result"
    }
   ],
   "source": [
    "token_2_GRAM[:10]"
   ]
  },
  {
   "cell_type": "code",
   "execution_count": 225,
   "metadata": {},
   "outputs": [],
   "source": [
    "words_count_2 = Counter(token_2_GRAM)"
   ]
  },
  {
   "cell_type": "code",
   "execution_count": 85,
   "metadata": {},
   "outputs": [],
   "source": [
    "def prob_1(word): return words_count[word] / len(token_)"
   ]
  },
  {
   "cell_type": "code",
   "execution_count": 226,
   "metadata": {},
   "outputs": [],
   "source": [
    "def prob_2(word1, word2):\n",
    "    if word1 + word2 in words_count_2: return words_count_2[word1+word2] / len(token_2_GRAM)\n",
    "    else:\n",
    "        return 1 / len(token_2_GRAM)"
   ]
  },
  {
   "cell_type": "code",
   "execution_count": 228,
   "metadata": {},
   "outputs": [
    {
     "data": {
      "text/plain": [
       "0.0002338209521733998"
      ]
     },
     "execution_count": 228,
     "metadata": {},
     "output_type": "execute_result"
    }
   ],
   "source": [
    "prob_2('我们', '的')"
   ]
  },
  {
   "cell_type": "code",
   "execution_count": 229,
   "metadata": {},
   "outputs": [
    {
     "data": {
      "text/plain": [
       "2.2701063317805805e-06"
      ]
     },
     "execution_count": 229,
     "metadata": {},
     "output_type": "execute_result"
    }
   ],
   "source": [
    "prob_2('在', '吃饭')"
   ]
  },
  {
   "cell_type": "code",
   "execution_count": 230,
   "metadata": {},
   "outputs": [
    {
     "data": {
      "text/plain": [
       "2.2701063317805805e-06"
      ]
     },
     "execution_count": 230,
     "metadata": {},
     "output_type": "execute_result"
    }
   ],
   "source": [
    "prob_2('去', '吃饭')"
   ]
  },
  {
   "cell_type": "code",
   "execution_count": 231,
   "metadata": {},
   "outputs": [],
   "source": [
    "def get_probablity(sentence):\n",
    "    words = cut(sentence)\n",
    "    \n",
    "    sentence_pro = 1\n",
    "    \n",
    "    for i, word in enumerate(words[:-1]):\n",
    "        next_ = words[i+1]\n",
    "        \n",
    "        probability = prob_2(word, next_)\n",
    "        \n",
    "        sentence_pro *= probability\n",
    "    \n",
    "    return sentence_pro"
   ]
  },
  {
   "cell_type": "code",
   "execution_count": 232,
   "metadata": {},
   "outputs": [
    {
     "data": {
      "text/plain": [
       "8.211612563902779e-34"
      ]
     },
     "execution_count": 232,
     "metadata": {},
     "output_type": "execute_result"
    }
   ],
   "source": [
    "get_probablity('小明今天抽奖抽到一台苹果手机')"
   ]
  },
  {
   "cell_type": "code",
   "execution_count": 233,
   "metadata": {},
   "outputs": [
    {
     "data": {
      "text/plain": [
       "1.3686020939837966e-34"
      ]
     },
     "execution_count": 233,
     "metadata": {},
     "output_type": "execute_result"
    }
   ],
   "source": [
    "get_probablity('小明今天抽奖抽到一架波音飞机')"
   ]
  },
  {
   "cell_type": "code",
   "execution_count": 237,
   "metadata": {},
   "outputs": [
    {
     "data": {
      "text/plain": [
       "2.409937726587482e-15"
      ]
     },
     "execution_count": 237,
     "metadata": {},
     "output_type": "execute_result"
    }
   ],
   "source": [
    "get_probablity('我们的来一杯')"
   ]
  },
  {
   "cell_type": "code",
   "execution_count": 238,
   "metadata": {},
   "outputs": [
    {
     "data": {
      "text/plain": [
       "5.1533827575902836e-12"
      ]
     },
     "execution_count": 238,
     "metadata": {},
     "output_type": "execute_result"
    }
   ],
   "source": [
    "get_probablity('养乐多绿来一杯')"
   ]
  },
  {
   "cell_type": "code",
   "execution_count": 241,
   "metadata": {
    "scrolled": true
   },
   "outputs": [
    {
     "name": "stdout",
     "output_type": "stream",
     "text": [
      "sentence: 这个蓝色的好看的蓝色的好看的篮球看着一个小小的桌子 with Prob: 7.653729432796449e-73\n",
      "sentence: 一个小猫听着一个好看的小猫 with Prob: 1.1184740205266799e-38\n",
      "sentence: 一个篮球看见这个小小的桌子 with Prob: 6.028801712166142e-29\n",
      "sentence: 这个女人看见一个女人 with Prob: 2.655735384622883e-23\n",
      "sentence: 这个小小的蓝色的好看的好看的小猫坐在这个好看的小猫 with Prob: 1.1480594149194674e-72\n",
      "sentence: 这个小小的桌子听着一个篮球 with Prob: 1.6423225127805558e-33\n",
      "sentence: 一个桌子听着这个篮球 with Prob: 2.411520684866457e-28\n",
      "sentence: 这个小小的小小的篮球听着这个好看的桌子 with Prob: 1.9213082440649576e-50\n",
      "sentence: 这个女人听着这个好看的蓝色的蓝色的女人 with Prob: 3.960494710792167e-61\n",
      "sentence: 这个女人看着这个女人 with Prob: 2.655735384622883e-23\n"
     ]
    }
   ],
   "source": [
    "for sen in [generate(gram=example_grammar, target='sentence') for i in range(10)]:\n",
    "    print('sentence: {} with Prob: {}'.format(sen, get_probablity(sen)))"
   ]
  },
  {
   "cell_type": "code",
   "execution_count": 242,
   "metadata": {},
   "outputs": [
    {
     "name": "stdout",
     "output_type": "stream",
     "text": [
      "明天晚上请你吃大餐，我们一起吃苹果 is more possible\n",
      "---- 今天晚上请你吃大餐，我们一起吃日料 with probility 7.269290016923483e-57\n",
      "---- 明天晚上请你吃大餐，我们一起吃苹果 with probility 7.269290016923483e-57\n",
      "真是一只好看的小猫 is more possible\n",
      "---- 真事一只好看的小猫 with probility 1.8086405136498427e-28\n",
      "---- 真是一只好看的小猫 with probility 7.967206153868651e-23\n",
      "今晚我去吃火锅 is more possible\n",
      "---- 今晚我去吃火锅 with probility 1.4038472193713484e-16\n",
      "---- 今晚火锅去吃我 with probility 5.311470769245767e-23\n",
      "养乐多绿来一杯 is more possible\n",
      "---- 洋葱奶昔来一杯 with probility 1.1698726828094571e-17\n",
      "---- 养乐多绿来一杯 with probility 5.1533827575902836e-12\n"
     ]
    }
   ],
   "source": [
    "need_compared = [\n",
    "    \"今天晚上请你吃大餐，我们一起吃日料 明天晚上请你吃大餐，我们一起吃苹果\",\n",
    "    \"真事一只好看的小猫 真是一只好看的小猫\",\n",
    "    \"今晚我去吃火锅 今晚火锅去吃我\",\n",
    "    \"洋葱奶昔来一杯 养乐多绿来一杯\"\n",
    "]\n",
    "\n",
    "for s in need_compared:\n",
    "    s1, s2 = s.split()\n",
    "    p1, p2 = get_probablity(s1), get_probablity(s2)\n",
    "    \n",
    "    better = s1 if p1 > p2 else s2\n",
    "    \n",
    "    print('{} is more possible'.format(better))\n",
    "    print('-'*4 + ' {} with probility {}'.format(s1, p1))\n",
    "    print('-'*4 + ' {} with probility {}'.format(s2, p2))"
   ]
  },
  {
   "cell_type": "markdown",
   "metadata": {},
   "source": [
    "## Data Driven"
   ]
  },
  {
   "cell_type": "markdown",
   "metadata": {},
   "source": []
  }
 ],
 "metadata": {
  "kernelspec": {
   "display_name": "Python 3",
   "language": "python",
   "name": "python3"
  },
  "language_info": {
   "codemirror_mode": {
    "name": "ipython",
    "version": 3
   },
   "file_extension": ".py",
   "mimetype": "text/x-python",
   "name": "python",
   "nbconvert_exporter": "python",
   "pygments_lexer": "ipython3",
   "version": "3.7.1"
  }
 },
 "nbformat": 4,
 "nbformat_minor": 2
}
