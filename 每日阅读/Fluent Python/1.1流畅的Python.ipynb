{
 "cells": [
  {
   "cell_type": "markdown",
   "metadata": {},
   "source": [
    "### Python风格的纸牌<br>\n",
    "- 用一个非常简单的例子来展示如何实现 \\_\\_getitme__ 和 \\_\\_len__ 这两个特殊方法<br><br>\n",
    "- 通过这个例子我们也能见识到特殊方法的强大<br><br>\n",
    "- [namedtuple1](https://blog.csdn.net/kongxx/article/details/51553362) [namedtuple2](https://blog.csdn.net/helei001/article/details/52692128)"
   ]
  },
  {
   "cell_type": "code",
   "execution_count": 2,
   "metadata": {},
   "outputs": [],
   "source": [
    "import collections\n",
    "\n",
    "Card = collections.namedtuple('Card',['rank','suit'])\n",
    "\n",
    "class FrenchDeck:\n",
    "    ranks = [str(n) for n in range(2,11)] + list('JQKA')\n",
    "    #spades代表黑桃，clubs代表黑色梅花\n",
    "    suits = 'spades diamonds clubs hearts'.split()\n",
    "    #实例内部有52张牌\n",
    "    def __init__(self):\n",
    "        # 4 * 13 = 52张牌\n",
    "        self._cards = [Card(rank,suit) for suit in self.suits for rank in self.ranks]\n",
    "    #使得实例具有len的方法    \n",
    "    def __len__(self):\n",
    "        return len(self._cards)\n",
    "    #使得实例可以切片取数\n",
    "    def __getitem__(self,position):\n",
    "        return self._cards[position]"
   ]
  },
  {
   "cell_type": "code",
   "execution_count": 6,
   "metadata": {},
   "outputs": [
    {
     "data": {
      "text/plain": [
       "Card(rank='7', suit='diamonds')"
      ]
     },
     "execution_count": 6,
     "metadata": {},
     "output_type": "execute_result"
    }
   ],
   "source": [
    "beer_card = Card('7','diamonds')\n",
    "beer_card"
   ]
  },
  {
   "cell_type": "markdown",
   "metadata": {},
   "source": [
    "-  FrenchDeck 这个类,它既短小又精悍。可以用 len() 函数来查看一叠牌有多少张："
   ]
  },
  {
   "cell_type": "code",
   "execution_count": 8,
   "metadata": {},
   "outputs": [
    {
     "data": {
      "text/plain": [
       "52"
      ]
     },
     "execution_count": 8,
     "metadata": {},
     "output_type": "execute_result"
    }
   ],
   "source": [
    "deck = FrenchDeck()\n",
    "len(deck)"
   ]
  },
  {
   "cell_type": "markdown",
   "metadata": {},
   "source": [
    "- deck[0] 或 deck[-1]这种抽取操作。 这都是由类内部的 \\_\\_getitem__ 方法提供的"
   ]
  },
  {
   "cell_type": "code",
   "execution_count": 9,
   "metadata": {},
   "outputs": [
    {
     "data": {
      "text/plain": [
       "(Card(rank='2', suit='spades'), Card(rank='A', suit='hearts'))"
      ]
     },
     "execution_count": 9,
     "metadata": {},
     "output_type": "execute_result"
    }
   ],
   "source": [
    "deck[0],deck[-1]"
   ]
  },
  {
   "cell_type": "code",
   "execution_count": 10,
   "metadata": {},
   "outputs": [
    {
     "data": {
      "text/plain": [
       "(Card(rank='9', suit='hearts'),\n",
       " Card(rank='J', suit='clubs'),\n",
       " Card(rank='6', suit='spades'))"
      ]
     },
     "execution_count": 10,
     "metadata": {},
     "output_type": "execute_result"
    }
   ],
   "source": [
    "from random import choice\n",
    "choice(deck),choice(deck),choice(deck)"
   ]
  },
  {
   "cell_type": "markdown",
   "metadata": {},
   "source": [
    "- 因为 \\_\\_getitem__ 方法把 \\[] 操作交给了 self._cards 列表，所以我们的 deck 类自动支持切片（slicing） 操作。 "
   ]
  },
  {
   "cell_type": "code",
   "execution_count": 12,
   "metadata": {},
   "outputs": [
    {
     "data": {
      "text/plain": [
       "([Card(rank='2', suit='spades'),\n",
       "  Card(rank='3', suit='spades'),\n",
       "  Card(rank='4', suit='spades')],\n",
       " [Card(rank='A', suit='spades'),\n",
       "  Card(rank='A', suit='diamonds'),\n",
       "  Card(rank='A', suit='clubs'),\n",
       "  Card(rank='A', suit='hearts')])"
      ]
     },
     "execution_count": 12,
     "metadata": {},
     "output_type": "execute_result"
    }
   ],
   "source": [
    "deck[:3],deck[12::13]"
   ]
  },
  {
   "cell_type": "markdown",
   "metadata": {},
   "source": [
    "- 仅仅实现了 \\_\\_getitem__ 方法， 这一摞牌就变成可迭代的了"
   ]
  },
  {
   "cell_type": "code",
   "execution_count": 30,
   "metadata": {},
   "outputs": [
    {
     "name": "stdout",
     "output_type": "stream",
     "text": [
      "Card(rank='A', suit='spades')\n",
      "Card(rank='A', suit='diamonds')\n",
      "Card(rank='A', suit='clubs')\n",
      "Card(rank='A', suit='hearts')\n"
     ]
    }
   ],
   "source": [
    "for card in deck:\n",
    "    if card[0] == 'A':\n",
    "        print(card)"
   ]
  },
  {
   "cell_type": "code",
   "execution_count": 33,
   "metadata": {},
   "outputs": [
    {
     "name": "stdout",
     "output_type": "stream",
     "text": [
      "Card(rank='A', suit='clubs')\n",
      "Card(rank='K', suit='clubs')\n",
      "Card(rank='Q', suit='clubs')\n",
      "Card(rank='J', suit='clubs')\n",
      "Card(rank='10', suit='clubs')\n",
      "Card(rank='9', suit='clubs')\n",
      "Card(rank='8', suit='clubs')\n",
      "Card(rank='7', suit='clubs')\n",
      "Card(rank='6', suit='clubs')\n",
      "Card(rank='5', suit='clubs')\n",
      "Card(rank='4', suit='clubs')\n",
      "Card(rank='3', suit='clubs')\n",
      "Card(rank='2', suit='clubs')\n"
     ]
    }
   ],
   "source": [
    "for card in reversed(deck):\n",
    "    if card[1] == 'clubs':\n",
    "        print(card)"
   ]
  },
  {
   "cell_type": "markdown",
   "metadata": {},
   "source": [
    "- 迭代通常是隐式的，譬如说一个集合类型没有实现 \\_\\_contains__ 方法，那么in运算符就会按顺序做一次迭代搜索。于是，in运算符可以用在我们的 FrenchDeck 类上，因为它是可迭代的："
   ]
  },
  {
   "cell_type": "code",
   "execution_count": 36,
   "metadata": {},
   "outputs": [
    {
     "data": {
      "text/plain": [
       "(True, True)"
      ]
     },
     "execution_count": 36,
     "metadata": {},
     "output_type": "execute_result"
    }
   ],
   "source": [
    "Card('Q','hearts') in deck, Card('3','spades') in deck"
   ]
  },
  {
   "cell_type": "code",
   "execution_count": 42,
   "metadata": {},
   "outputs": [
    {
     "data": {
      "text/plain": [
       "(12, 0, 5)"
      ]
     },
     "execution_count": 42,
     "metadata": {},
     "output_type": "execute_result"
    }
   ],
   "source": [
    "FrenchDeck.ranks.index('A'),FrenchDeck.ranks.index('2'),FrenchDeck.ranks.index(beer_card.rank)"
   ]
  },
  {
   "cell_type": "code",
   "execution_count": 43,
   "metadata": {},
   "outputs": [],
   "source": [
    "suit_values = dict(spades=3, hearts=2, diamonds=1, clubs=0)"
   ]
  },
  {
   "cell_type": "code",
   "execution_count": 45,
   "metadata": {},
   "outputs": [
    {
     "data": {
      "text/plain": [
       "('diamonds', 1)"
      ]
     },
     "execution_count": 45,
     "metadata": {},
     "output_type": "execute_result"
    }
   ],
   "source": [
    "beer_card.suit,suit_values[beer_card.suit]"
   ]
  },
  {
   "cell_type": "code",
   "execution_count": 46,
   "metadata": {},
   "outputs": [],
   "source": [
    "#定义一个这副牌的排序方法，花色中黑桃最大梅花最小，数字中2最小A最大\n",
    "def spades_high(card):\n",
    "    #rank_value是这个牌数字的大小\n",
    "    rank_value = FrenchDeck.ranks.index(card.rank)\n",
    "    #数字的大小加上花色的大小就是它本身的大小\n",
    "    return rank_value * len(suit_values) + suit_values[card.suit]"
   ]
  },
  {
   "cell_type": "markdown",
   "metadata": {},
   "source": [
    "- 下面就是按照这个规则来给扑克牌排序的函数，梅花2的大小是0，黑桃A是51："
   ]
  },
  {
   "cell_type": "code",
   "execution_count": 52,
   "metadata": {},
   "outputs": [
    {
     "name": "stdout",
     "output_type": "stream",
     "text": [
      "Rank is 0, Card(rank='2', suit='clubs')\n",
      "Rank is 3, Card(rank='2', suit='spades')\n",
      "Rank is 6, Card(rank='3', suit='hearts')\n",
      "Rank is 9, Card(rank='4', suit='diamonds')\n",
      "Rank is 12, Card(rank='5', suit='clubs')\n",
      "Rank is 15, Card(rank='5', suit='spades')\n",
      "Rank is 18, Card(rank='6', suit='hearts')\n",
      "Rank is 21, Card(rank='7', suit='diamonds')\n",
      "Rank is 24, Card(rank='8', suit='clubs')\n",
      "Rank is 27, Card(rank='8', suit='spades')\n",
      "Rank is 30, Card(rank='9', suit='hearts')\n",
      "Rank is 33, Card(rank='10', suit='diamonds')\n",
      "Rank is 36, Card(rank='J', suit='clubs')\n",
      "Rank is 39, Card(rank='J', suit='spades')\n",
      "Rank is 42, Card(rank='Q', suit='hearts')\n",
      "Rank is 45, Card(rank='K', suit='diamonds')\n",
      "Rank is 48, Card(rank='A', suit='clubs')\n",
      "Rank is 51, Card(rank='A', suit='spades')\n"
     ]
    }
   ],
   "source": [
    "for i,card in zip(list(range(52)), sorted(deck,key = spades_high)):\n",
    "    if i % 3 == 0:\n",
    "        print('Rank is {}, {}'.format(i,card))"
   ]
  },
  {
   "cell_type": "markdown",
   "metadata": {},
   "source": [
    "- 虽然 FrenchDeck 隐式地继承了 object 类，但功能却不是继承而来的。 我们通过数据模型和一些合成来实现这些功能。在Python3中Class FrenchDeck:就代表Class FrenchDeck(Object):<br><br>\n",
    "- 通过实现 \\_\\_len__和 \\_\\_getitem__ 这两个特殊方法，FrenchDeck就跟一个Python自有的序列数据类型一样，可以体现出Python的核心语言特性（例如迭代和切片）。同时这个类还可以用于标准库中诸如random.choice、reversed和sorted这些函数。 "
   ]
  }
 ],
 "metadata": {
  "kernelspec": {
   "display_name": "Python 3",
   "language": "python",
   "name": "python3"
  },
  "language_info": {
   "codemirror_mode": {
    "name": "ipython",
    "version": 3
   },
   "file_extension": ".py",
   "mimetype": "text/x-python",
   "name": "python",
   "nbconvert_exporter": "python",
   "pygments_lexer": "ipython3",
   "version": "3.7.1"
  }
 },
 "nbformat": 4,
 "nbformat_minor": 2
}
