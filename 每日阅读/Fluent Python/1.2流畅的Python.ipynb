{
 "cells": [
  {
   "cell_type": "markdown",
   "metadata": {},
   "source": [
    "### 特殊方法\n",
    "\n",
    "- 通过内置的函数（例如 len、iter、str，等等）来使用特殊方法是最好的选择。这些内置函数的速度更快。\n",
    "- 当然我们也可以自己定义一些好玩的类，在类中添加特殊方法。特殊方法都是固定的，不能随意添加。\n",
    "\n",
    "#### 实现一个二维向量\n",
    "\n",
    "[![Capture3.png](https://i.postimg.cc/W3N466mS/Capture3.png)](https://postimg.cc/Ff6mhSBJ)"
   ]
  },
  {
   "cell_type": "code",
   "execution_count": 1,
   "metadata": {},
   "outputs": [
    {
     "ename": "NameError",
     "evalue": "name 'Vector' is not defined",
     "output_type": "error",
     "traceback": [
      "\u001b[1;31m---------------------------------------------------------------------------\u001b[0m",
      "\u001b[1;31mNameError\u001b[0m                                 Traceback (most recent call last)",
      "\u001b[1;32m<ipython-input-1-98aa6fc77fda>\u001b[0m in \u001b[0;36m<module>\u001b[1;34m\u001b[0m\n\u001b[1;32m----> 1\u001b[1;33m \u001b[0mv1\u001b[0m \u001b[1;33m=\u001b[0m \u001b[0mVector\u001b[0m\u001b[1;33m(\u001b[0m\u001b[1;36m2\u001b[0m\u001b[1;33m,\u001b[0m\u001b[1;36m4\u001b[0m\u001b[1;33m)\u001b[0m\u001b[1;33m\u001b[0m\u001b[1;33m\u001b[0m\u001b[0m\n\u001b[0m\u001b[0;32m      2\u001b[0m \u001b[0mv2\u001b[0m \u001b[1;33m=\u001b[0m \u001b[0mVector\u001b[0m\u001b[1;33m(\u001b[0m\u001b[1;36m2\u001b[0m\u001b[1;33m,\u001b[0m\u001b[1;36m1\u001b[0m\u001b[1;33m)\u001b[0m\u001b[1;33m\u001b[0m\u001b[1;33m\u001b[0m\u001b[0m\n\u001b[0;32m      3\u001b[0m \u001b[0mv1\u001b[0m \u001b[1;33m+\u001b[0m \u001b[0mv2\u001b[0m\u001b[1;33m\u001b[0m\u001b[1;33m\u001b[0m\u001b[0m\n",
      "\u001b[1;31mNameError\u001b[0m: name 'Vector' is not defined"
     ]
    }
   ],
   "source": [
    "v1 = Vector(2,4)\n",
    "v2 = Vector(2,1)\n",
    "v1 + v2"
   ]
  },
  {
   "cell_type": "markdown",
   "metadata": {},
   "source": [
    "我们会发现Vector尚未定义，现在我们来定义一下："
   ]
  },
  {
   "cell_type": "code",
   "execution_count": 9,
   "metadata": {},
   "outputs": [],
   "source": [
    "from math import hypot\n",
    "\n",
    "class Vector:\n",
    "    \n",
    "    def __init__(self,x=0,y=0):\n",
    "        self.x = x\n",
    "        self.y = y\n",
    "        \n",
    "    def __repr__(self):\n",
    "        return 'Vector(%r, %r)' % (self.x, self.y)\n",
    "    \n",
    "    def __abs__(self):\n",
    "        return hypot(self.x, self.y)\n",
    "    \n",
    "    def __bool__(self):\n",
    "        return bool(abs(self))\n",
    "    \n",
    "    def __add__(self, other):\n",
    "        x = self.x + other.x\n",
    "        y = self.y + other.y\n",
    "        return Vector(x, y)\n",
    "\n",
    "    def __mul__(self, scalar):\n",
    "        return Vector(self.x * scalar, self.y * scalar)"
   ]
  },
  {
   "cell_type": "code",
   "execution_count": 10,
   "metadata": {},
   "outputs": [
    {
     "data": {
      "text/plain": [
       "Vector(4, 5)"
      ]
     },
     "execution_count": 10,
     "metadata": {},
     "output_type": "execute_result"
    }
   ],
   "source": [
    "v1 = Vector(2,4)\n",
    "v2 = Vector(2,1)\n",
    "v1 + v2"
   ]
  },
  {
   "cell_type": "markdown",
   "metadata": {},
   "source": [
    "现在运行会发现可以成功运算二维向量了！\n",
    "\n",
    "- Python 有一个内置的函数叫 repr，它能把一个对象用字符串的形式表达出来以便辨认，这就是“字符串表示形式”。repr 就是通过 \\_\\_repr\\_\\_这个特殊方法来得到一个对象的字符串表示形式的。%r用rper()方法处理对象，%s用str()方法处理对象。有些情况下，两者处理的结果是一样的，比如说处理int型对象。%r打印时能够重现它所代表的对象，准确而不模糊，而str()则追求可读性。<br><br>\n",
    "\n",
    "- 通过 \\_\\_add\\_\\_ 和 \\_\\_mul\\_\\_，示例 1-2 为向量类带来了 + 和 * 这两个算术运算符。值得注意的是，这两个方法的返回值都是新创建的向量对象，被操作的两个向量（self 或 other）还是原封不动，代码里只是读取了它们的值而已。<br><br>\n",
    "\n",
    "- 默认情况下，我们自己定义的类的实例总被认为是真的，除非这个类对\\_\\_bool\\_\\_ 或者 \\_\\_len\\_\\_ 函数有自己的实现。bool(x) 的背后是调用x.\\_\\_bool\\_\\_() 的结果；如果不存在 \\_\\_bool\\_\\_ 方法，那么 bool(x) 会尝试调用 x.\\_\\_len\\_\\_()。若返回 0，则 bool 会返回 False；否则返回True。<br><br>\n",
    "- 我们对 \\_\\_bool\\_\\_ 的实现很简单，如果一个向量的模是 0，那么就返回False，其他情况则返回 True。因为 \\_\\_bool\\_\\_ 函数的返回类型应该是布尔型，所以我们通过 bool(abs(self)) 把模值变成了布尔值。\n",
    "\n",
    "\n",
    "如果想让 Vector.\\_\\_bool\\_\\_ 更高效，可以采用这种实现："
   ]
  },
  {
   "cell_type": "code",
   "execution_count": null,
   "metadata": {},
   "outputs": [],
   "source": [
    "def __bool__(self):\n",
    "    return bool(self.x of self.y)"
   ]
  },
  {
   "cell_type": "markdown",
   "metadata": {},
   "source": [
    "它不那么易读，却能省掉从 abs 到 \\_\\_abs\\_\\_ 到平方再到平方根这些中间步骤。简洁而高效。\n",
    "\n",
    "事实上，Python还有许许多多的[特殊方法](https://docs.python.org/3/reference/datamodel.html)。"
   ]
  },
  {
   "cell_type": "markdown",
   "metadata": {},
   "source": [
    "### 为什么len不是一般方法？\n",
    "\n",
    "- len之所以不是一个普通方法，是为了让 Python 自带的数据结构可以走后门，abs 也是同理。多亏了它是特殊方法，我们才可以把 len 用于自定义数据类型。"
   ]
  }
 ],
 "metadata": {
  "kernelspec": {
   "display_name": "Python 3",
   "language": "python",
   "name": "python3"
  },
  "language_info": {
   "codemirror_mode": {
    "name": "ipython",
    "version": 3
   },
   "file_extension": ".py",
   "mimetype": "text/x-python",
   "name": "python",
   "nbconvert_exporter": "python",
   "pygments_lexer": "ipython3",
   "version": "3.7.3"
  }
 },
 "nbformat": 4,
 "nbformat_minor": 2
}
