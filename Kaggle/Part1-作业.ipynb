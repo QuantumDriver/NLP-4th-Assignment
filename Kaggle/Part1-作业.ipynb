{
 "cells": [
  {
   "cell_type": "markdown",
   "metadata": {},
   "source": [
    "导入相关包及原生XGBoost"
   ]
  },
  {
   "cell_type": "code",
   "execution_count": 1,
   "metadata": {},
   "outputs": [],
   "source": [
    "from sklearn import datasets\n",
    "from sklearn.model_selection import train_test_split\n",
    "import xgboost as xgb\n",
    "import numpy as np\n",
    "import pandas as pd\n",
    "from sklearn.metrics import precision_score, recall_score"
   ]
  },
  {
   "cell_type": "markdown",
   "metadata": {},
   "source": [
    "加载鸢尾花数据"
   ]
  },
  {
   "cell_type": "code",
   "execution_count": 10,
   "metadata": {},
   "outputs": [
    {
     "name": "stdout",
     "output_type": "stream",
     "text": [
      "     0    1    2    3\n",
      "0  5.1  3.5  1.4  0.2\n",
      "1  4.9  3.0  1.4  0.2\n",
      "2  4.7  3.2  1.3  0.2\n",
      "3  4.6  3.1  1.5  0.2\n",
      "4  5.0  3.6  1.4  0.2\n",
      "   0\n",
      "0  0\n",
      "1  0\n",
      "2  0\n",
      "3  0\n",
      "4  0\n",
      "   sepal_l  sepal_w  petal_l  petal_w\n",
      "0      5.1      3.5      1.4      0.2\n",
      "1      4.9      3.0      1.4      0.2\n",
      "2      4.7      3.2      1.3      0.2\n",
      "3      4.6      3.1      1.5      0.2\n",
      "4      5.0      3.6      1.4      0.2\n",
      "   label\n",
      "0      0\n",
      "1      0\n",
      "2      0\n",
      "3      0\n",
      "4      0\n"
     ]
    }
   ],
   "source": [
    "iris = datasets.load_iris()\n",
    "data = iris.data\n",
    "label = iris.target\n",
    "print(pd.DataFrame(data).head())\n",
    "print(pd.DataFrame(label).head())\n",
    "data1 = pd.DataFrame(data)\n",
    "label1 = pd.DataFrame(label)\n",
    "# 特征重命名\n",
    "data1.columns = ['sepal_l','sepal_w','petal_l','petal_w']\n",
    "label1.columns = ['label']\n",
    "print(data1.head())\n",
    "print(label1.head())"
   ]
  },
  {
   "cell_type": "markdown",
   "metadata": {},
   "source": [
    "划分数据集"
   ]
  },
  {
   "cell_type": "code",
   "execution_count": 11,
   "metadata": {},
   "outputs": [
    {
     "name": "stdout",
     "output_type": "stream",
     "text": [
      "training length:  105\n",
      "testing length: 45\n"
     ]
    }
   ],
   "source": [
    "train_x, test_x, train_y, test_y = train_test_split(data1.values, label1.values, \n",
    "                                                    test_size=0.3, random_state = 42)\n",
    "print('training length: ',len(train_x))\n",
    "print('testing length:',len(test_x))"
   ]
  },
  {
   "cell_type": "markdown",
   "metadata": {},
   "source": [
    "建模"
   ]
  },
  {
   "cell_type": "code",
   "execution_count": 15,
   "metadata": {},
   "outputs": [
    {
     "name": "stdout",
     "output_type": "stream",
     "text": [
      "[[0.00650657 0.96226174 0.03123166]\n",
      " [0.970643   0.02533227 0.00402478]\n",
      " [0.0033913  0.00692109 0.9896876 ]\n",
      " [0.00654362 0.9677424  0.02571394]\n",
      " [0.00615641 0.9104776  0.08336602]]\n",
      "\n",
      "\n",
      "test的预测结果 [1 0 2 1 1 0 1 2 1 1 2 0 0 0 0 1 2 1 1 2 0 2 0 2 2 2 2 2 0 0 0 0 1 0 0 2 1\n",
      " 0 0 0 2 1 1 0 0]\n",
      "精确率 1.0\n",
      "召回率 1.0\n"
     ]
    }
   ],
   "source": [
    "# XGBoost要求数据符合特定矩阵形态\n",
    "train_data = xgb.DMatrix(train_x,label=train_y)\n",
    "test_data = xgb.DMatrix(test_x,label=test_y)\n",
    "\n",
    "# 设置参数\n",
    "# multi:softmax是使用softmax后产生的分类结果, multi:softprob是输出的概率矩阵\n",
    "xgb_params = {\n",
    "    'eta': 0.3, 'silent': True, 'objective': 'multi:softprob',\n",
    "    'num_class': 3, 'max_depth': 3\n",
    "}\n",
    "\n",
    "num_round = 20\n",
    "\n",
    "# 训练模型\n",
    "# 训练数据可以用函数传入\n",
    "xgb_model_1 = xgb.train(xgb_params,xgb.DMatrix(train_x, label=train_y),num_round)\n",
    "\n",
    "# 模型预测\n",
    "test_pre = xgb_model_1.predict(test_data)\n",
    "\n",
    "# 查看概率矩阵\n",
    "print(test_pre[:5])\n",
    "\n",
    "# 去概率最大的那一列作为预测值（0,1,2）\n",
    "test_pre_1 = np.asanyarray([np.argmax(row) for row in test_pre])\n",
    "print('\\n')\n",
    "print('test的预测结果',test_pre_1)\n",
    "\n",
    "# 模型评估\n",
    "print('精确率',precision_score(test_y,test_pre_1,average='macro'))\n",
    "print('召回率',recall_score(test_y,test_pre_1,average='macro'))"
   ]
  },
  {
   "cell_type": "markdown",
   "metadata": {},
   "source": [
    "Sklearn的方法使用XGBoost"
   ]
  },
  {
   "cell_type": "code",
   "execution_count": 6,
   "metadata": {},
   "outputs": [
    {
     "name": "stderr",
     "output_type": "stream",
     "text": [
      "C:\\ProgramData\\Anaconda3\\lib\\site-packages\\sklearn\\preprocessing\\label.py:219: DataConversionWarning: A column-vector y was passed when a 1d array was expected. Please change the shape of y to (n_samples, ), for example using ravel().\n",
      "  y = column_or_1d(y, warn=True)\n",
      "C:\\ProgramData\\Anaconda3\\lib\\site-packages\\sklearn\\preprocessing\\label.py:252: DataConversionWarning: A column-vector y was passed when a 1d array was expected. Please change the shape of y to (n_samples, ), for example using ravel().\n",
      "  y = column_or_1d(y, warn=True)\n"
     ]
    },
    {
     "name": "stdout",
     "output_type": "stream",
     "text": [
      "[1 0 2 1 1 0 1 2 1 1 2 0 0 0 0 1 2 1 1 2 0 2 0 2 2 2 2 2 0 0 0 0 1 0 0 2 1\n",
      " 0 0 0 2 1 1 0 0]\n",
      "精确率 1.0\n",
      "召回率 1.0\n"
     ]
    }
   ],
   "source": [
    "from xgboost import XGBClassifier\n",
    "\n",
    "xgb_model_2 = XGBClassifier(\n",
    "              learning_rate=0.01,\n",
    "              n_estimators=3000,\n",
    "              max_depth=4,\n",
    "              objective='binary:logistic',\n",
    "              seed=27)\n",
    "\n",
    "xgb_model_2.fit(train_x,train_y)\n",
    "\n",
    "# 预测\n",
    "test_pre_2 = xgb_model_2.predict(test_x)\n",
    "print(test_pre_2)\n",
    "\n",
    "# 模型评估\n",
    "print('精确率',precision_score(test_y,test_pre_2,average='macro'))\n",
    "print('召回率',recall_score(test_y,test_pre_2,average='macro'))"
   ]
  },
  {
   "cell_type": "markdown",
   "metadata": {},
   "source": [
    "原生LightGBM"
   ]
  },
  {
   "cell_type": "code",
   "execution_count": 17,
   "metadata": {},
   "outputs": [],
   "source": [
    "import lightgbm as lgb"
   ]
  },
  {
   "cell_type": "markdown",
   "metadata": {},
   "source": [
    "注意这里不需要values!"
   ]
  },
  {
   "cell_type": "code",
   "execution_count": 21,
   "metadata": {},
   "outputs": [
    {
     "name": "stdout",
     "output_type": "stream",
     "text": [
      "training length:  105\n",
      "testing length: 45\n"
     ]
    }
   ],
   "source": [
    "train_x, test_x, train_y, test_y = train_test_split(data1, label1, \n",
    "                                                    test_size=0.3, random_state = 42)\n",
    "print('training length: ',len(train_x))\n",
    "print('testing length:',len(test_x))"
   ]
  },
  {
   "cell_type": "code",
   "execution_count": 22,
   "metadata": {},
   "outputs": [
    {
     "name": "stdout",
     "output_type": "stream",
     "text": [
      "[10]\ttraining's multi_error: 0.0666667\tvalid_1's multi_error: 0\n",
      "[[0.13683286 0.63500393 0.22816321]\n",
      " [0.69436834 0.15467706 0.15095461]\n",
      " [0.12934308 0.16125127 0.70940565]\n",
      " [0.14172417 0.62195656 0.23631927]\n",
      " [0.13683286 0.63500393 0.22816321]]\n",
      "\n",
      "\n",
      "预测结果 [1 0 2 1 1 0 1 2 1 1 2 0 0 0 0 1 2 1 1 2 0 2 0 2 2 2 2 2 0 0 0 0 1 0 0 2 1\n",
      " 0 0 0 2 1 1 0 0]\n",
      "精确率 1.0\n",
      "召回率 1.0\n"
     ]
    }
   ],
   "source": [
    "# 数据格式\n",
    "train_data = lgb.Dataset(train_x,train_y)\n",
    "test_data = lgb.Dataset(test_x,test_y)\n",
    "\n",
    "# 模型参数\n",
    "lgb_params = {\n",
    "    'boosting_type': 'gbdt', 'objective': 'multiclass',\n",
    "    'metric': 'multi_error', 'verbose': 1, 'num_class': 3\n",
    "}\n",
    "\n",
    "# 模型训练\n",
    "lgb_model_1 = lgb.train(lgb_params,train_data,num_boost_round=10,\n",
    "                       valid_sets=[train_data,test_data],verbose_eval=10)\n",
    "\n",
    "# 模型预测\n",
    "test_pre = lgb_model_1.predict(test_x, num_iteration=lgb_model_1.best_iteration)\n",
    "print(test_pre[:5])\n",
    "\n",
    "# 最高概率预测\n",
    "test_pre_1 = np.asanyarray([np.argmax(row) for row in test_pre])\n",
    "print('\\n')\n",
    "print('预测结果',test_pre_1)\n",
    "\n",
    "# 模型评估\n",
    "print('精确率',precision_score(test_y,test_pre_1,average='macro'))\n",
    "print('召回率',recall_score(test_y,test_pre_2,average='macro'))"
   ]
  },
  {
   "cell_type": "markdown",
   "metadata": {},
   "source": [
    "Sklearn接口形式"
   ]
  },
  {
   "cell_type": "code",
   "execution_count": 23,
   "metadata": {},
   "outputs": [
    {
     "name": "stdout",
     "output_type": "stream",
     "text": [
      "[1 0 2 1 1 0 1 2 1 1 2 0 0 0 0 1 2 1 1 2 0 2 0 2 2 2 2 2 0 0 0 0 1 0 0 2 1\n",
      " 0 0 0 2 1 1 0 0]\n",
      "精确率 1.0\n",
      "召回率 1.0\n"
     ]
    },
    {
     "name": "stderr",
     "output_type": "stream",
     "text": [
      "C:\\ProgramData\\Anaconda3\\lib\\site-packages\\sklearn\\preprocessing\\label.py:219: DataConversionWarning: A column-vector y was passed when a 1d array was expected. Please change the shape of y to (n_samples, ), for example using ravel().\n",
      "  y = column_or_1d(y, warn=True)\n",
      "C:\\ProgramData\\Anaconda3\\lib\\site-packages\\sklearn\\preprocessing\\label.py:252: DataConversionWarning: A column-vector y was passed when a 1d array was expected. Please change the shape of y to (n_samples, ), for example using ravel().\n",
      "  y = column_or_1d(y, warn=True)\n"
     ]
    }
   ],
   "source": [
    "lgb_params = {\n",
    "    'learning_rate':0.1,\n",
    "    'max_bin':150,\n",
    "    'num_leaves':32,\n",
    "    'max_depth':11,\n",
    "    'objective':'multiclass',\n",
    "    'n_estimators':300\n",
    "}\n",
    "\n",
    "lgb_model_2 = lgb.LGBMClassifier(**lgb_params)\n",
    "\n",
    "lgb_model_2.fit(train_x,train_y)\n",
    "\n",
    "# 模型预测\n",
    "test_pre_2 = lgb_model_2.predict(test_x)\n",
    "print(test_pre_2)\n",
    "\n",
    "# 模型评估\n",
    "print('精确率',precision_score(test_y,test_pre_2,average='macro'))\n",
    "print('召回率',recall_score(test_y,test_pre_2,average='macro'))"
   ]
  },
  {
   "cell_type": "code",
   "execution_count": 24,
   "metadata": {},
   "outputs": [],
   "source": [
    "?lgb.train"
   ]
  },
  {
   "cell_type": "markdown",
   "metadata": {},
   "source": [
    "总结：\n",
    "1. lgb.train中正则化参数为\"lambda_l1\", \"lambda_l1\"，sklearn中则为'reg_alpha', 'reg_lambda'。\n",
    "2. 多分类时lgb.train除了'objective':'multiclass',还要指定\"num_class\":5，而sklearn接口只需要指定'objective':'multiclass'。\n",
    "3. 迭代次数在sklearn中是'n_estimators':20，在初始化模型时指定"
   ]
  }
 ],
 "metadata": {
  "kernelspec": {
   "display_name": "Python 3",
   "language": "python",
   "name": "python3"
  },
  "language_info": {
   "codemirror_mode": {
    "name": "ipython",
    "version": 3
   },
   "file_extension": ".py",
   "mimetype": "text/x-python",
   "name": "python",
   "nbconvert_exporter": "python",
   "pygments_lexer": "ipython3",
   "version": "3.7.1"
  },
  "toc": {
   "base_numbering": 1,
   "nav_menu": {},
   "number_sections": true,
   "sideBar": false,
   "skip_h1_title": false,
   "title_cell": "Table of Contents",
   "title_sidebar": "Contents",
   "toc_cell": false,
   "toc_position": {},
   "toc_section_display": true,
   "toc_window_display": false
  }
 },
 "nbformat": 4,
 "nbformat_minor": 2
}
