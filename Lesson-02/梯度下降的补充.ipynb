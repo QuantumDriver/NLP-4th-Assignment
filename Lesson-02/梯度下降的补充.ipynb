{
 "cells": [
  {
   "cell_type": "markdown",
   "metadata": {},
   "source": [
    "### Gradient Descent"
   ]
  },
  {
   "cell_type": "code",
   "execution_count": 1,
   "metadata": {},
   "outputs": [
    {
     "name": "stdout",
     "output_type": "stream",
     "text": [
      "(506, 13) 506\n"
     ]
    }
   ],
   "source": [
    "import random\n",
    "import numpy as np\n",
    "import matplotlib.pyplot as plt\n",
    "%matplotlib inline\n",
    "from sklearn.datasets import load_boston\n",
    "#导出数据，X为特征，y为房价\n",
    "data = load_boston()\n",
    "X,y = data['data'], data['target']\n",
    "print(X.shape,len(y))"
   ]
  },
  {
   "cell_type": "code",
   "execution_count": 2,
   "metadata": {},
   "outputs": [
    {
     "data": {
      "text/plain": [
       "<matplotlib.legend.Legend at 0x1a1db859fd0>"
      ]
     },
     "execution_count": 2,
     "metadata": {},
     "output_type": "execute_result"
    },
    {
     "data": {
      "image/png": "[encoded data removed]",
      "text/plain": [
       "<Figure size 432x288 with 1 Axes>"
      ]
     },
     "metadata": {
      "needs_background": "light"
     },
     "output_type": "display_data"
    }
   ],
   "source": [
    "#以X中的一个特征和y作图\n",
    "def price(rm,k,b):\n",
    "    return rm * k + b\n",
    "#选择X的第五个特征，房间数量\n",
    "X_rm = X[:,5]\n",
    "k = random.randint(-100,100)\n",
    "b = random.randint(-100,100)\n",
    "price_by_random = [price(r,k,b) for r in X_rm]\n",
    "\n",
    "plt.scatter(X_rm,y,label=\"real price\")\n",
    "plt.scatter(X_rm,price_by_random,label=\"random price\")\n",
    "plt.legend()"
   ]
  },
  {
   "cell_type": "markdown",
   "metadata": {},
   "source": [
    "### Loss Function\n",
    " $$ loss = \\frac{1}{n} \\sum{(y_i - \\hat{y_i})}^2$$\n",
    " $$ loss = \\frac{1}{n} \\sum{(y_i - (kx_i + b_i))}^2 $$\n",
    " \n",
    " $$ \\frac{\\partial{loss}}{\\partial{k}} = -\\frac{2}{n}\\sum(y_i - (kx_i + b_i))x_i$$\n",
    " \n",
    " $$ \\frac{\\partial{loss}}{\\partial{k}} = -\\frac{2}{n}\\sum(y_i - \\hat{y_i})x_i$$\n",
    " \n",
    " $$ \\frac{\\partial{loss}}{\\partial{b}} = -\\frac{2}{n}\\sum(y_i - \\hat{y_i})$$"
   ]
  },
  {
   "cell_type": "code",
   "execution_count": 3,
   "metadata": {},
   "outputs": [],
   "source": [
    "def loss(y, y_hat): # to evaluate the performance \n",
    "    return sum((y_i - y_hat_i)**2 for y_i, y_hat_i in zip(list(y), list(y_hat))) / len(list(y))"
   ]
  },
  {
   "cell_type": "code",
   "execution_count": 4,
   "metadata": {},
   "outputs": [],
   "source": [
    "def partial_k(x, y, y_hat):\n",
    "    n = len(y)\n",
    "\n",
    "    gradient = 0\n",
    "    \n",
    "    for x_i, y_i, y_hat_i in zip(list(x), list(y), list(y_hat)):\n",
    "        gradient += (y_i - y_hat_i) * x_i\n",
    "    \n",
    "    return -2 / n * gradient\n",
    "\n",
    "\n",
    "def partial_b(x, y, y_hat):\n",
    "    n = len(y)\n",
    "\n",
    "    gradient = 0\n",
    "    \n",
    "    for y_i, y_hat_i in zip(list(y), list(y_hat)):\n",
    "        gradient += (y_i - y_hat_i)\n",
    "    \n",
    "    return -2 / n * gradient"
   ]
  },
  {
   "cell_type": "markdown",
   "metadata": {},
   "source": [
    "### 老师的方法："
   ]
  },
  {
   "cell_type": "code",
   "execution_count": 22,
   "metadata": {},
   "outputs": [
    {
     "name": "stdout",
     "output_type": "stream",
     "text": [
      "When time is : 0, get best_k: -99.01598446396869 best_b: 47.43571900370944, and the loss is: 362661.4735492204\n",
      "When time is : 50, get best_k: -67.67239868830767 best_b: 52.351174524173274, and the loss is: 159350.48807884977\n",
      "When time is : 100, get best_k: -46.90097999701338 best_b: 55.60463321393186, and the loss is: 70067.21410028754\n",
      "When time is : 150, get best_k: -33.13553683251437 best_b: 57.7567184651388, and the loss is: 30858.782915737076\n",
      "When time is : 200, get best_k: -24.012821403449948 best_b: 59.178944811350746, and the loss is: 13640.531559218083\n",
      "When time is : 250, get best_k: -17.96675403260124 best_b: 60.11750791718839, and the loss is: 6079.1853868689695\n",
      "When time is : 300, get best_k: -13.959523296058007 best_b: 60.73555699969747, and the loss is: 2758.6329920767594\n",
      "When time is : 350, get best_k: -11.303391164094853 best_b: 61.141207963595384, and the loss is: 1300.4093186488112\n",
      "When time is : 400, get best_k: -9.542606633556018 best_b: 61.40610717692105, and the loss is: 660.0203377834762\n",
      "When time is : 450, get best_k: -8.375152122307044 best_b: 61.57773333454856, and the loss is: 378.7804054082871\n",
      "When time is : 500, get best_k: -7.60088628279608 best_b: 61.687549670795015, and the loss is: 255.2594374086705\n",
      "When time is : 550, get best_k: -7.087179224015833 best_b: 61.756406276746745, and the loss is: 201.00016613091017\n",
      "When time is : 600, get best_k: -6.746139622137521 best_b: 61.798120113919126, and the loss is: 177.15691350632179\n",
      "When time is : 650, get best_k: -6.519523556834405 best_b: 61.821847421693924, and the loss is: 166.67074537736983\n",
      "When time is : 700, get best_k: -6.3687338821367625 best_b: 61.83365586692104, and the loss is: 162.05029464534917\n",
      "When time is : 750, get best_k: -6.268192998377107 best_b: 61.83756637776665, and the loss is: 160.00575548195448\n",
      "When time is : 800, get best_k: -6.20095111332521 best_b: 61.836243547327506, and the loss is: 159.09242196781048\n",
      "When time is : 850, get best_k: -6.15577591978809 best_b: 61.83145315106675, and the loss is: 158.67585690386662\n",
      "When time is : 900, get best_k: -6.125223979922096 best_b: 61.824365334977315, and the loss is: 158.47744956743824\n",
      "When time is : 950, get best_k: -6.104362668041869 best_b: 61.8157555326519, and the loss is: 158.3748491013732\n",
      "When time is : 1000, get best_k: -6.0899232262582155 best_b: 61.80613760923043, and the loss is: 158.31432558371588\n",
      "When time is : 1050, get best_k: -6.07973951044536 best_b: 61.79585209337928, and the loss is: 158.27228371941197\n",
      "When time is : 1100, get best_k: -6.072376057793732 best_b: 61.78512464695762, and the loss is: 158.23836172204227\n",
      "When time is : 1150, get best_k: -6.066881614201805 best_b: 61.77410481176094, and the loss is: 158.2080092509819\n",
      "When time is : 1200, get best_k: -6.062625801533725 best_b: 61.76289168625623, and the loss is: 158.17922804028\n",
      "When time is : 1250, get best_k: -6.05919088009579 best_b: 61.751550941069375, and the loss is: 158.15114055802846\n",
      "When time is : 1300, get best_k: -6.056300021673845 best_b: 61.74012609482729, and the loss is: 158.12336143848066\n",
      "When time is : 1350, get best_k: -6.053769777429875 best_b: 61.72864598644563, and the loss is: 158.09572144881759\n",
      "When time is : 1400, get best_k: -6.051478579274805 best_b: 61.71712972687259, and the loss is: 158.06814627018727\n",
      "When time is : 1450, get best_k: -6.049345866323146 best_b: 61.7055899805161, and the loss is: 158.04060326485168\n",
      "When time is : 1500, get best_k: -6.047318252388747 best_b: 61.69403513978358, and the loss is: 158.01307809917722\n",
      "When time is : 1550, get best_k: -6.04536035944545 best_b: 61.68247076610845, and the loss is: 157.98556447771054\n",
      "When time is : 1600, get best_k: -6.043448743134616 best_b: 61.6709005448911, and the loss is: 157.95805963493478\n",
      "When time is : 1650, get best_k: -6.041567867313687 best_b: 61.6593269183203, and the loss is: 157.93056235549113\n",
      "When time is : 1700, get best_k: -6.039707436465542 best_b: 61.647751504731964, and the loss is: 157.90307210476882\n",
      "When time is : 1750, get best_k: -6.0378606279365545 best_b: 61.63617537651025, and the loss is: 157.87558864710283\n",
      "When time is : 1800, get best_k: -6.036022920474147 best_b: 61.62459924424739, and the loss is: 157.8481118781117\n",
      "When time is : 1850, get best_k: -6.034191317920755 best_b: 61.61302357878311, and the loss is: 157.8206417510651\n",
      "When time is : 1900, get best_k: -6.032363834770482 best_b: 61.601448692077376, and the loss is: 157.79317824455092\n",
      "When time is : 1950, get best_k: -6.0305391552571885 best_b: 61.589874790803904, and the loss is: 157.76572134827578\n"
     ]
    }
   ],
   "source": [
    "trying_times = 2000\n",
    "min_loss = float('inf') \n",
    "\n",
    "current_k = random.random() * 200 - 100\n",
    "current_b = random.random() * 200 - 100\n",
    "\n",
    "learning_rate = 1e-04\n",
    "update_time = 0\n",
    "\n",
    "for i in range(trying_times):\n",
    "    price_by_k_and_b = [price(r, current_k, current_b) for r in X_rm]\n",
    "    current_loss = loss(y, price_by_k_and_b)\n",
    "\n",
    "    if current_loss < min_loss: # performance became better\n",
    "        min_loss = current_loss\n",
    "        \n",
    "        if i % 50 == 0: \n",
    "            print('When time is : {}, get best_k: {} best_b: {}, and the loss is: {}'.\n",
    "                  format(i, current_k, current_b, min_loss))\n",
    "    #利用公式求出k/b的导数\n",
    "    k_gradient = partial_k(X_rm, y, price_by_k_and_b)\n",
    "    b_gradient = partial_b(X_rm, y, price_by_k_and_b)\n",
    "    #更新参数\n",
    "    current_k = current_k + (-1 * k_gradient) * learning_rate\n",
    "    current_b = current_b + (-1 * b_gradient) * learning_rate"
   ]
  },
  {
   "cell_type": "markdown",
   "metadata": {},
   "source": [
    "### 我的方法："
   ]
  },
  {
   "cell_type": "code",
   "execution_count": 28,
   "metadata": {},
   "outputs": [
    {
     "name": "stdout",
     "output_type": "stream",
     "text": [
      "In loop: 0,k: 25.35870000015545, b: -36.15568310968336, loss: 10310.606836230341\n",
      "In loop: 50,k: 15.275981126840076, b: -37.7395232220877, loss: 1339.1296159493118\n",
      "In loop: 100,k: 11.694473804693226, b: -38.30134028452595, loss: 207.22131127944934\n",
      "In loop: 150,k: 10.422200410223173, b: -38.500134431316454, loss: 64.41125153288957\n",
      "In loop: 200,k: 9.970168203410637, b: -38.56998286980798, loss: 46.393173214781534\n",
      "In loop: 250,k: 9.809486150239852, b: -38.59402995175025, loss: 44.11977825945264\n",
      "In loop: 300,k: 9.752291866728344, b: -38.60180859619924, loss: 43.83284956528463\n",
      "In loop: 350,k: 9.731856531532081, b: -38.6038089120549, loss: 43.7965482699083\n",
      "In loop: 400,k: 9.72447803087568, b: -38.60375699165551, loss: 43.79186804900921\n",
      "In loop: 450,k: 9.721737360997736, b: -38.602976344964596, loss: 43.79117743794831\n",
      "In loop: 500,k: 9.720644087155973, b: -38.601937083374736, loss: 43.7909902458706\n",
      "In loop: 550,k: 9.720136005286806, b: -38.60080619064031, loss: 43.790866629006985\n",
      "In loop: 600,k: 9.719835819916232, b: -38.599642979413225, loss: 43.79075109336434\n",
      "In loop: 650,k: 9.719609515475138, b: -38.598468517511, loss: 43.79063663737221\n",
      "In loop: 700,k: 9.719409489549399, b: -38.597290288165105, loss: 43.790522377624406\n",
      "In loop: 750,k: 9.719218833724737, b: -38.59611094935472, loss: 43.79040820262765\n",
      "In loop: 800,k: 9.719031542112344, b: -38.594931445126704, loss: 43.79029409827919\n",
      "In loop: 850,k: 9.71884548140645, b: -38.59375211073832, loss: 43.79018006276359\n",
      "In loop: 900,k: 9.718659893844881, b: -38.59257306520444, loss: 43.79006609581586\n",
      "In loop: 950,k: 9.718474510259297, b: -38.59139435073055, loss: 43.78995219736655\n",
      "In loop: 1000,k: 9.718289235030158, b: -38.59021598223933, loss: 43.78983836737094\n",
      "In loop: 1050,k: 9.718104034182566, b: -38.58903796496273, loss: 43.78972460578739\n",
      "In loop: 1100,k: 9.717918895637832, b: -38.58786030069051, loss: 43.78961091257483\n",
      "In loop: 1150,k: 9.717733815094816, b: -38.58668298998979, loss: 43.78949728769202\n",
      "In loop: 1200,k: 9.717548791014964, b: -38.58550603299344, loss: 43.789383731097985\n",
      "In loop: 1250,k: 9.717363822841003, b: -38.58432942968008, loss: 43.78927024275168\n",
      "In loop: 1300,k: 9.717178910364225, b: -38.58315317997361, loss: 43.789156822612114\n",
      "In loop: 1350,k: 9.716994053499713, b: -38.58197728377844, loss: 43.789043470638184\n",
      "In loop: 1400,k: 9.716809252206533, b: -38.580801740992136, loss: 43.788930186789\n",
      "In loop: 1450,k: 9.716624506459397, b: -38.57962655150982, loss: 43.788816971023614\n",
      "In loop: 1500,k: 9.716439816238545, b: -38.57845171522582, loss: 43.78870382330113\n",
      "In loop: 1550,k: 9.716255181526222, b: -38.57727723203414, loss: 43.788590743580656\n",
      "In loop: 1600,k: 9.716070602305335, b: -38.576103101828735, loss: 43.78847773182127\n",
      "In loop: 1650,k: 9.715886078559079, b: -38.57492932450351, loss: 43.78836478798213\n",
      "In loop: 1700,k: 9.715701610270742, b: -38.573755899952424, loss: 43.7882519120225\n",
      "In loop: 1750,k: 9.715517197423631, b: -38.5725828280695, loss: 43.788139103901386\n",
      "In loop: 1800,k: 9.715332840001079, b: -38.57141010874869, loss: 43.788026363578325\n",
      "In loop: 1850,k: 9.715148537986423, b: -38.57023774188403, loss: 43.78791369101233\n",
      "In loop: 1900,k: 9.714964291363012, b: -38.569065727369626, loss: 43.78780108616272\n",
      "In loop: 1950,k: 9.714780100114197, b: -38.56789406509959, loss: 43.78768854898885\n"
     ]
    }
   ],
   "source": [
    "trying_times = 2000\n",
    "min_loss = float('inf')\n",
    "best_k,best_b = random.random() * 200 - 100,random.random() * 200 - 100\n",
    "n = 0\n",
    "alpha = 0.0005\n",
    "\n",
    "\n",
    "\n",
    "while n < trying_times:\n",
    "    price_by_random = [price(r,best_k,best_b) for r in X_rm]\n",
    "    gradient_loss = loss(y,price_by_random)\n",
    "    if gradient_loss < min_loss:\n",
    "        min_loss = gradient_loss\n",
    "        if n % 50 ==0:\n",
    "            print(\"In loop: {},k: {}, b: {}, loss: {}\".format(n,best_k,best_b,gradient_loss))\n",
    "    n += 1\n",
    "    #diff_k和diff_b是参数k和b的偏导数的求和部分\n",
    "    diff_k,diff_b =0,0\n",
    "    for i in range(len(X_rm)):\n",
    "        #y = x0*k + x1*b, 其中x1=1\n",
    "        diff_k += (best_k * X_rm[i-1] + best_b - y[i-1]) * X_rm[i-1]\n",
    "        diff_b += (best_k * X_rm[i-1] + best_b - y[i-1]) * 1\n",
    "    #梯度下降\n",
    "    best_k -= alpha * (diff_k / len(X_rm))\n",
    "    best_b -= alpha * (diff_b / len(X_rm))"
   ]
  },
  {
   "cell_type": "markdown",
   "metadata": {},
   "source": [
    "### 梯度下降的速度很大的依赖于学习率的大小，如果学习率太小则速度会很慢。例如在alpha=0.0001时，几乎需要迭代1000次才能使得loss降为100左右；如果把alpha设置为0.0005，则在迭代不到200次的时候就达到了loss值100以下。"
   ]
  }
 ],
 "metadata": {
  "kernelspec": {
   "display_name": "Python 3",
   "language": "python",
   "name": "python3"
  },
  "language_info": {
   "codemirror_mode": {
    "name": "ipython",
    "version": 3
   },
   "file_extension": ".py",
   "mimetype": "text/x-python",
   "name": "python",
   "nbconvert_exporter": "python",
   "pygments_lexer": "ipython3",
   "version": "3.7.1"
  }
 },
 "nbformat": 4,
 "nbformat_minor": 2
}
