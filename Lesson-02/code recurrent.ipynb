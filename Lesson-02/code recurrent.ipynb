{
 "cells": [
  {
   "cell_type": "markdown",
   "metadata": {},
   "source": [
    "### 基于搜索的方法：以城市搜索为例"
   ]
  },
  {
   "cell_type": "code",
   "execution_count": 1,
   "metadata": {},
   "outputs": [],
   "source": [
    "coordination_source = \"\"\"\n",
    "{name:'兰州', geoCoord:[103.73, 36.03]},\n",
    "{name:'嘉峪关', geoCoord:[98.17, 39.47]},\n",
    "{name:'西宁', geoCoord:[101.74, 36.56]},\n",
    "{name:'成都', geoCoord:[104.06, 30.67]},\n",
    "{name:'石家庄', geoCoord:[114.48, 38.03]},\n",
    "{name:'拉萨', geoCoord:[102.73, 25.04]},\n",
    "{name:'贵阳', geoCoord:[106.71, 26.57]},\n",
    "{name:'武汉', geoCoord:[114.31, 30.52]},\n",
    "{name:'郑州', geoCoord:[113.65, 34.76]},\n",
    "{name:'济南', geoCoord:[117, 36.65]},\n",
    "{name:'南京', geoCoord:[118.78, 32.04]},\n",
    "{name:'合肥', geoCoord:[117.27, 31.86]},\n",
    "{name:'杭州', geoCoord:[120.19, 30.26]},\n",
    "{name:'南昌', geoCoord:[115.89, 28.68]},\n",
    "{name:'福州', geoCoord:[119.3, 26.08]},\n",
    "{name:'广州', geoCoord:[113.23, 23.16]},\n",
    "{name:'长沙', geoCoord:[113, 28.21]},\n",
    "//{name:'海口', geoCoord:[110.35, 20.02]},\n",
    "{name:'沈阳', geoCoord:[123.38, 41.8]},\n",
    "{name:'长春', geoCoord:[125.35, 43.88]},\n",
    "{name:'哈尔滨', geoCoord:[126.63, 45.75]},\n",
    "{name:'太原', geoCoord:[112.53, 37.87]},\n",
    "{name:'西安', geoCoord:[108.95, 34.27]},\n",
    "//{name:'台湾', geoCoord:[121.30, 25.03]},\n",
    "{name:'北京', geoCoord:[116.46, 39.92]},\n",
    "{name:'上海', geoCoord:[121.48, 31.22]},\n",
    "{name:'重庆', geoCoord:[106.54, 29.59]},\n",
    "{name:'天津', geoCoord:[117.2, 39.13]},\n",
    "{name:'呼和浩特', geoCoord:[111.65, 40.82]},\n",
    "{name:'南宁', geoCoord:[108.33, 22.84]},\n",
    "//{name:'西藏', geoCoord:[91.11, 29.97]},\n",
    "{name:'银川', geoCoord:[106.27, 38.47]},\n",
    "{name:'乌鲁木齐', geoCoord:[87.68, 43.77]},\n",
    "{name:'香港', geoCoord:[114.17, 22.28]},\n",
    "{name:'澳门', geoCoord:[113.54, 22.19]}\n",
    "\"\"\""
   ]
  },
  {
   "cell_type": "code",
   "execution_count": 2,
   "metadata": {},
   "outputs": [],
   "source": [
    "#我们希望把上面代码转换成如下格式\n",
    "city_location = {\n",
    "    '香港':(114.17, 22.28)\n",
    "}"
   ]
  },
  {
   "cell_type": "code",
   "execution_count": 4,
   "metadata": {},
   "outputs": [],
   "source": [
    "#先以一个坐标为例子\n",
    "test_string = \"{name:'兰州', geoCoord:[103.73, 36.03]},\""
   ]
  },
  {
   "cell_type": "code",
   "execution_count": 3,
   "metadata": {},
   "outputs": [],
   "source": [
    "import re"
   ]
  },
  {
   "cell_type": "code",
   "execution_count": 6,
   "metadata": {},
   "outputs": [],
   "source": [
    "#用正则表达式把信息提取出来\n",
    "pattern = re.compile(r\"name:'(\\w+)',\\s+geoCoord:\\[(\\d+.\\d+),\\s(\\d+.\\d+)\\]\")"
   ]
  },
  {
   "cell_type": "code",
   "execution_count": 7,
   "metadata": {},
   "outputs": [
    {
     "data": {
      "text/plain": [
       "[('兰州', '103.73', '36.03')]"
      ]
     },
     "execution_count": 7,
     "metadata": {},
     "output_type": "execute_result"
    }
   ],
   "source": [
    "pattern.findall(test_string)"
   ]
  },
  {
   "cell_type": "code",
   "execution_count": 12,
   "metadata": {},
   "outputs": [],
   "source": [
    "#把城市信息解码成便于查找的格式\n",
    "for line in coordination_source.split('\\n'):\n",
    "    city_info = pattern.findall(line)\n",
    "    if not city_info: continue\n",
    "    \n",
    "    city, long, lat = city_info[0]\n",
    "    long, lat = float(long), float(lat)\n",
    "    city_location[city] = (long,lat)"
   ]
  },
  {
   "cell_type": "code",
   "execution_count": 13,
   "metadata": {},
   "outputs": [
    {
     "data": {
      "text/plain": [
       "{'香港': (114.17, 22.28),\n",
       " '兰州': (103.73, 36.03),\n",
       " '嘉峪关': (98.17, 39.47),\n",
       " '西宁': (101.74, 36.56),\n",
       " '成都': (104.06, 30.67),\n",
       " '石家庄': (114.48, 38.03),\n",
       " '拉萨': (102.73, 25.04),\n",
       " '贵阳': (106.71, 26.57),\n",
       " '武汉': (114.31, 30.52),\n",
       " '郑州': (113.65, 34.76),\n",
       " '济南': (117.0, 36.65),\n",
       " '南京': (118.78, 32.04),\n",
       " '合肥': (117.27, 31.86),\n",
       " '杭州': (120.19, 30.26),\n",
       " '南昌': (115.89, 28.68),\n",
       " '福州': (119.3, 26.08),\n",
       " '广州': (113.23, 23.16),\n",
       " '长沙': (113.0, 28.21),\n",
       " '海口': (110.35, 20.02),\n",
       " '沈阳': (123.38, 41.8),\n",
       " '长春': (125.35, 43.88),\n",
       " '哈尔滨': (126.63, 45.75),\n",
       " '太原': (112.53, 37.87),\n",
       " '西安': (108.95, 34.27),\n",
       " '台湾': (121.3, 25.03),\n",
       " '北京': (116.46, 39.92),\n",
       " '上海': (121.48, 31.22),\n",
       " '重庆': (106.54, 29.59),\n",
       " '天津': (117.2, 39.13),\n",
       " '呼和浩特': (111.65, 40.82),\n",
       " '南宁': (108.33, 22.84),\n",
       " '西藏': (91.11, 29.97),\n",
       " '银川': (106.27, 38.47),\n",
       " '乌鲁木齐': (87.68, 43.77),\n",
       " '澳门': (113.54, 22.19)}"
      ]
     },
     "execution_count": 13,
     "metadata": {},
     "output_type": "execute_result"
    }
   ],
   "source": [
    "city_location"
   ]
  },
  {
   "cell_type": "code",
   "execution_count": 14,
   "metadata": {},
   "outputs": [],
   "source": [
    "#计算每一个城市之间的距离\n",
    "import math\n",
    "\n",
    "def geo_distance(origin, destination):\n",
    "    \"\"\"\n",
    "    Calculate the Haversine distance.\n",
    "    Parameters\n",
    "    ----------\n",
    "    origin : tuple of float\n",
    "        (lat, long)\n",
    "    destination : tuple of float\n",
    "        (lat, long)\n",
    "    Returns\n",
    "    -------\n",
    "    distance_in_km : float\n",
    "    Examples\n",
    "    --------\n",
    "    >>> origin = (48.1372, 11.5756)  # Munich\n",
    "    >>> destination = (52.5186, 13.4083)  # Berlin\n",
    "    >>> round(distance(origin, destination), 1)\n",
    "    504.2\n",
    "    \"\"\"\n",
    "    lat1, lon1 = origin\n",
    "    lat2, lon2 = destination\n",
    "    radius = 6371  # km\n",
    "\n",
    "    dlat = math.radians(lat2 - lat1)\n",
    "    dlon = math.radians(lon2 - lon1)\n",
    "    a = (math.sin(dlat / 2) * math.sin(dlat / 2) +\n",
    "         math.cos(math.radians(lat1)) * math.cos(math.radians(lat2)) *\n",
    "         math.sin(dlon / 2) * math.sin(dlon / 2))\n",
    "    c = 2 * math.atan2(math.sqrt(a), math.sqrt(1 - a))\n",
    "    d = radius * c\n",
    "\n",
    "    return d\n",
    "\n",
    "def get_geo_distance(city1, city2):\n",
    "    return geo_distance(city_location[city1], city_location[city2])"
   ]
  },
  {
   "cell_type": "code",
   "execution_count": 15,
   "metadata": {},
   "outputs": [
    {
     "data": {
      "text/plain": [
       "153.5185697155768"
      ]
     },
     "execution_count": 15,
     "metadata": {},
     "output_type": "execute_result"
    }
   ],
   "source": [
    "get_geo_distance('上海','杭州')"
   ]
  },
  {
   "cell_type": "code",
   "execution_count": 16,
   "metadata": {},
   "outputs": [],
   "source": [
    "#导入作图工具，把城市间的关系绘制成图形\n",
    "import networkx as nx\n",
    "import matplotlib.pyplot as plt\n",
    "%matplotlib inline"
   ]
  },
  {
   "cell_type": "code",
   "execution_count": 17,
   "metadata": {},
   "outputs": [],
   "source": [
    "city_graph = nx.Graph()\n",
    "city_graph.add_nodes_from(list(city_location.keys()))"
   ]
  },
  {
   "cell_type": "code",
   "execution_count": 19,
   "metadata": {},
   "outputs": [],
   "source": [
    "plt.rcParams['font.sans-serif'] = ['SimHei']\n",
    "plt.rcParams['axes.unicode_minus'] = False"
   ]
  },
  {
   "cell_type": "code",
   "execution_count": 20,
   "metadata": {},
   "outputs": [
    {
     "data": {
      "image/png": "[encoded data removed]",
      "text/plain": [
       "<Figure size 432x288 with 1 Axes>"
      ]
     },
     "metadata": {},
     "output_type": "display_data"
    }
   ],
   "source": [
    "nx.draw(city_graph,city_location,with_labels=True,node_size=20)"
   ]
  },
  {
   "cell_type": "code",
   "execution_count": 27,
   "metadata": {},
   "outputs": [],
   "source": [
    "#我们再观察城市与城市之间的关系\n",
    "from collections import defaultdict\n",
    "\n",
    "threshold = 300\n",
    "cities = list(city_location.keys())\n",
    "cities_connection = defaultdict(list)"
   ]
  },
  {
   "cell_type": "code",
   "execution_count": 28,
   "metadata": {},
   "outputs": [
    {
     "data": {
      "text/plain": [
       "defaultdict(list, {})"
      ]
     },
     "execution_count": 28,
     "metadata": {},
     "output_type": "execute_result"
    }
   ],
   "source": [
    "cities_connection"
   ]
  },
  {
   "cell_type": "code",
   "execution_count": 29,
   "metadata": {},
   "outputs": [],
   "source": [
    "#如果两个城市间的距离小于门槛值，则添加联系\n",
    "for c1 in cities:\n",
    "    for c2 in cities:\n",
    "        if c1==c2: continue\n",
    "        if get_geo_distance(c1,c2)<threshold:\n",
    "            cities_connection[c1].append(c2)"
   ]
  },
  {
   "cell_type": "code",
   "execution_count": 46,
   "metadata": {},
   "outputs": [
    {
     "data": {
      "text/plain": [
       "defaultdict(list,\n",
       "            {'香港': ['广州', '长沙', '澳门'],\n",
       "             '兰州': ['西宁', '成都', '银川'],\n",
       "             '西宁': ['兰州', '成都', '拉萨'],\n",
       "             '成都': ['兰州', '西宁', '拉萨', '重庆'],\n",
       "             '石家庄': ['郑州', '济南', '太原', '北京'],\n",
       "             '拉萨': ['西宁', '成都'],\n",
       "             '贵阳': ['重庆', '南宁'],\n",
       "             '武汉': ['郑州', '南昌', '长沙'],\n",
       "             '郑州': ['石家庄', '武汉', '长沙', '太原'],\n",
       "             '济南': ['石家庄', '合肥', '北京', '天津'],\n",
       "             '南京': ['合肥', '杭州'],\n",
       "             '合肥': ['济南', '南京', '南昌'],\n",
       "             '杭州': ['南京', '福州', '上海'],\n",
       "             '南昌': ['武汉', '合肥'],\n",
       "             '福州': ['杭州', '台湾'],\n",
       "             '广州': ['香港', '长沙', '澳门'],\n",
       "             '长沙': ['香港', '武汉', '郑州', '广州', '澳门'],\n",
       "             '海口': ['南宁'],\n",
       "             '沈阳': ['长春'],\n",
       "             '长春': ['沈阳', '哈尔滨'],\n",
       "             '哈尔滨': ['长春'],\n",
       "             '太原': ['石家庄', '郑州', '呼和浩特'],\n",
       "             '台湾': ['福州'],\n",
       "             '北京': ['石家庄', '济南', '天津'],\n",
       "             '上海': ['杭州'],\n",
       "             '重庆': ['成都', '贵阳', '银川'],\n",
       "             '天津': ['济南', '北京'],\n",
       "             '呼和浩特': ['太原'],\n",
       "             '南宁': ['贵阳', '海口'],\n",
       "             '银川': ['兰州', '重庆'],\n",
       "             '澳门': ['香港', '广州', '长沙']})"
      ]
     },
     "execution_count": 46,
     "metadata": {},
     "output_type": "execute_result"
    }
   ],
   "source": [
    "cities_connection"
   ]
  },
  {
   "cell_type": "code",
   "execution_count": 30,
   "metadata": {},
   "outputs": [
    {
     "data": {
      "text/plain": [
       "['西宁', '成都', '银川']"
      ]
     },
     "execution_count": 30,
     "metadata": {},
     "output_type": "execute_result"
    }
   ],
   "source": [
    "cities_connection['兰州']"
   ]
  },
  {
   "cell_type": "code",
   "execution_count": 31,
   "metadata": {},
   "outputs": [],
   "source": [
    "cities_connection_graph = nx.Graph(cities_connection)"
   ]
  },
  {
   "cell_type": "code",
   "execution_count": 32,
   "metadata": {},
   "outputs": [
    {
     "data": {
      "image/png": "[encoded data removed]",
      "text/plain": [
       "<Figure size 432x288 with 1 Axes>"
      ]
     },
     "metadata": {},
     "output_type": "display_data"
    }
   ],
   "source": [
    "nx.draw(cities_connection_graph, city_location, with_labels=True,node_size=10)"
   ]
  },
  {
   "cell_type": "markdown",
   "metadata": {},
   "source": [
    "### 假设我们以一个城市作为起点，另一个作为终点，如何选择一条路径呢？"
   ]
  },
  {
   "cell_type": "code",
   "execution_count": 34,
   "metadata": {},
   "outputs": [],
   "source": [
    "#以如下信息为例：\n",
    "simple_connection_info_src = {\n",
    "    '北京': ['太原', '沈阳'],\n",
    "    '太原': ['北京', '西安', '郑州'],\n",
    "    '兰州': ['西安'],\n",
    "    '郑州': ['太原'],\n",
    "    '西安': ['兰州', '长沙'],\n",
    "    '长沙': ['福州', '南宁'],\n",
    "    '沈阳': ['北京']\n",
    "}"
   ]
  },
  {
   "cell_type": "code",
   "execution_count": 35,
   "metadata": {},
   "outputs": [],
   "source": [
    "simple_connection_info = defaultdict(list)\n",
    "simple_connection_info.update(simple_connection_info_src)"
   ]
  },
  {
   "cell_type": "code",
   "execution_count": 36,
   "metadata": {},
   "outputs": [
    {
     "data": {
      "text/plain": [
       "defaultdict(list,\n",
       "            {'北京': ['太原', '沈阳'],\n",
       "             '太原': ['北京', '西安', '郑州'],\n",
       "             '兰州': ['西安'],\n",
       "             '郑州': ['太原'],\n",
       "             '西安': ['兰州', '长沙'],\n",
       "             '长沙': ['福州', '南宁'],\n",
       "             '沈阳': ['北京']})"
      ]
     },
     "execution_count": 36,
     "metadata": {},
     "output_type": "execute_result"
    }
   ],
   "source": [
    "simple_connection_info"
   ]
  },
  {
   "cell_type": "code",
   "execution_count": 40,
   "metadata": {},
   "outputs": [],
   "source": [
    "#我们定义一个搜索方法\n",
    "def search(start,stop,connection_graph,sort_candidate):\n",
    "    pathes = [[start]]\n",
    "    visited = set()\n",
    "    \n",
    "    while pathes:\n",
    "        path = pathes.pop()\n",
    "        frontier = path[-1]\n",
    "        if frontier in visited: continue\n",
    "        successors = connection_graph[frontier]\n",
    "        for city in successors:\n",
    "            if city in path: continue\n",
    "            new_path = path + [city]\n",
    "            pathes.append(new_path)\n",
    "            if city == stop: return new_path\n",
    "        visited.add(frontier)\n",
    "        pathes = sort_candidate(pathes)"
   ]
  },
  {
   "cell_type": "code",
   "execution_count": 91,
   "metadata": {},
   "outputs": [],
   "source": [
    "#最长路径\n",
    "def transfer_stations_first(pathes):\n",
    "    return sorted(pathes,key=len)"
   ]
  },
  {
   "cell_type": "code",
   "execution_count": 90,
   "metadata": {},
   "outputs": [],
   "source": [
    "#最短路径\n",
    "def transfer_as_less(pathes):\n",
    "    return sorted(pathes,key=len,reverse=True)"
   ]
  },
  {
   "cell_type": "code",
   "execution_count": 47,
   "metadata": {},
   "outputs": [
    {
     "data": {
      "text/plain": [
       "['北京', '天津', '济南', '合肥', '南昌', '武汉', '长沙', '广州']"
      ]
     },
     "execution_count": 47,
     "metadata": {},
     "output_type": "execute_result"
    }
   ],
   "source": [
    "search('北京', '广州', cities_connection, sort_candidate=transfer_stations_first)"
   ]
  },
  {
   "cell_type": "code",
   "execution_count": 48,
   "metadata": {},
   "outputs": [
    {
     "data": {
      "text/plain": [
       "['北京', '石家庄', '郑州', '长沙', '广州']"
      ]
     },
     "execution_count": 48,
     "metadata": {},
     "output_type": "execute_result"
    }
   ],
   "source": [
    "search('北京', '广州', cities_connection, sort_candidate=transfer_as_much)"
   ]
  },
  {
   "cell_type": "code",
   "execution_count": 51,
   "metadata": {},
   "outputs": [],
   "source": [
    "from emoji import emojize"
   ]
  },
  {
   "cell_type": "code",
   "execution_count": 87,
   "metadata": {},
   "outputs": [],
   "source": [
    "def pretty_print(cities):\n",
    "    print(emojize(\" :airplane_departure:-> \").join(cities)+ emojize(\":airplane_arrival:\"))"
   ]
  },
  {
   "cell_type": "code",
   "execution_count": 88,
   "metadata": {},
   "outputs": [
    {
     "name": "stdout",
     "output_type": "stream",
     "text": [
      "北京 🛫-> 石家庄 🛫-> 郑州 🛫-> 长沙 🛫-> 广州🛬\n"
     ]
    }
   ],
   "source": [
    "pretty_print(search('北京', '广州', cities_connection, sort_candidate=transfer_as_much))"
   ]
  },
  {
   "cell_type": "code",
   "execution_count": 89,
   "metadata": {},
   "outputs": [
    {
     "name": "stdout",
     "output_type": "stream",
     "text": [
      "北京 🛫-> 天津 🛫-> 济南 🛫-> 合肥 🛫-> 南昌 🛫-> 武汉 🛫-> 长沙 🛫-> 广州🛬\n"
     ]
    }
   ],
   "source": [
    "pretty_print(search('北京', '广州', cities_connection, sort_candidate=transfer_stations_first))"
   ]
  },
  {
   "cell_type": "markdown",
   "metadata": {},
   "source": [
    "### 爬虫初步"
   ]
  },
  {
   "cell_type": "code",
   "execution_count": 92,
   "metadata": {},
   "outputs": [],
   "source": [
    "import requests"
   ]
  },
  {
   "cell_type": "code",
   "execution_count": 98,
   "metadata": {},
   "outputs": [],
   "source": [
    "#链接\n",
    "url = \"https://movie.douban.com/subject/26849758/?tag=%E7%83%AD%E9%97%A8&from=gaia_video\"\n",
    "#获取链接的相关信息，传入response中\n",
    "response = requests.get(url)"
   ]
  },
  {
   "cell_type": "code",
   "execution_count": 99,
   "metadata": {},
   "outputs": [],
   "source": [
    "#用正则爬取我们想要的信息\n",
    "_next = r'<a href=\"https://(movie\\.douban\\.com/subject/\\d+/\\?from=subject-page)\" class=\"\" '"
   ]
  },
  {
   "cell_type": "code",
   "execution_count": 101,
   "metadata": {},
   "outputs": [],
   "source": [
    "#封装正则表达式\n",
    "pattern = re.compile(_next)\n",
    "likes = pattern.findall(response.text)"
   ]
  },
  {
   "cell_type": "code",
   "execution_count": 102,
   "metadata": {},
   "outputs": [
    {
     "name": "stdout",
     "output_type": "stream",
     "text": [
      "movie.douban.com/subject/26883064/?from=subject-page\n",
      "movie.douban.com/subject/2210001/?from=subject-page\n",
      "movie.douban.com/subject/26776350/?from=subject-page\n",
      "movie.douban.com/subject/26930540/?from=subject-page\n",
      "movie.douban.com/subject/25994712/?from=subject-page\n",
      "movie.douban.com/subject/26605881/?from=subject-page\n",
      "movie.douban.com/subject/27140017/?from=subject-page\n",
      "movie.douban.com/subject/1441794/?from=subject-page\n",
      "movie.douban.com/subject/30446788/?from=subject-page\n",
      "movie.douban.com/subject/24695611/?from=subject-page\n"
     ]
    }
   ],
   "source": [
    "for like in likes:\n",
    "    print(like)"
   ]
  },
  {
   "cell_type": "markdown",
   "metadata": {},
   "source": [
    "## 机器学习的引入"
   ]
  },
  {
   "cell_type": "code",
   "execution_count": 103,
   "metadata": {},
   "outputs": [],
   "source": [
    "#导入波士顿房价数据集\n",
    "from sklearn.datasets import load_boston"
   ]
  },
  {
   "cell_type": "code",
   "execution_count": 104,
   "metadata": {},
   "outputs": [],
   "source": [
    "data = load_boston()"
   ]
  },
  {
   "cell_type": "code",
   "execution_count": 110,
   "metadata": {},
   "outputs": [],
   "source": [
    "#X是特征，y是目标房价\n",
    "X,y = data['data'], data['target']"
   ]
  },
  {
   "cell_type": "code",
   "execution_count": 116,
   "metadata": {},
   "outputs": [
    {
     "data": {
      "text/plain": [
       "(506, 13)"
      ]
     },
     "execution_count": 116,
     "metadata": {},
     "output_type": "execute_result"
    }
   ],
   "source": [
    "X.shape"
   ]
  },
  {
   "cell_type": "code",
   "execution_count": 113,
   "metadata": {},
   "outputs": [
    {
     "data": {
      "text/plain": [
       "506"
      ]
     },
     "execution_count": 113,
     "metadata": {},
     "output_type": "execute_result"
    }
   ],
   "source": [
    "len(y)"
   ]
  },
  {
   "cell_type": "code",
   "execution_count": 114,
   "metadata": {},
   "outputs": [
    {
     "data": {
      "text/plain": [
       "506"
      ]
     },
     "execution_count": 114,
     "metadata": {},
     "output_type": "execute_result"
    }
   ],
   "source": [
    "len(X)"
   ]
  },
  {
   "cell_type": "code",
   "execution_count": 117,
   "metadata": {},
   "outputs": [],
   "source": [
    "#画出第五个特征（房间数量）和房价的关系\n",
    "def draw_rm_price():\n",
    "    plt.scatter(X[:,5],y)"
   ]
  },
  {
   "cell_type": "code",
   "execution_count": 118,
   "metadata": {},
   "outputs": [
    {
     "data": {
      "image/png": "[encoded data removed]",
      "text/plain": [
       "<Figure size 432x288 with 1 Axes>"
      ]
     },
     "metadata": {
      "needs_background": "light"
     },
     "output_type": "display_data"
    }
   ],
   "source": [
    "draw_rm_price()"
   ]
  },
  {
   "cell_type": "code",
   "execution_count": 119,
   "metadata": {},
   "outputs": [],
   "source": [
    "import random\n",
    "#假设房间数量和目标房价存在线性关系，一元一次函数\n",
    "def price(rm,k,b):\n",
    "    return k * rm + b"
   ]
  },
  {
   "cell_type": "code",
   "execution_count": 129,
   "metadata": {},
   "outputs": [
    {
     "data": {
      "text/plain": [
       "<matplotlib.collections.PathCollection at 0x25b5dcef198>"
      ]
     },
     "execution_count": 129,
     "metadata": {},
     "output_type": "execute_result"
    },
    {
     "data": {
      "image/png": "[encoded data removed]",
      "text/plain": [
       "<Figure size 432x288 with 1 Axes>"
      ]
     },
     "metadata": {
      "needs_background": "light"
     },
     "output_type": "display_data"
    }
   ],
   "source": [
    "X_rm = X[:,5]\n",
    "k = random.randint(-100,100)\n",
    "b = random.randint(-100,100)\n",
    "price_by_random = [price(r,k,b) for r in X_rm]\n",
    "\n",
    "draw_rm_price()\n",
    "plt.scatter(X_rm,price_by_random)"
   ]
  },
  {
   "cell_type": "code",
   "execution_count": 130,
   "metadata": {},
   "outputs": [],
   "source": [
    "#为了衡量拟合程度的好坏，这里引入loss函数\n",
    "#loss即是真实值和预测值之间的差，loss越小，拟合程度越好\n",
    "def loss(y, y_hat):\n",
    "    return sum((y_i - y_hat_i)**2 for y_i,y_hat_i in zip(list(y),list(y_hat))) / len(list(y))"
   ]
  },
  {
   "cell_type": "code",
   "execution_count": 131,
   "metadata": {},
   "outputs": [
    {
     "name": "stdout",
     "output_type": "stream",
     "text": [
      "When time is : 0, get best_k: 22.43127802955378 best_b -9.19258907150737, and the loss is : 12066.040028089055\n",
      "When time is : 1, get best_k: 1.1333026893000806 best_b 22.182406905363152, and the loss is : 120.74751894201785\n",
      "When time is : 27, get best_k: 0.7400430667568543 best_b 13.99841519207908, and the loss is : 93.13334672675224\n",
      "When time is : 129, get best_k: 10.414624025968038 best_b -41.70300940102987, and the loss is : 45.92867358318739\n",
      "When time is : 1096, get best_k: 8.879393130826045 best_b -31.98905823683529, and the loss is : 45.26819373729531\n"
     ]
    }
   ],
   "source": [
    "#随机去寻找某个k,b能够让loss越来越小\n",
    "trying_times = 2000\n",
    "#初始化损失（无限大），k值，b值\n",
    "min_loss = float('inf')\n",
    "best_k,best_b = None,None\n",
    "\n",
    "for i in range(trying_times):\n",
    "    k = random.random() * 200 - 100\n",
    "    b = random.random() * 200 - 100\n",
    "    price_by_random = [price(r,k,b) for r in X_rm]\n",
    "    \n",
    "    current_loss = loss(y,price_by_random)\n",
    "    \n",
    "    if current_loss < min_loss:\n",
    "        min_loss = current_loss\n",
    "        best_b, best_k = b,k\n",
    "        print('When time is : {}, get best_k: {} best_b {}, and the loss is : {}'\n",
    "              .format(i,best_k,best_b,min_loss))"
   ]
  },
  {
   "cell_type": "code",
   "execution_count": 133,
   "metadata": {},
   "outputs": [
    {
     "data": {
      "text/plain": [
       "<matplotlib.collections.PathCollection at 0x25b5f154ba8>"
      ]
     },
     "execution_count": 133,
     "metadata": {},
     "output_type": "execute_result"
    },
    {
     "data": {
      "image/png": "[encoded data removed]",
      "text/plain": [
       "<Figure size 432x288 with 1 Axes>"
      ]
     },
     "metadata": {
      "needs_background": "light"
     },
     "output_type": "display_data"
    }
   ],
   "source": [
    "X_rm = X[:, 5]\n",
    "k = 8.879393130826045\n",
    "b = -31.98905823683529\n",
    "price_by_random = [price(r, k, b) for r in X_rm]\n",
    "\n",
    "draw_rm_price()\n",
    "plt.scatter(X_rm, price_by_random)"
   ]
  },
  {
   "cell_type": "code",
   "execution_count": 135,
   "metadata": {},
   "outputs": [
    {
     "name": "stdout",
     "output_type": "stream",
     "text": [
      "When time is : 0, get best_k: 79.84942418541601 best_b -74.05034077886043, and the loss is : 166730.13315350047\n",
      "When time is : 2, get best_k: 79.74942418541602 best_b -74.15034077886042, and the loss is : 166133.29043950446\n",
      "When time is : 3, get best_k: 79.64942418541602 best_b -74.25034077886042, and the loss is : 165537.518897376\n",
      "When time is : 4, get best_k: 79.54942418541603 best_b -74.35034077886041, and the loss is : 164942.81852711504\n",
      "When time is : 5, get best_k: 79.44942418541604 best_b -74.45034077886041, and the loss is : 164349.18932872178\n",
      "When time is : 6, get best_k: 79.34942418541604 best_b -74.5503407788604, and the loss is : 163756.6313021956\n",
      "When time is : 7, get best_k: 79.24942418541605 best_b -74.6503407788604, and the loss is : 163165.1444475372\n",
      "When time is : 8, get best_k: 79.14942418541605 best_b -74.75034077886039, and the loss is : 162574.72876474605\n",
      "When time is : 9, get best_k: 79.04942418541606 best_b -74.85034077886039, and the loss is : 161985.38425382262\n",
      "When time is : 10, get best_k: 78.94942418541606 best_b -74.95034077886038, and the loss is : 161397.11091476638\n",
      "When time is : 11, get best_k: 78.84942418541607 best_b -75.05034077886037, and the loss is : 160809.90874757772\n",
      "When time is : 12, get best_k: 78.74942418541607 best_b -75.15034077886037, and the loss is : 160223.7777522566\n",
      "When time is : 13, get best_k: 78.64942418541608 best_b -75.25034077886036, and the loss is : 159638.71792880291\n",
      "When time is : 14, get best_k: 78.54942418541609 best_b -75.35034077886036, and the loss is : 159054.7292772167\n",
      "When time is : 15, get best_k: 78.44942418541609 best_b -75.45034077886035, and the loss is : 158471.8117974979\n",
      "When time is : 16, get best_k: 78.3494241854161 best_b -75.55034077886035, and the loss is : 157889.96548964665\n",
      "When time is : 17, get best_k: 78.2494241854161 best_b -75.65034077886034, and the loss is : 157309.19035366256\n",
      "When time is : 18, get best_k: 78.14942418541611 best_b -75.75034077886033, and the loss is : 156729.48638954636\n",
      "When time is : 19, get best_k: 78.04942418541611 best_b -75.85034077886033, and the loss is : 156150.8535972974\n",
      "When time is : 20, get best_k: 77.94942418541612 best_b -75.95034077886032, and the loss is : 155573.291976916\n",
      "When time is : 21, get best_k: 77.84942418541613 best_b -76.05034077886032, and the loss is : 154996.80152840214\n",
      "When time is : 22, get best_k: 77.74942418541613 best_b -76.15034077886031, and the loss is : 154421.38225175592\n",
      "When time is : 23, get best_k: 77.64942418541614 best_b -76.2503407788603, and the loss is : 153847.0341469768\n",
      "When time is : 24, get best_k: 77.54942418541614 best_b -76.3503407788603, and the loss is : 153273.7572140653\n",
      "When time is : 25, get best_k: 77.44942418541615 best_b -76.4503407788603, and the loss is : 152701.55145302127\n",
      "When time is : 26, get best_k: 77.34942418541615 best_b -76.55034077886029, and the loss is : 152130.4168638444\n",
      "When time is : 27, get best_k: 77.24942418541616 best_b -76.65034077886028, and the loss is : 151560.35344653527\n",
      "When time is : 28, get best_k: 77.14942418541617 best_b -76.75034077886028, and the loss is : 150991.36120109374\n",
      "When time is : 29, get best_k: 77.04942418541617 best_b -76.85034077886027, and the loss is : 150423.44012751972\n",
      "When time is : 30, get best_k: 76.94942418541618 best_b -76.95034077886027, and the loss is : 149856.59022581283\n",
      "When time is : 31, get best_k: 76.84942418541618 best_b -77.05034077886026, and the loss is : 149290.8114959738\n",
      "When time is : 32, get best_k: 76.74942418541619 best_b -77.15034077886025, and the loss is : 148726.1039380018\n",
      "When time is : 33, get best_k: 76.6494241854162 best_b -77.25034077886025, and the loss is : 148162.4675518975\n",
      "When time is : 34, get best_k: 76.5494241854162 best_b -77.35034077886024, and the loss is : 147599.90233766052\n",
      "When time is : 35, get best_k: 76.4494241854162 best_b -77.45034077886024, and the loss is : 147038.40829529133\n",
      "When time is : 36, get best_k: 76.34942418541621 best_b -77.55034077886023, and the loss is : 146477.98542478934\n",
      "When time is : 37, get best_k: 76.24942418541622 best_b -77.65034077886023, and the loss is : 145918.63372615507\n",
      "When time is : 38, get best_k: 76.14942418541622 best_b -77.75034077886022, and the loss is : 145360.35319938822\n",
      "When time is : 39, get best_k: 76.04942418541623 best_b -77.85034077886021, and the loss is : 144803.1438444886\n",
      "When time is : 40, get best_k: 75.94942418541623 best_b -77.95034077886021, and the loss is : 144247.00566145655\n",
      "When time is : 41, get best_k: 75.84942418541624 best_b -78.0503407788602, and the loss is : 143691.93865029217\n",
      "When time is : 42, get best_k: 75.74942418541625 best_b -78.1503407788602, and the loss is : 143137.9428109951\n",
      "When time is : 43, get best_k: 75.64942418541625 best_b -78.25034077886019, and the loss is : 142585.01814356554\n",
      "When time is : 44, get best_k: 75.54942418541626 best_b -78.35034077886019, and the loss is : 142033.1646480033\n",
      "When time is : 45, get best_k: 75.44942418541626 best_b -78.45034077886018, and the loss is : 141482.38232430862\n",
      "When time is : 46, get best_k: 75.34942418541627 best_b -78.55034077886017, and the loss is : 140932.67117248147\n",
      "When time is : 47, get best_k: 75.24942418541627 best_b -78.65034077886017, and the loss is : 140384.03119252174\n",
      "When time is : 48, get best_k: 75.14942418541628 best_b -78.75034077886016, and the loss is : 139836.4623844295\n",
      "When time is : 49, get best_k: 75.04942418541629 best_b -78.85034077886016, and the loss is : 139289.9647482046\n",
      "When time is : 50, get best_k: 74.94942418541629 best_b -78.95034077886015, and the loss is : 138744.5382838475\n",
      "When time is : 51, get best_k: 74.8494241854163 best_b -79.05034077886015, and the loss is : 138200.18299135755\n",
      "When time is : 52, get best_k: 74.7494241854163 best_b -79.15034077886014, and the loss is : 137656.89887073505\n",
      "When time is : 53, get best_k: 74.64942418541631 best_b -79.25034077886014, and the loss is : 137114.68592198027\n",
      "When time is : 54, get best_k: 74.54942418541631 best_b -79.35034077886013, and the loss is : 136573.54414509275\n",
      "When time is : 55, get best_k: 74.44942418541632 best_b -79.45034077886012, and the loss is : 136033.47354007277\n",
      "When time is : 56, get best_k: 74.34942418541632 best_b -79.55034077886012, and the loss is : 135494.47410692033\n",
      "When time is : 57, get best_k: 74.24942418541633 best_b -79.65034077886011, and the loss is : 134956.54584563547\n",
      "When time is : 58, get best_k: 74.14942418541634 best_b -79.7503407788601, and the loss is : 134419.68875621795\n",
      "When time is : 59, get best_k: 74.04942418541634 best_b -79.8503407788601, and the loss is : 133883.90283866783\n",
      "When time is : 60, get best_k: 73.94942418541635 best_b -79.9503407788601, and the loss is : 133349.18809298525\n",
      "When time is : 61, get best_k: 73.84942418541635 best_b -80.05034077886009, and the loss is : 132815.54451916998\n",
      "When time is : 62, get best_k: 73.74942418541636 best_b -80.15034077886008, and the loss is : 132282.97211722232\n",
      "When time is : 63, get best_k: 73.64942418541636 best_b -80.25034077886008, and the loss is : 131751.4708871422\n",
      "When time is : 64, get best_k: 73.54942418541637 best_b -80.35034077886007, and the loss is : 131221.04082892937\n",
      "When time is : 65, get best_k: 73.44942418541638 best_b -80.45034077886007, and the loss is : 130691.68194258418\n",
      "When time is : 66, get best_k: 73.34942418541638 best_b -80.55034077886006, and the loss is : 130163.39422810652\n",
      "When time is : 67, get best_k: 73.24942418541639 best_b -80.65034077886006, and the loss is : 129636.17768549612\n",
      "When time is : 68, get best_k: 73.1494241854164 best_b -80.75034077886005, and the loss is : 129110.03231475332\n",
      "When time is : 69, get best_k: 73.0494241854164 best_b -80.85034077886004, and the loss is : 128584.95811587787\n",
      "When time is : 70, get best_k: 72.9494241854164 best_b -80.95034077886004, and the loss is : 128060.95508886997\n",
      "When time is : 71, get best_k: 72.84942418541641 best_b -81.05034077886003, and the loss is : 127538.02323372956\n",
      "When time is : 72, get best_k: 72.74942418541642 best_b -81.15034077886003, and the loss is : 127016.16255045668\n",
      "When time is : 73, get best_k: 72.64942418541642 best_b -81.25034077886002, and the loss is : 126495.37303905113\n",
      "When time is : 74, get best_k: 72.54942418541643 best_b -81.35034077886002, and the loss is : 125975.65469951315\n",
      "When time is : 75, get best_k: 72.44942418541643 best_b -81.45034077886001, and the loss is : 125457.0075318425\n",
      "When time is : 76, get best_k: 72.34942418541644 best_b -81.55034077886, and the loss is : 124939.43153603942\n",
      "When time is : 77, get best_k: 72.24942418541644 best_b -81.65034077886, and the loss is : 124422.92671210389\n",
      "When time is : 78, get best_k: 72.14942418541645 best_b -81.75034077886, and the loss is : 123907.49306003573\n",
      "When time is : 79, get best_k: 72.04942418541646 best_b -81.85034077885999, and the loss is : 123393.13057983504\n",
      "When time is : 80, get best_k: 71.94942418541646 best_b -81.95034077885998, and the loss is : 122879.83927150175\n",
      "When time is : 81, get best_k: 71.84942418541647 best_b -82.05034077885998, and the loss is : 122367.61913503609\n",
      "When time is : 82, get best_k: 71.74942418541647 best_b -82.15034077885997, and the loss is : 121856.47017043787\n",
      "When time is : 83, get best_k: 71.64942418541648 best_b -82.25034077885996, and the loss is : 121346.39237770699\n",
      "When time is : 84, get best_k: 71.54942418541648 best_b -82.35034077885996, and the loss is : 120837.38575684372\n",
      "When time is : 85, get best_k: 71.44942418541649 best_b -82.45034077885995, and the loss is : 120329.450307848\n",
      "When time is : 86, get best_k: 71.3494241854165 best_b -82.55034077885995, and the loss is : 119822.58603071963\n",
      "When time is : 87, get best_k: 71.2494241854165 best_b -82.65034077885994, and the loss is : 119316.7929254585\n",
      "When time is : 88, get best_k: 71.1494241854165 best_b -82.75034077885994, and the loss is : 118812.07099206498\n",
      "When time is : 89, get best_k: 71.04942418541651 best_b -82.85034077885993, and the loss is : 118308.42023053921\n",
      "When time is : 90, get best_k: 70.94942418541652 best_b -82.95034077885992, and the loss is : 117805.8406408805\n",
      "When time is : 91, get best_k: 70.84942418541652 best_b -83.05034077885992, and the loss is : 117304.33222308966\n",
      "When time is : 92, get best_k: 70.74942418541653 best_b -83.15034077885991, and the loss is : 116803.89497716614\n",
      "When time is : 93, get best_k: 70.64942418541654 best_b -83.25034077885991, and the loss is : 116304.52890310998\n",
      "When time is : 94, get best_k: 70.54942418541654 best_b -83.3503407788599, and the loss is : 115806.23400092134\n",
      "When time is : 95, get best_k: 70.44942418541655 best_b -83.4503407788599, and the loss is : 115309.01027060027\n",
      "When time is : 96, get best_k: 70.34942418541655 best_b -83.55034077885989, and the loss is : 114812.85771214668\n",
      "When time is : 97, get best_k: 70.24942418541656 best_b -83.65034077885988, and the loss is : 114317.77632556041\n",
      "When time is : 98, get best_k: 70.14942418541656 best_b -83.75034077885988, and the loss is : 113823.76611084159\n",
      "When time is : 99, get best_k: 70.04942418541657 best_b -83.85034077885987, and the loss is : 113330.82706799035\n",
      "When time is : 100, get best_k: 69.94942418541658 best_b -83.95034077885987, and the loss is : 112838.95919700648\n",
      "When time is : 101, get best_k: 69.84942418541658 best_b -84.05034077885986, and the loss is : 112348.1624978902\n",
      "When time is : 102, get best_k: 69.74942418541659 best_b -84.15034077885986, and the loss is : 111858.43697064141\n",
      "When time is : 103, get best_k: 69.64942418541659 best_b -84.25034077885985, and the loss is : 111369.78261525997\n",
      "When time is : 104, get best_k: 69.5494241854166 best_b -84.35034077885985, and the loss is : 110882.19943174612\n",
      "When time is : 105, get best_k: 69.4494241854166 best_b -84.45034077885984, and the loss is : 110395.68742009965\n",
      "When time is : 106, get best_k: 69.34942418541661 best_b -84.55034077885983, and the loss is : 109910.24658032066\n",
      "When time is : 107, get best_k: 69.24942418541661 best_b -84.65034077885983, and the loss is : 109425.87691240912\n",
      "When time is : 108, get best_k: 69.14942418541662 best_b -84.75034077885982, and the loss is : 108942.57841636518\n",
      "When time is : 109, get best_k: 69.04942418541663 best_b -84.85034077885982, and the loss is : 108460.35109218866\n",
      "When time is : 110, get best_k: 68.94942418541663 best_b -84.95034077885981, and the loss is : 107979.19493987944\n",
      "When time is : 111, get best_k: 68.84942418541664 best_b -85.0503407788598, and the loss is : 107499.1099594378\n",
      "When time is : 112, get best_k: 68.74942418541664 best_b -85.1503407788598, and the loss is : 107020.09615086365\n",
      "When time is : 113, get best_k: 68.64942418541665 best_b -85.2503407788598, and the loss is : 106542.15351415706\n",
      "When time is : 114, get best_k: 68.54942418541665 best_b -85.35034077885979, and the loss is : 106065.28204931787\n",
      "When time is : 115, get best_k: 68.44942418541666 best_b -85.45034077885978, and the loss is : 105589.48175634614\n",
      "When time is : 116, get best_k: 68.34942418541667 best_b -85.55034077885978, and the loss is : 105114.75263524173\n",
      "When time is : 117, get best_k: 68.24942418541667 best_b -85.65034077885977, and the loss is : 104641.094686005\n",
      "When time is : 118, get best_k: 68.14942418541668 best_b -85.75034077885977, and the loss is : 104168.50790863583\n",
      "When time is : 119, get best_k: 68.04942418541668 best_b -85.85034077885976, and the loss is : 103696.99230313388\n",
      "When time is : 120, get best_k: 67.94942418541669 best_b -85.95034077885975, and the loss is : 103226.5478694994\n",
      "When time is : 121, get best_k: 67.8494241854167 best_b -86.05034077885975, and the loss is : 102757.17460773244\n",
      "When time is : 122, get best_k: 67.7494241854167 best_b -86.15034077885974, and the loss is : 102288.87251783296\n",
      "When time is : 123, get best_k: 67.6494241854167 best_b -86.25034077885974, and the loss is : 101821.64159980108\n",
      "When time is : 124, get best_k: 67.54942418541671 best_b -86.35034077885973, and the loss is : 101355.48185363653\n",
      "When time is : 125, get best_k: 67.44942418541672 best_b -86.45034077885973, and the loss is : 100890.39327933958\n",
      "When time is : 126, get best_k: 67.34942418541672 best_b -86.55034077885972, and the loss is : 100426.3758769099\n",
      "When time is : 127, get best_k: 67.24942418541673 best_b -86.65034077885971, and the loss is : 99963.42964634784\n",
      "When time is : 128, get best_k: 67.14942418541673 best_b -86.75034077885971, and the loss is : 99501.5545876532\n",
      "When time is : 129, get best_k: 67.04942418541674 best_b -86.8503407788597, and the loss is : 99040.75070082617\n",
      "When time is : 130, get best_k: 66.94942418541675 best_b -86.9503407788597, and the loss is : 98581.01798586638\n",
      "When time is : 131, get best_k: 66.84942418541675 best_b -87.05034077885969, and the loss is : 98122.35644277417\n",
      "When time is : 132, get best_k: 66.74942418541676 best_b -87.15034077885969, and the loss is : 97664.7660715494\n",
      "When time is : 133, get best_k: 66.64942418541676 best_b -87.25034077885968, and the loss is : 97208.24687219207\n",
      "When time is : 134, get best_k: 66.54942418541677 best_b -87.35034077885967, and the loss is : 96752.79884470237\n",
      "When time is : 135, get best_k: 66.44942418541677 best_b -87.45034077885967, and the loss is : 96298.42198907997\n",
      "When time is : 136, get best_k: 66.34942418541678 best_b -87.55034077885966, and the loss is : 95845.11630532517\n",
      "When time is : 137, get best_k: 66.24942418541679 best_b -87.65034077885966, and the loss is : 95392.88179343776\n",
      "When time is : 138, get best_k: 66.14942418541679 best_b -87.75034077885965, and the loss is : 94941.71845341766\n",
      "When time is : 139, get best_k: 66.0494241854168 best_b -87.85034077885965, and the loss is : 94491.62628526527\n",
      "When time is : 140, get best_k: 65.9494241854168 best_b -87.95034077885964, and the loss is : 94042.60528898037\n",
      "When time is : 141, get best_k: 65.84942418541681 best_b -88.05034077885963, and the loss is : 93594.65546456282\n",
      "When time is : 142, get best_k: 65.74942418541681 best_b -88.15034077885963, and the loss is : 93147.77681201285\n",
      "When time is : 143, get best_k: 65.64942418541682 best_b -88.25034077885962, and the loss is : 92701.96933133027\n",
      "When time is : 144, get best_k: 65.54942418541683 best_b -88.35034077885962, and the loss is : 92257.23302251502\n",
      "When time is : 145, get best_k: 65.44942418541683 best_b -88.45034077885961, and the loss is : 91813.56788556757\n",
      "When time is : 146, get best_k: 65.34942418541684 best_b -88.5503407788596, and the loss is : 91370.97392048732\n",
      "When time is : 147, get best_k: 65.24942418541684 best_b -88.6503407788596, and the loss is : 90929.45112727467\n",
      "When time is : 148, get best_k: 65.14942418541685 best_b -88.7503407788596, and the loss is : 90488.99950592946\n",
      "When time is : 149, get best_k: 65.04942418541685 best_b -88.85034077885959, and the loss is : 90049.61905645169\n",
      "When time is : 150, get best_k: 64.94942418541686 best_b -88.95034077885958, and the loss is : 89611.3097788413\n",
      "When time is : 151, get best_k: 64.84942418541686 best_b -89.05034077885958, and the loss is : 89174.07167309863\n",
      "When time is : 152, get best_k: 64.74942418541687 best_b -89.15034077885957, and the loss is : 88737.90473922316\n",
      "When time is : 153, get best_k: 64.64942418541688 best_b -89.25034077885957, and the loss is : 88302.80897721527\n",
      "When time is : 154, get best_k: 64.54942418541688 best_b -89.35034077885956, and the loss is : 87868.7843870749\n",
      "When time is : 155, get best_k: 64.44942418541689 best_b -89.45034077885956, and the loss is : 87435.83096880213\n",
      "When time is : 156, get best_k: 64.3494241854169 best_b -89.55034077885955, and the loss is : 87003.94872239653\n",
      "When time is : 157, get best_k: 64.2494241854169 best_b -89.65034077885954, and the loss is : 86573.1376478586\n",
      "When time is : 158, get best_k: 64.1494241854169 best_b -89.75034077885954, and the loss is : 86143.39774518808\n",
      "When time is : 159, get best_k: 64.04942418541691 best_b -89.85034077885953, and the loss is : 85714.72901438501\n",
      "When time is : 160, get best_k: 63.94942418541691 best_b -89.95034077885953, and the loss is : 85287.13145544943\n",
      "When time is : 161, get best_k: 63.84942418541691 best_b -90.05034077885952, and the loss is : 84860.60506838128\n",
      "When time is : 162, get best_k: 63.749424185416906 best_b -90.15034077885952, and the loss is : 84435.14985318057\n",
      "When time is : 163, get best_k: 63.649424185416905 best_b -90.25034077885951, and the loss is : 84010.76580984736\n",
      "When time is : 164, get best_k: 63.5494241854169 best_b -90.3503407788595, and the loss is : 83587.45293838164\n",
      "When time is : 165, get best_k: 63.4494241854169 best_b -90.4503407788595, and the loss is : 83165.21123878332\n",
      "When time is : 166, get best_k: 63.3494241854169 best_b -90.55034077885949, and the loss is : 82744.04071105263\n",
      "When time is : 167, get best_k: 63.2494241854169 best_b -90.65034077885949, and the loss is : 82323.9413551893\n",
      "When time is : 168, get best_k: 63.1494241854169 best_b -90.75034077885948, and the loss is : 81904.91317119346\n",
      "When time is : 169, get best_k: 63.049424185416896 best_b -90.85034077885948, and the loss is : 81486.95615906503\n",
      "When time is : 170, get best_k: 62.949424185416895 best_b -90.95034077885947, and the loss is : 81070.07031880421\n",
      "When time is : 171, get best_k: 62.84942418541689 best_b -91.05034077885946, and the loss is : 80654.25565041068\n",
      "When time is : 172, get best_k: 62.74942418541689 best_b -91.15034077885946, and the loss is : 80239.5121538847\n",
      "When time is : 173, get best_k: 62.64942418541689 best_b -91.25034077885945, and the loss is : 79825.83982922637\n",
      "When time is : 174, get best_k: 62.54942418541689 best_b -91.35034077885945, and the loss is : 79413.2386764352\n",
      "When time is : 175, get best_k: 62.44942418541689 best_b -91.45034077885944, and the loss is : 79001.7086955117\n",
      "When time is : 176, get best_k: 62.349424185416886 best_b -91.55034077885944, and the loss is : 78591.24988645561\n",
      "When time is : 177, get best_k: 62.249424185416885 best_b -91.65034077885943, and the loss is : 78181.86224926695\n",
      "When time is : 178, get best_k: 62.14942418541688 best_b -91.75034077885942, and the loss is : 77773.54578394588\n",
      "When time is : 179, get best_k: 62.04942418541688 best_b -91.85034077885942, and the loss is : 77366.30049049221\n",
      "When time is : 180, get best_k: 61.94942418541688 best_b -91.95034077885941, and the loss is : 76960.12636890606\n",
      "When time is : 181, get best_k: 61.84942418541688 best_b -92.05034077885941, and the loss is : 76555.02341918736\n",
      "When time is : 182, get best_k: 61.74942418541688 best_b -92.1503407788594, and the loss is : 76150.99164133605\n",
      "When time is : 183, get best_k: 61.649424185416876 best_b -92.2503407788594, and the loss is : 75748.03103535227\n",
      "When time is : 184, get best_k: 61.549424185416875 best_b -92.35034077885939, and the loss is : 75346.14160123585\n",
      "When time is : 185, get best_k: 61.44942418541687 best_b -92.45034077885938, and the loss is : 74945.32333898701\n",
      "When time is : 186, get best_k: 61.34942418541687 best_b -92.55034077885938, and the loss is : 74545.57624860575\n",
      "When time is : 187, get best_k: 61.24942418541687 best_b -92.65034077885937, and the loss is : 74146.90033009174\n",
      "When time is : 188, get best_k: 61.14942418541687 best_b -92.75034077885937, and the loss is : 73749.29558344523\n",
      "When time is : 189, get best_k: 61.04942418541687 best_b -92.85034077885936, and the loss is : 73352.76200866647\n",
      "When time is : 190, get best_k: 60.949424185416866 best_b -92.95034077885936, and the loss is : 72957.29960575492\n",
      "When time is : 191, get best_k: 60.849424185416865 best_b -93.05034077885935, and the loss is : 72562.90837471097\n",
      "When time is : 192, get best_k: 60.74942418541686 best_b -93.15034077885934, and the loss is : 72169.58831553433\n",
      "When time is : 193, get best_k: 60.64942418541686 best_b -93.25034077885934, and the loss is : 71777.33942822514\n",
      "When time is : 194, get best_k: 60.54942418541686 best_b -93.35034077885933, and the loss is : 71386.1617127836\n",
      "When time is : 195, get best_k: 60.44942418541686 best_b -93.45034077885933, and the loss is : 70996.0551692095\n",
      "When time is : 196, get best_k: 60.34942418541686 best_b -93.55034077885932, and the loss is : 70607.01979750278\n",
      "When time is : 197, get best_k: 60.249424185416856 best_b -93.65034077885932, and the loss is : 70219.05559766354\n",
      "When time is : 198, get best_k: 60.149424185416855 best_b -93.75034077885931, and the loss is : 69832.16256969189\n",
      "When time is : 199, get best_k: 60.049424185416854 best_b -93.8503407788593, and the loss is : 69446.34071358753\n",
      "When time is : 200, get best_k: 59.94942418541685 best_b -93.9503407788593, and the loss is : 69061.59002935077\n",
      "When time is : 201, get best_k: 59.84942418541685 best_b -94.0503407788593, and the loss is : 68677.91051698138\n",
      "When time is : 202, get best_k: 59.74942418541685 best_b -94.15034077885929, and the loss is : 68295.30217647961\n",
      "When time is : 203, get best_k: 59.64942418541685 best_b -94.25034077885928, and the loss is : 67913.76500784521\n",
      "When time is : 204, get best_k: 59.54942418541685 best_b -94.35034077885928, and the loss is : 67533.29901107831\n",
      "When time is : 205, get best_k: 59.449424185416845 best_b -94.45034077885927, and the loss is : 67153.9041861789\n",
      "When time is : 206, get best_k: 59.349424185416844 best_b -94.55034077885927, and the loss is : 66775.58053314692\n",
      "When time is : 207, get best_k: 59.24942418541684 best_b -94.65034077885926, and the loss is : 66398.32805198243\n",
      "When time is : 208, get best_k: 59.14942418541684 best_b -94.75034077885925, and the loss is : 66022.1467426854\n",
      "When time is : 209, get best_k: 59.04942418541684 best_b -94.85034077885925, and the loss is : 65647.03660525585\n",
      "When time is : 210, get best_k: 58.94942418541684 best_b -94.95034077885924, and the loss is : 65272.997639693815\n",
      "When time is : 211, get best_k: 58.84942418541684 best_b -95.05034077885924, and the loss is : 64900.029845999175\n",
      "When time is : 212, get best_k: 58.749424185416835 best_b -95.15034077885923, and the loss is : 64528.13322417197\n",
      "When time is : 213, get best_k: 58.649424185416834 best_b -95.25034077885923, and the loss is : 64157.30777421231\n",
      "When time is : 214, get best_k: 58.54942418541683 best_b -95.35034077885922, and the loss is : 63787.553496120054\n",
      "When time is : 215, get best_k: 58.44942418541683 best_b -95.45034077885921, and the loss is : 63418.87038989541\n",
      "When time is : 216, get best_k: 58.34942418541683 best_b -95.55034077885921, and the loss is : 63051.25845553809\n",
      "When time is : 217, get best_k: 58.24942418541683 best_b -95.6503407788592, and the loss is : 62684.71769304827\n",
      "When time is : 218, get best_k: 58.14942418541683 best_b -95.7503407788592, and the loss is : 62319.24810242601\n",
      "When time is : 219, get best_k: 58.049424185416825 best_b -95.85034077885919, and the loss is : 61954.84968367113\n",
      "When time is : 220, get best_k: 57.949424185416824 best_b -95.95034077885919, and the loss is : 61591.52243678369\n",
      "When time is : 221, get best_k: 57.84942418541682 best_b -96.05034077885918, and the loss is : 61229.26636176375\n",
      "When time is : 222, get best_k: 57.74942418541682 best_b -96.15034077885917, and the loss is : 60868.081458611305\n",
      "When time is : 223, get best_k: 57.64942418541682 best_b -96.25034077885917, and the loss is : 60507.96772732635\n",
      "When time is : 224, get best_k: 57.54942418541682 best_b -96.35034077885916, and the loss is : 60148.925167908914\n",
      "When time is : 225, get best_k: 57.44942418541682 best_b -96.45034077885916, and the loss is : 59790.95378035886\n",
      "When time is : 226, get best_k: 57.349424185416815 best_b -96.55034077885915, and the loss is : 59434.0535646763\n",
      "When time is : 227, get best_k: 57.249424185416814 best_b -96.65034077885915, and the loss is : 59078.22452086128\n",
      "When time is : 228, get best_k: 57.14942418541681 best_b -96.75034077885914, and the loss is : 58723.46664891355\n",
      "When time is : 229, get best_k: 57.04942418541681 best_b -96.85034077885913, and the loss is : 58369.77994883346\n",
      "When time is : 230, get best_k: 56.94942418541681 best_b -96.95034077885913, and the loss is : 58017.16442062075\n",
      "When time is : 231, get best_k: 56.84942418541681 best_b -97.05034077885912, and the loss is : 57665.62006427554\n",
      "When time is : 232, get best_k: 56.74942418541681 best_b -97.15034077885912, and the loss is : 57315.14687979783\n",
      "When time is : 233, get best_k: 56.649424185416805 best_b -97.25034077885911, and the loss is : 56965.74486718752\n",
      "When time is : 234, get best_k: 56.549424185416804 best_b -97.3503407788591, and the loss is : 56617.41402644474\n",
      "When time is : 235, get best_k: 56.4494241854168 best_b -97.4503407788591, and the loss is : 56270.154357569365\n",
      "When time is : 236, get best_k: 56.3494241854168 best_b -97.5503407788591, and the loss is : 55923.965860561504\n",
      "When time is : 237, get best_k: 56.2494241854168 best_b -97.65034077885909, and the loss is : 55578.84853542108\n",
      "When time is : 238, get best_k: 56.1494241854168 best_b -97.75034077885908, and the loss is : 55234.802382148235\n",
      "When time is : 239, get best_k: 56.0494241854168 best_b -97.85034077885908, and the loss is : 54891.8274007428\n",
      "When time is : 240, get best_k: 55.949424185416795 best_b -97.95034077885907, and the loss is : 54549.923591204766\n",
      "When time is : 241, get best_k: 55.849424185416794 best_b -98.05034077885907, and the loss is : 54209.09095353423\n",
      "When time is : 242, get best_k: 55.74942418541679 best_b -98.15034077885906, and the loss is : 53869.329487731346\n",
      "When time is : 243, get best_k: 55.64942418541679 best_b -98.25034077885906, and the loss is : 53530.63919379569\n",
      "When time is : 244, get best_k: 55.54942418541679 best_b -98.35034077885905, and the loss is : 53193.02007172755\n",
      "When time is : 245, get best_k: 55.44942418541679 best_b -98.45034077885904, and the loss is : 52856.472121526946\n",
      "When time is : 246, get best_k: 55.34942418541679 best_b -98.55034077885904, and the loss is : 52520.995343193805\n",
      "When time is : 247, get best_k: 55.249424185416785 best_b -98.65034077885903, and the loss is : 52186.589736728056\n",
      "When time is : 248, get best_k: 55.149424185416784 best_b -98.75034077885903, and the loss is : 51853.2553021299\n",
      "When time is : 249, get best_k: 55.04942418541678 best_b -98.85034077885902, and the loss is : 51520.992039399156\n",
      "When time is : 250, get best_k: 54.94942418541678 best_b -98.95034077885902, and the loss is : 51189.79994853587\n",
      "When time is : 251, get best_k: 54.84942418541678 best_b -99.05034077885901, and the loss is : 50859.67902954004\n",
      "When time is : 252, get best_k: 54.74942418541678 best_b -99.150340778859, and the loss is : 50530.629282411755\n",
      "When time is : 253, get best_k: 54.64942418541678 best_b -99.250340778859, and the loss is : 50202.650707150846\n",
      "When time is : 254, get best_k: 54.549424185416775 best_b -99.35034077885899, and the loss is : 49875.74330375753\n",
      "When time is : 255, get best_k: 54.449424185416774 best_b -99.45034077885899, and the loss is : 49549.90707223158\n",
      "When time is : 256, get best_k: 54.34942418541677 best_b -99.55034077885898, and the loss is : 49225.142012573146\n",
      "When time is : 257, get best_k: 54.24942418541677 best_b -99.65034077885898, and the loss is : 48901.44812478212\n",
      "When time is : 258, get best_k: 54.14942418541677 best_b -99.75034077885897, and the loss is : 48578.825408858596\n",
      "When time is : 259, get best_k: 54.04942418541677 best_b -99.85034077885896, and the loss is : 48257.273864802606\n",
      "When time is : 260, get best_k: 53.94942418541677 best_b -99.95034077885896, and the loss is : 47936.79349261403\n",
      "When time is : 261, get best_k: 53.849424185416765 best_b -100.05034077885895, and the loss is : 47617.384292292925\n",
      "When time is : 262, get best_k: 53.749424185416764 best_b -100.15034077885895, and the loss is : 47299.046263839286\n",
      "When time is : 263, get best_k: 53.64942418541676 best_b -100.25034077885894, and the loss is : 46981.77940725317\n",
      "When time is : 264, get best_k: 53.54942418541676 best_b -100.35034077885894, and the loss is : 46665.58372253444\n",
      "When time is : 265, get best_k: 53.44942418541676 best_b -100.45034077885893, and the loss is : 46350.45920968317\n",
      "When time is : 266, get best_k: 53.34942418541676 best_b -100.55034077885892, and the loss is : 46036.40586869947\n",
      "When time is : 267, get best_k: 53.24942418541676 best_b -100.65034077885892, and the loss is : 45723.42369958322\n",
      "When time is : 268, get best_k: 53.149424185416756 best_b -100.75034077885891, and the loss is : 45411.51270233437\n",
      "When time is : 269, get best_k: 53.049424185416754 best_b -100.85034077885891, and the loss is : 45100.672876952995\n",
      "When time is : 270, get best_k: 52.94942418541675 best_b -100.9503407788589, and the loss is : 44790.904223439225\n",
      "When time is : 271, get best_k: 52.84942418541675 best_b -101.0503407788589, and the loss is : 44482.20674179271\n",
      "When time is : 272, get best_k: 52.74942418541675 best_b -101.15034077885889, and the loss is : 44174.580432013885\n",
      "When time is : 273, get best_k: 52.64942418541675 best_b -101.25034077885888, and the loss is : 43868.02529410237\n",
      "When time is : 274, get best_k: 52.54942418541675 best_b -101.35034077885888, and the loss is : 43562.541328058396\n",
      "When time is : 275, get best_k: 52.449424185416746 best_b -101.45034077885887, and the loss is : 43258.12853388191\n",
      "When time is : 276, get best_k: 52.349424185416744 best_b -101.55034077885887, and the loss is : 42954.78691157282\n",
      "When time is : 277, get best_k: 52.24942418541674 best_b -101.65034077885886, and the loss is : 42652.5164611313\n",
      "When time is : 278, get best_k: 52.14942418541674 best_b -101.75034077885886, and the loss is : 42351.31718255717\n",
      "When time is : 279, get best_k: 52.04942418541674 best_b -101.85034077885885, and the loss is : 42051.18907585053\n",
      "When time is : 280, get best_k: 51.94942418541674 best_b -101.95034077885884, and the loss is : 41752.132141011396\n",
      "When time is : 281, get best_k: 51.84942418541674 best_b -102.05034077885884, and the loss is : 41454.14637803971\n",
      "When time is : 282, get best_k: 51.749424185416736 best_b -102.15034077885883, and the loss is : 41157.23178693547\n",
      "When time is : 283, get best_k: 51.649424185416734 best_b -102.25034077885883, and the loss is : 40861.388367698666\n",
      "When time is : 284, get best_k: 51.54942418541673 best_b -102.35034077885882, and the loss is : 40566.616120329396\n",
      "When time is : 285, get best_k: 51.44942418541673 best_b -102.45034077885882, and the loss is : 40272.91504482765\n",
      "When time is : 286, get best_k: 51.34942418541673 best_b -102.55034077885881, and the loss is : 39980.28514119326\n",
      "When time is : 287, get best_k: 51.24942418541673 best_b -102.6503407788588, and the loss is : 39688.72640942645\n",
      "When time is : 288, get best_k: 51.14942418541673 best_b -102.7503407788588, and the loss is : 39398.238849527\n",
      "When time is : 289, get best_k: 51.049424185416726 best_b -102.8503407788588, and the loss is : 39108.822461495074\n",
      "When time is : 290, get best_k: 50.949424185416724 best_b -102.95034077885879, and the loss is : 38820.477245330636\n",
      "When time is : 291, get best_k: 50.84942418541672 best_b -103.05034077885878, and the loss is : 38533.20320103361\n",
      "When time is : 292, get best_k: 50.74942418541672 best_b -103.15034077885878, and the loss is : 38247.00032860412\n",
      "When time is : 293, get best_k: 50.64942418541672 best_b -103.25034077885877, and the loss is : 37961.86862804206\n",
      "When time is : 294, get best_k: 50.54942418541672 best_b -103.35034077885877, and the loss is : 37677.80809934746\n",
      "When time is : 295, get best_k: 50.44942418541672 best_b -103.45034077885876, and the loss is : 37394.81874252035\n",
      "When time is : 296, get best_k: 50.349424185416716 best_b -103.55034077885875, and the loss is : 37112.90055756069\n",
      "When time is : 297, get best_k: 50.249424185416714 best_b -103.65034077885875, and the loss is : 36832.05354446855\n",
      "When time is : 298, get best_k: 50.14942418541671 best_b -103.75034077885874, and the loss is : 36552.27770324385\n",
      "When time is : 299, get best_k: 50.04942418541671 best_b -103.85034077885874, and the loss is : 36273.57303388664\n",
      "When time is : 300, get best_k: 49.94942418541671 best_b -103.95034077885873, and the loss is : 35995.93953639691\n",
      "When time is : 301, get best_k: 49.84942418541671 best_b -104.05034077885873, and the loss is : 35719.37721077458\n",
      "When time is : 302, get best_k: 49.74942418541671 best_b -104.15034077885872, and the loss is : 35443.88605701983\n",
      "When time is : 303, get best_k: 49.649424185416706 best_b -104.25034077885871, and the loss is : 35169.46607513245\n",
      "When time is : 304, get best_k: 49.549424185416704 best_b -104.35034077885871, and the loss is : 34896.1172651126\n",
      "When time is : 305, get best_k: 49.4494241854167 best_b -104.4503407788587, and the loss is : 34623.83962696019\n",
      "When time is : 306, get best_k: 49.3494241854167 best_b -104.5503407788587, and the loss is : 34352.6331606752\n",
      "When time is : 307, get best_k: 49.2494241854167 best_b -104.65034077885869, and the loss is : 34082.4978662578\n",
      "When time is : 308, get best_k: 49.1494241854167 best_b -104.75034077885869, and the loss is : 33813.433743707785\n",
      "When time is : 309, get best_k: 49.0494241854167 best_b -104.85034077885868, and the loss is : 33545.44079302526\n",
      "When time is : 310, get best_k: 48.949424185416696 best_b -104.95034077885867, and the loss is : 33278.51901421021\n",
      "When time is : 311, get best_k: 48.849424185416694 best_b -105.05034077885867, and the loss is : 33012.668407262616\n",
      "When time is : 312, get best_k: 48.74942418541669 best_b -105.15034077885866, and the loss is : 32747.888972182518\n",
      "When time is : 313, get best_k: 48.64942418541669 best_b -105.25034077885866, and the loss is : 32484.18070896987\n",
      "When time is : 314, get best_k: 48.54942418541669 best_b -105.35034077885865, and the loss is : 32221.54361762469\n",
      "When time is : 315, get best_k: 48.44942418541669 best_b -105.45034077885865, and the loss is : 31959.977698147006\n",
      "When time is : 316, get best_k: 48.34942418541669 best_b -105.55034077885864, and the loss is : 31699.482950536767\n",
      "When time is : 317, get best_k: 48.249424185416686 best_b -105.65034077885863, and the loss is : 31440.059374793997\n",
      "When time is : 318, get best_k: 48.149424185416684 best_b -105.75034077885863, and the loss is : 31181.70697091871\n",
      "When time is : 319, get best_k: 48.04942418541668 best_b -105.85034077885862, and the loss is : 30924.425738910883\n",
      "When time is : 320, get best_k: 47.94942418541668 best_b -105.95034077885862, and the loss is : 30668.21567877055\n",
      "When time is : 321, get best_k: 47.84942418541668 best_b -106.05034077885861, and the loss is : 30413.076790497642\n",
      "When time is : 322, get best_k: 47.74942418541668 best_b -106.1503407788586, and the loss is : 30159.009074092264\n",
      "When time is : 323, get best_k: 47.64942418541668 best_b -106.2503407788586, and the loss is : 29906.012529554337\n",
      "When time is : 324, get best_k: 47.549424185416676 best_b -106.3503407788586, and the loss is : 29654.08715688385\n",
      "When time is : 325, get best_k: 47.449424185416675 best_b -106.45034077885859, and the loss is : 29403.23295608084\n",
      "When time is : 326, get best_k: 47.34942418541667 best_b -106.55034077885858, and the loss is : 29153.44992714532\n",
      "When time is : 327, get best_k: 47.24942418541667 best_b -106.65034077885858, and the loss is : 28904.738070077252\n",
      "When time is : 328, get best_k: 47.14942418541667 best_b -106.75034077885857, and the loss is : 28657.09738487666\n",
      "When time is : 329, get best_k: 47.04942418541667 best_b -106.85034077885857, and the loss is : 28410.52787154359\n",
      "When time is : 330, get best_k: 46.94942418541667 best_b -106.95034077885856, and the loss is : 28165.029530077936\n",
      "When time is : 331, get best_k: 46.849424185416666 best_b -107.05034077885855, and the loss is : 27920.602360479726\n",
      "When time is : 332, get best_k: 46.749424185416665 best_b -107.15034077885855, and the loss is : 27677.246362749054\n",
      "When time is : 333, get best_k: 46.64942418541666 best_b -107.25034077885854, and the loss is : 27434.961536885807\n",
      "When time is : 334, get best_k: 46.54942418541666 best_b -107.35034077885854, and the loss is : 27193.747882890046\n",
      "When time is : 335, get best_k: 46.44942418541666 best_b -107.45034077885853, and the loss is : 26953.605400761753\n",
      "When time is : 336, get best_k: 46.34942418541666 best_b -107.55034077885853, and the loss is : 26714.534090500958\n",
      "When time is : 337, get best_k: 46.24942418541666 best_b -107.65034077885852, and the loss is : 26476.533952107595\n",
      "When time is : 338, get best_k: 46.149424185416656 best_b -107.75034077885852, and the loss is : 26239.604985581704\n",
      "When time is : 339, get best_k: 46.049424185416655 best_b -107.85034077885851, and the loss is : 26003.74719092325\n",
      "When time is : 340, get best_k: 45.94942418541665 best_b -107.9503407788585, and the loss is : 25768.96056813236\n",
      "When time is : 341, get best_k: 45.84942418541665 best_b -108.0503407788585, and the loss is : 25535.245117208848\n",
      "When time is : 342, get best_k: 45.74942418541665 best_b -108.15034077885849, and the loss is : 25302.600838152877\n",
      "When time is : 343, get best_k: 45.64942418541665 best_b -108.25034077885849, and the loss is : 25071.02773096436\n",
      "When time is : 344, get best_k: 45.54942418541665 best_b -108.35034077885848, and the loss is : 24840.525795643265\n",
      "When time is : 345, get best_k: 45.449424185416646 best_b -108.45034077885848, and the loss is : 24611.09503218971\n",
      "When time is : 346, get best_k: 45.349424185416645 best_b -108.55034077885847, and the loss is : 24382.735440603592\n",
      "When time is : 347, get best_k: 45.24942418541664 best_b -108.65034077885846, and the loss is : 24155.447020884956\n",
      "When time is : 348, get best_k: 45.14942418541664 best_b -108.75034077885846, and the loss is : 23929.229773033745\n",
      "When time is : 349, get best_k: 45.04942418541664 best_b -108.85034077885845, and the loss is : 23704.083697050057\n",
      "When time is : 350, get best_k: 44.94942418541664 best_b -108.95034077885845, and the loss is : 23480.008792933786\n",
      "When time is : 351, get best_k: 44.84942418541664 best_b -109.05034077885844, and the loss is : 23257.005060685064\n",
      "When time is : 352, get best_k: 44.749424185416636 best_b -109.15034077885844, and the loss is : 23035.072500303722\n",
      "When time is : 353, get best_k: 44.649424185416635 best_b -109.25034077885843, and the loss is : 22814.211111789922\n",
      "When time is : 354, get best_k: 44.54942418541663 best_b -109.35034077885842, and the loss is : 22594.420895143554\n",
      "When time is : 355, get best_k: 44.44942418541663 best_b -109.45034077885842, and the loss is : 22375.701850364672\n",
      "When time is : 356, get best_k: 44.34942418541663 best_b -109.55034077885841, and the loss is : 22158.053977453266\n",
      "When time is : 357, get best_k: 44.24942418541663 best_b -109.6503407788584, and the loss is : 21941.47727640933\n",
      "When time is : 358, get best_k: 44.14942418541663 best_b -109.7503407788584, and the loss is : 21725.971747232834\n",
      "When time is : 359, get best_k: 44.049424185416626 best_b -109.8503407788584, and the loss is : 21511.537389923837\n",
      "When time is : 360, get best_k: 43.949424185416625 best_b -109.95034077885839, and the loss is : 21298.174204482286\n",
      "When time is : 361, get best_k: 43.84942418541662 best_b -110.05034077885838, and the loss is : 21085.882190908244\n",
      "When time is : 362, get best_k: 43.74942418541662 best_b -110.15034077885838, and the loss is : 20874.66134920164\n",
      "When time is : 363, get best_k: 43.64942418541662 best_b -110.25034077885837, and the loss is : 20664.511679362524\n",
      "When time is : 364, get best_k: 43.54942418541662 best_b -110.35034077885837, and the loss is : 20455.433181390857\n",
      "When time is : 365, get best_k: 43.44942418541662 best_b -110.45034077885836, and the loss is : 20247.42585528668\n",
      "When time is : 366, get best_k: 43.349424185416616 best_b -110.55034077885836, and the loss is : 20040.48970104999\n",
      "When time is : 367, get best_k: 43.249424185416615 best_b -110.65034077885835, and the loss is : 19834.624718680734\n",
      "When time is : 368, get best_k: 43.14942418541661 best_b -110.75034077885834, and the loss is : 19629.830908178952\n",
      "When time is : 369, get best_k: 43.04942418541661 best_b -110.85034077885834, and the loss is : 19426.108269544653\n",
      "When time is : 370, get best_k: 42.94942418541661 best_b -110.95034077885833, and the loss is : 19223.45680277782\n",
      "When time is : 371, get best_k: 42.84942418541661 best_b -111.05034077885833, and the loss is : 19021.876507878485\n",
      "When time is : 372, get best_k: 42.74942418541661 best_b -111.15034077885832, and the loss is : 18821.36738484657\n",
      "When time is : 373, get best_k: 42.649424185416606 best_b -111.25034077885832, and the loss is : 18621.929433682137\n",
      "When time is : 374, get best_k: 42.549424185416605 best_b -111.35034077885831, and the loss is : 18423.562654385212\n",
      "When time is : 375, get best_k: 42.4494241854166 best_b -111.4503407788583, and the loss is : 18226.267046955727\n",
      "When time is : 376, get best_k: 42.3494241854166 best_b -111.5503407788583, and the loss is : 18030.042611393717\n",
      "When time is : 377, get best_k: 42.2494241854166 best_b -111.6503407788583, and the loss is : 17834.8893476992\n",
      "When time is : 378, get best_k: 42.1494241854166 best_b -111.75034077885829, and the loss is : 17640.807255872103\n",
      "When time is : 379, get best_k: 42.0494241854166 best_b -111.85034077885828, and the loss is : 17447.796335912528\n",
      "When time is : 380, get best_k: 41.949424185416596 best_b -111.95034077885828, and the loss is : 17255.856587820377\n",
      "When time is : 381, get best_k: 41.849424185416595 best_b -112.05034077885827, and the loss is : 17064.98801159574\n",
      "When time is : 382, get best_k: 41.74942418541659 best_b -112.15034077885826, and the loss is : 16875.190607238557\n",
      "When time is : 383, get best_k: 41.64942418541659 best_b -112.25034077885826, and the loss is : 16686.464374748844\n",
      "When time is : 384, get best_k: 41.54942418541659 best_b -112.35034077885825, and the loss is : 16498.809314126574\n",
      "When time is : 385, get best_k: 41.44942418541659 best_b -112.45034077885825, and the loss is : 16312.225425371818\n",
      "When time is : 386, get best_k: 41.34942418541659 best_b -112.55034077885824, and the loss is : 16126.7127084845\n",
      "When time is : 387, get best_k: 41.249424185416586 best_b -112.65034077885824, and the loss is : 15942.271163464697\n",
      "When time is : 388, get best_k: 41.149424185416585 best_b -112.75034077885823, and the loss is : 15758.90079031231\n",
      "When time is : 389, get best_k: 41.049424185416584 best_b -112.85034077885823, and the loss is : 15576.601589027418\n",
      "When time is : 390, get best_k: 40.94942418541658 best_b -112.95034077885822, and the loss is : 15395.373559610005\n",
      "When time is : 391, get best_k: 40.84942418541658 best_b -113.05034077885821, and the loss is : 15215.216702060055\n",
      "When time is : 392, get best_k: 40.74942418541658 best_b -113.15034077885821, and the loss is : 15036.131016377558\n",
      "When time is : 393, get best_k: 40.64942418541658 best_b -113.2503407788582, and the loss is : 14858.11650256255\n",
      "When time is : 394, get best_k: 40.54942418541658 best_b -113.3503407788582, and the loss is : 14681.173160615013\n",
      "When time is : 395, get best_k: 40.449424185416575 best_b -113.45034077885819, and the loss is : 14505.30099053495\n",
      "When time is : 396, get best_k: 40.349424185416574 best_b -113.55034077885819, and the loss is : 14330.499992322339\n",
      "When time is : 397, get best_k: 40.24942418541657 best_b -113.65034077885818, and the loss is : 14156.770165977196\n",
      "When time is : 398, get best_k: 40.14942418541657 best_b -113.75034077885817, and the loss is : 13984.11151149955\n",
      "When time is : 399, get best_k: 40.04942418541657 best_b -113.85034077885817, and the loss is : 13812.524028889364\n",
      "When time is : 400, get best_k: 39.94942418541657 best_b -113.95034077885816, and the loss is : 13642.00771814665\n",
      "When time is : 401, get best_k: 39.84942418541657 best_b -114.05034077885816, and the loss is : 13472.562579271387\n",
      "When time is : 402, get best_k: 39.749424185416565 best_b -114.15034077885815, and the loss is : 13304.188612263608\n",
      "When time is : 403, get best_k: 39.649424185416564 best_b -114.25034077885815, and the loss is : 13136.885817123284\n",
      "When time is : 404, get best_k: 39.54942418541656 best_b -114.35034077885814, and the loss is : 12970.654193850469\n",
      "When time is : 405, get best_k: 39.44942418541656 best_b -114.45034077885813, and the loss is : 12805.493742445105\n",
      "When time is : 406, get best_k: 39.34942418541656 best_b -114.55034077885813, and the loss is : 12641.404462907201\n",
      "When time is : 407, get best_k: 39.24942418541656 best_b -114.65034077885812, and the loss is : 12478.386355236758\n",
      "When time is : 408, get best_k: 39.14942418541656 best_b -114.75034077885812, and the loss is : 12316.439419433827\n",
      "When time is : 409, get best_k: 39.049424185416555 best_b -114.85034077885811, and the loss is : 12155.563655498328\n",
      "When time is : 410, get best_k: 38.949424185416554 best_b -114.9503407788581, and the loss is : 11995.759063430316\n",
      "When time is : 411, get best_k: 38.84942418541655 best_b -115.0503407788581, and the loss is : 11837.025643229767\n",
      "When time is : 412, get best_k: 38.74942418541655 best_b -115.1503407788581, and the loss is : 11679.363394896682\n",
      "When time is : 413, get best_k: 38.64942418541655 best_b -115.25034077885809, and the loss is : 11522.772318431085\n",
      "When time is : 414, get best_k: 38.54942418541655 best_b -115.35034077885808, and the loss is : 11367.252413832955\n",
      "When time is : 415, get best_k: 38.44942418541655 best_b -115.45034077885808, and the loss is : 11212.803681102276\n",
      "When time is : 416, get best_k: 38.349424185416545 best_b -115.55034077885807, and the loss is : 11059.426120239095\n",
      "When time is : 417, get best_k: 38.249424185416544 best_b -115.65034077885807, and the loss is : 10907.11973124336\n",
      "When time is : 418, get best_k: 38.14942418541654 best_b -115.75034077885806, and the loss is : 10755.884514115123\n",
      "When time is : 419, get best_k: 38.04942418541654 best_b -115.85034077885805, and the loss is : 10605.720468854333\n",
      "When time is : 420, get best_k: 37.94942418541654 best_b -115.95034077885805, and the loss is : 10456.627595461017\n",
      "When time is : 421, get best_k: 37.84942418541654 best_b -116.05034077885804, and the loss is : 10308.60589393518\n",
      "When time is : 422, get best_k: 37.74942418541654 best_b -116.15034077885804, and the loss is : 10161.655364276816\n",
      "When time is : 423, get best_k: 37.649424185416535 best_b -116.25034077885803, and the loss is : 10015.776006485912\n",
      "When time is : 424, get best_k: 37.549424185416534 best_b -116.35034077885803, and the loss is : 9870.967820562479\n",
      "When time is : 425, get best_k: 37.44942418541653 best_b -116.45034077885802, and the loss is : 9727.230806506517\n",
      "When time is : 426, get best_k: 37.34942418541653 best_b -116.55034077885801, and the loss is : 9584.564964318026\n",
      "When time is : 427, get best_k: 37.24942418541653 best_b -116.65034077885801, and the loss is : 9442.97029399701\n"
     ]
    },
    {
     "name": "stdout",
     "output_type": "stream",
     "text": [
      "When time is : 428, get best_k: 37.14942418541653 best_b -116.750340778858, and the loss is : 9302.44679554347\n",
      "When time is : 429, get best_k: 37.04942418541653 best_b -116.850340778858, and the loss is : 9162.994468957371\n",
      "When time is : 430, get best_k: 36.949424185416525 best_b -116.95034077885799, and the loss is : 9024.613314238777\n",
      "When time is : 431, get best_k: 36.849424185416524 best_b -117.05034077885799, and the loss is : 8887.303331387628\n",
      "When time is : 432, get best_k: 36.74942418541652 best_b -117.15034077885798, and the loss is : 8751.064520403965\n",
      "When time is : 433, get best_k: 36.64942418541652 best_b -117.25034077885798, and the loss is : 8615.89688128777\n",
      "When time is : 434, get best_k: 36.54942418541652 best_b -117.35034077885797, and the loss is : 8481.80041403904\n",
      "When time is : 435, get best_k: 36.44942418541652 best_b -117.45034077885796, and the loss is : 8348.775118657793\n",
      "When time is : 436, get best_k: 36.34942418541652 best_b -117.55034077885796, and the loss is : 8216.820995144\n",
      "When time is : 437, get best_k: 36.249424185416515 best_b -117.65034077885795, and the loss is : 8085.938043497686\n",
      "When time is : 438, get best_k: 36.149424185416514 best_b -117.75034077885795, and the loss is : 7956.12626371884\n",
      "When time is : 439, get best_k: 36.04942418541651 best_b -117.85034077885794, and the loss is : 7827.385655807458\n",
      "When time is : 440, get best_k: 35.94942418541651 best_b -117.95034077885794, and the loss is : 7699.716219763566\n",
      "When time is : 441, get best_k: 35.84942418541651 best_b -118.05034077885793, and the loss is : 7573.117955587119\n",
      "When time is : 442, get best_k: 35.74942418541651 best_b -118.15034077885792, and the loss is : 7447.590863278157\n",
      "When time is : 443, get best_k: 35.64942418541651 best_b -118.25034077885792, and the loss is : 7323.134942836661\n",
      "When time is : 444, get best_k: 35.549424185416505 best_b -118.35034077885791, and the loss is : 7199.75019426264\n",
      "When time is : 445, get best_k: 35.449424185416504 best_b -118.4503407788579, and the loss is : 7077.436617556088\n",
      "When time is : 446, get best_k: 35.3494241854165 best_b -118.5503407788579, and the loss is : 6956.194212717008\n",
      "When time is : 447, get best_k: 35.2494241854165 best_b -118.6503407788579, and the loss is : 6836.022979745402\n",
      "When time is : 448, get best_k: 35.1494241854165 best_b -118.75034077885789, and the loss is : 6716.922918641248\n",
      "When time is : 449, get best_k: 35.0494241854165 best_b -118.85034077885788, and the loss is : 6598.8940294045815\n",
      "When time is : 450, get best_k: 34.9494241854165 best_b -118.95034077885788, and the loss is : 6481.936312035389\n",
      "When time is : 451, get best_k: 34.849424185416495 best_b -119.05034077885787, and the loss is : 6366.049766533648\n",
      "When time is : 452, get best_k: 34.749424185416494 best_b -119.15034077885787, and the loss is : 6251.2343928993905\n",
      "When time is : 453, get best_k: 34.64942418541649 best_b -119.25034077885786, and the loss is : 6137.490191132598\n",
      "When time is : 454, get best_k: 34.54942418541649 best_b -119.35034077885786, and the loss is : 6024.817161233274\n",
      "When time is : 455, get best_k: 34.44942418541649 best_b -119.45034077885785, and the loss is : 5913.215303201421\n",
      "When time is : 456, get best_k: 34.34942418541649 best_b -119.55034077885784, and the loss is : 5802.684617037054\n",
      "When time is : 457, get best_k: 34.24942418541649 best_b -119.65034077885784, and the loss is : 5693.225102740144\n",
      "When time is : 458, get best_k: 34.149424185416485 best_b -119.75034077885783, and the loss is : 5584.836760310699\n",
      "When time is : 459, get best_k: 34.049424185416484 best_b -119.85034077885783, and the loss is : 5477.519589748729\n",
      "When time is : 460, get best_k: 33.94942418541648 best_b -119.95034077885782, and the loss is : 5371.273591054237\n",
      "When time is : 461, get best_k: 33.84942418541648 best_b -120.05034077885782, and the loss is : 5266.098764227209\n",
      "When time is : 462, get best_k: 33.74942418541648 best_b -120.15034077885781, and the loss is : 5161.99510926766\n",
      "When time is : 463, get best_k: 33.64942418541648 best_b -120.2503407788578, and the loss is : 5058.962626175563\n",
      "When time is : 464, get best_k: 33.54942418541648 best_b -120.3503407788578, and the loss is : 4957.001314950955\n",
      "When time is : 465, get best_k: 33.449424185416476 best_b -120.4503407788578, and the loss is : 4856.1111755938055\n",
      "When time is : 466, get best_k: 33.349424185416474 best_b -120.55034077885779, and the loss is : 4756.292208104128\n",
      "When time is : 467, get best_k: 33.24942418541647 best_b -120.65034077885778, and the loss is : 4657.54441248193\n",
      "When time is : 468, get best_k: 33.14942418541647 best_b -120.75034077885778, and the loss is : 4559.867788727191\n",
      "When time is : 469, get best_k: 33.04942418541647 best_b -120.85034077885777, and the loss is : 4463.26233683993\n",
      "When time is : 470, get best_k: 32.94942418541647 best_b -120.95034077885776, and the loss is : 4367.728056820137\n",
      "When time is : 471, get best_k: 32.84942418541647 best_b -121.05034077885776, and the loss is : 4273.26494866781\n",
      "When time is : 472, get best_k: 32.749424185416466 best_b -121.15034077885775, and the loss is : 4179.873012382954\n",
      "When time is : 473, get best_k: 32.649424185416464 best_b -121.25034077885775, and the loss is : 4087.5522479655774\n",
      "When time is : 474, get best_k: 32.54942418541646 best_b -121.35034077885774, and the loss is : 3996.302655415663\n",
      "When time is : 475, get best_k: 32.44942418541646 best_b -121.45034077885774, and the loss is : 3906.124234733224\n",
      "When time is : 476, get best_k: 32.34942418541646 best_b -121.55034077885773, and the loss is : 3817.016985918246\n",
      "When time is : 477, get best_k: 32.24942418541646 best_b -121.65034077885772, and the loss is : 3728.980908970745\n",
      "When time is : 478, get best_k: 32.14942418541646 best_b -121.75034077885772, and the loss is : 3642.0160038907156\n",
      "When time is : 479, get best_k: 32.049424185416456 best_b -121.85034077885771, and the loss is : 3556.122270678153\n",
      "When time is : 480, get best_k: 31.949424185416454 best_b -121.95034077885771, and the loss is : 3471.2997093330655\n",
      "When time is : 481, get best_k: 31.849424185416453 best_b -122.0503407788577, and the loss is : 3387.548319855449\n",
      "When time is : 482, get best_k: 31.74942418541645 best_b -122.1503407788577, and the loss is : 3304.8681022452934\n",
      "When time is : 483, get best_k: 31.64942418541645 best_b -122.25034077885769, and the loss is : 3223.2590565026153\n",
      "When time is : 484, get best_k: 31.54942418541645 best_b -122.35034077885769, and the loss is : 3142.7211826274083\n",
      "When time is : 485, get best_k: 31.449424185416447 best_b -122.45034077885768, and the loss is : 3063.254480619669\n",
      "When time is : 486, get best_k: 31.349424185416446 best_b -122.55034077885767, and the loss is : 2984.8589504794027\n",
      "When time is : 487, get best_k: 31.249424185416444 best_b -122.65034077885767, and the loss is : 2907.534592206601\n",
      "When time is : 488, get best_k: 31.149424185416443 best_b -122.75034077885766, and the loss is : 2831.281405801277\n",
      "When time is : 489, get best_k: 31.04942418541644 best_b -122.85034077885766, and the loss is : 2756.099391263422\n",
      "When time is : 490, get best_k: 30.94942418541644 best_b -122.95034077885765, and the loss is : 2681.988548593034\n",
      "When time is : 491, get best_k: 30.84942418541644 best_b -123.05034077885765, and the loss is : 2608.9488777901147\n",
      "When time is : 492, get best_k: 30.749424185416437 best_b -123.15034077885764, and the loss is : 2536.9803788546724\n",
      "When time is : 493, get best_k: 30.649424185416436 best_b -123.25034077885763, and the loss is : 2466.0830517866925\n",
      "When time is : 494, get best_k: 30.549424185416434 best_b -123.35034077885763, and the loss is : 2396.2568965861906\n",
      "When time is : 495, get best_k: 30.449424185416433 best_b -123.45034077885762, and the loss is : 2327.501913253156\n",
      "When time is : 496, get best_k: 30.34942418541643 best_b -123.55034077885762, and the loss is : 2259.8181017875945\n",
      "When time is : 497, get best_k: 30.24942418541643 best_b -123.65034077885761, and the loss is : 2193.2054621895004\n",
      "When time is : 498, get best_k: 30.14942418541643 best_b -123.7503407788576, and the loss is : 2127.6639944588737\n",
      "When time is : 499, get best_k: 30.049424185416427 best_b -123.8503407788576, and the loss is : 2063.1936985957204\n",
      "When time is : 500, get best_k: 29.949424185416426 best_b -123.9503407788576, and the loss is : 1999.7945746000364\n",
      "When time is : 501, get best_k: 29.849424185416424 best_b -124.05034077885759, and the loss is : 1937.466622471826\n",
      "When time is : 502, get best_k: 29.749424185416423 best_b -124.15034077885758, and the loss is : 1876.209842211083\n",
      "When time is : 503, get best_k: 29.64942418541642 best_b -124.25034077885758, and the loss is : 1816.0242338178111\n",
      "When time is : 504, get best_k: 29.54942418541642 best_b -124.35034077885757, and the loss is : 1756.9097972920097\n",
      "When time is : 505, get best_k: 29.44942418541642 best_b -124.45034077885757, and the loss is : 1698.8665326336784\n",
      "When time is : 506, get best_k: 29.349424185416417 best_b -124.55034077885756, and the loss is : 1641.894439842817\n",
      "When time is : 507, get best_k: 29.249424185416416 best_b -124.65034077885755, and the loss is : 1585.9935189194282\n",
      "When time is : 508, get best_k: 29.149424185416414 best_b -124.75034077885755, and the loss is : 1531.1637698635086\n",
      "When time is : 509, get best_k: 29.049424185416413 best_b -124.85034077885754, and the loss is : 1477.405192675057\n",
      "When time is : 510, get best_k: 28.94942418541641 best_b -124.95034077885754, and the loss is : 1424.7177873540804\n",
      "When time is : 511, get best_k: 28.84942418541641 best_b -125.05034077885753, and the loss is : 1373.1015539005705\n",
      "When time is : 512, get best_k: 28.74942418541641 best_b -125.15034077885753, and the loss is : 1322.5564923145325\n",
      "When time is : 513, get best_k: 28.649424185416407 best_b -125.25034077885752, and the loss is : 1273.0826025959648\n",
      "When time is : 514, get best_k: 28.549424185416406 best_b -125.35034077885751, and the loss is : 1224.679884744867\n",
      "When time is : 515, get best_k: 28.449424185416404 best_b -125.45034077885751, and the loss is : 1177.3483387612393\n",
      "When time is : 516, get best_k: 28.349424185416403 best_b -125.5503407788575, and the loss is : 1131.0879646450821\n",
      "When time is : 517, get best_k: 28.2494241854164 best_b -125.6503407788575, and the loss is : 1085.8987623963947\n",
      "When time is : 518, get best_k: 28.1494241854164 best_b -125.75034077885749, and the loss is : 1041.7807320151785\n",
      "When time is : 519, get best_k: 28.0494241854164 best_b -125.85034077885749, and the loss is : 998.7338735014318\n",
      "When time is : 520, get best_k: 27.949424185416397 best_b -125.95034077885748, and the loss is : 956.7581868551574\n",
      "When time is : 521, get best_k: 27.849424185416396 best_b -126.05034077885747, and the loss is : 915.8536720763509\n",
      "When time is : 522, get best_k: 27.749424185416395 best_b -126.15034077885747, and the loss is : 876.020329165017\n",
      "When time is : 523, get best_k: 27.649424185416393 best_b -126.25034077885746, and the loss is : 837.2581581211522\n",
      "When time is : 524, get best_k: 27.54942418541639 best_b -126.35034077885746, and the loss is : 799.5671589447579\n",
      "When time is : 525, get best_k: 27.44942418541639 best_b -126.45034077885745, and the loss is : 762.9473316358343\n",
      "When time is : 526, get best_k: 27.34942418541639 best_b -126.55034077885745, and the loss is : 727.3986761943811\n",
      "When time is : 527, get best_k: 27.249424185416387 best_b -126.65034077885744, and the loss is : 692.9211926203982\n",
      "When time is : 528, get best_k: 27.149424185416386 best_b -126.75034077885743, and the loss is : 659.5148809138861\n",
      "When time is : 529, get best_k: 27.049424185416385 best_b -126.85034077885743, and the loss is : 627.1797410748433\n",
      "When time is : 530, get best_k: 26.949424185416383 best_b -126.95034077885742, and the loss is : 595.9157731032711\n",
      "When time is : 531, get best_k: 26.84942418541638 best_b -127.05034077885742, and the loss is : 565.7229769991698\n",
      "When time is : 532, get best_k: 26.74942418541638 best_b -127.15034077885741, and the loss is : 536.6013527625386\n",
      "When time is : 533, get best_k: 26.64942418541638 best_b -127.2503407788574, and the loss is : 508.55090039337824\n",
      "When time is : 534, get best_k: 26.549424185416377 best_b -127.3503407788574, and the loss is : 481.57161989168736\n",
      "When time is : 535, get best_k: 26.449424185416376 best_b -127.4503407788574, and the loss is : 455.66351125746723\n",
      "When time is : 536, get best_k: 26.349424185416375 best_b -127.55034077885739, and the loss is : 430.82657449071763\n",
      "When time is : 537, get best_k: 26.249424185416373 best_b -127.65034077885738, and the loss is : 407.06080959143793\n",
      "When time is : 538, get best_k: 26.149424185416372 best_b -127.75034077885738, and the loss is : 384.36621655962927\n",
      "When time is : 539, get best_k: 26.04942418541637 best_b -127.85034077885737, and the loss is : 362.7427953952904\n",
      "When time is : 540, get best_k: 25.94942418541637 best_b -127.95034077885737, and the loss is : 342.19054609842226\n",
      "When time is : 541, get best_k: 25.849424185416368 best_b -128.05034077885736, and the loss is : 322.7094686690243\n",
      "When time is : 542, get best_k: 25.749424185416366 best_b -128.15034077885736, and the loss is : 304.29956310709684\n",
      "When time is : 543, get best_k: 25.649424185416365 best_b -128.25034077885735, and the loss is : 286.96082941264\n",
      "When time is : 544, get best_k: 25.549424185416363 best_b -128.35034077885734, and the loss is : 270.69326758565296\n",
      "When time is : 545, get best_k: 25.449424185416362 best_b -128.45034077885734, and the loss is : 255.49687762613647\n",
      "When time is : 546, get best_k: 25.34942418541636 best_b -128.55034077885733, and the loss is : 241.3716595340906\n",
      "When time is : 547, get best_k: 25.24942418541636 best_b -128.65034077885733, and the loss is : 228.31761330951483\n",
      "When time is : 548, get best_k: 25.149424185416358 best_b -128.75034077885732, and the loss is : 216.33473895240954\n",
      "When time is : 549, get best_k: 25.049424185416356 best_b -128.85034077885732, and the loss is : 205.42303646277446\n",
      "When time is : 550, get best_k: 24.949424185416355 best_b -128.9503407788573, and the loss is : 195.58250584060974\n",
      "When time is : 551, get best_k: 24.849424185416353 best_b -129.0503407788573, and the loss is : 186.81314708591543\n",
      "When time is : 552, get best_k: 24.749424185416352 best_b -129.1503407788573, and the loss is : 179.11496019869173\n",
      "When time is : 553, get best_k: 24.64942418541635 best_b -129.2503407788573, and the loss is : 172.48794517893816\n",
      "When time is : 554, get best_k: 24.54942418541635 best_b -129.3503407788573, and the loss is : 166.93210202665506\n",
      "When time is : 555, get best_k: 24.449424185416348 best_b -129.45034077885728, and the loss is : 162.44743074184217\n",
      "When time is : 556, get best_k: 24.349424185416346 best_b -129.55034077885728, and the loss is : 159.03393132449966\n",
      "When time is : 557, get best_k: 24.249424185416345 best_b -129.65034077885727, and the loss is : 156.69160377462774\n",
      "When time is : 558, get best_k: 24.149424185416343 best_b -129.75034077885726, and the loss is : 155.42044809222597\n",
      "When time is : 559, get best_k: 24.049424185416342 best_b -129.85034077885726, and the loss is : 155.22046427729484\n"
     ]
    }
   ],
   "source": [
    "#用方向来决定k,b的取值，而不是随机\n",
    "trying_times = 2000\n",
    "#初始化损失（无限大），k值，b值\n",
    "min_loss = float('inf')\n",
    "best_k = random.random() * 200 - 100\n",
    "best_b = random.random() * 200 - 100\n",
    "\n",
    "direction = [\n",
    "    (+1, -1),  # first element: k's change direction, second element: b's change direction\n",
    "    (+1, +1), \n",
    "    (-1, -1), \n",
    "    (-1, +1),\n",
    "]\n",
    "#随机选择方向\n",
    "next_direction = random.choice(direction)\n",
    "#确定步长\n",
    "scalar = 0.1\n",
    "\n",
    "for i in range(trying_times):\n",
    "    k_direction,b_direction = next_direction\n",
    "    current_k,current_b = best_k + k_direction*scalar, best_b + b_direction*scalar\n",
    "\n",
    "    price_by_random = [price(r,current_k,current_b) for r in X_rm]\n",
    "    \n",
    "    current_loss = loss(y,price_by_random)\n",
    "    \n",
    "    if current_loss < min_loss:\n",
    "        min_loss = current_loss\n",
    "        best_b, best_k = current_b,current_k\n",
    "        print('When time is : {}, get best_k: {} best_b {}, and the loss is : {}'\n",
    "              .format(i,best_k,best_b,min_loss))\n",
    "    else:\n",
    "        next_direction = random.choice(direction)"
   ]
  },
  {
   "cell_type": "code",
   "execution_count": null,
   "metadata": {},
   "outputs": [],
   "source": []
  },
  {
   "cell_type": "code",
   "execution_count": null,
   "metadata": {},
   "outputs": [],
   "source": []
  }
 ],
 "metadata": {
  "kernelspec": {
   "display_name": "Python 3",
   "language": "python",
   "name": "python3"
  },
  "language_info": {
   "codemirror_mode": {
    "name": "ipython",
    "version": 3
   },
   "file_extension": ".py",
   "mimetype": "text/x-python",
   "name": "python",
   "nbconvert_exporter": "python",
   "pygments_lexer": "ipython3",
   "version": "3.7.1"
  }
 },
 "nbformat": 4,
 "nbformat_minor": 2
}
